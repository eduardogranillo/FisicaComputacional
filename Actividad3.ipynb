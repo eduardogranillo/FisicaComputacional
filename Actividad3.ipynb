{
  "nbformat": 4,
  "nbformat_minor": 0,
  "metadata": {
    "colab": {
      "name": "Actividad3.ipynb",
      "provenance": [],
      "authorship_tag": "ABX9TyP6om6mXDsXoajRKtnpVluq",
      "include_colab_link": true
    },
    "kernelspec": {
      "name": "python3",
      "display_name": "Python 3"
    }
  },
  "cells": [
    {
      "cell_type": "markdown",
      "metadata": {
        "id": "view-in-github",
        "colab_type": "text"
      },
      "source": [
        "<a href=\"https://colab.research.google.com/github/eduardogranillo/FisicaComputacional/blob/master/Actividad3.ipynb\" target=\"_parent\"><img src=\"https://colab.research.google.com/assets/colab-badge.svg\" alt=\"Open In Colab\"/></a>"
      ]
    },
    {
      "cell_type": "markdown",
      "metadata": {
        "id": "fdVpkyKiSvos"
      },
      "source": [
        "**Actividad 3**\r\n",
        "\r\n",
        "**Eduardo Granillo**\r\n",
        "\r\n",
        "**Introducción a Pandas**"
      ]
    },
    {
      "cell_type": "markdown",
      "metadata": {
        "id": "ah_CTjs7SVP6"
      },
      "source": [
        "# Paso 1 y 2"
      ]
    },
    {
      "cell_type": "code",
      "metadata": {
        "id": "3dHI-gEbyCVS",
        "colab": {
          "base_uri": "https://localhost:8080/"
        },
        "outputId": "2e642958-2612-4664-c740-2eefc2bcb532"
      },
      "source": [
        "import numpy as np\r\n",
        "import pandas as pd\r\n",
        "\r\n",
        "url = 'https://raw.githubusercontent.com/eduardogranillo/FisicaComputacional/master/Actividad1/ClimatologiaDiaria.txt'\r\n",
        "df = pd.read_csv(url, skiprows=19)\r\n",
        "print(df.head(5))\r\n",
        "print(df)"
      ],
      "execution_count": null,
      "outputs": [
        {
          "output_type": "stream",
          "text": [
            "   01/01/1956  0     Nulo   Nulo   Nulo\n",
            "0  02/01/1956  0     Nulo   Nulo   Nulo\n",
            "1  03/01/1956  0     Nulo   Nulo   Nulo\n",
            "2  04/01/1956  0     Nulo   Nulo   Nulo\n",
            "3  05/01/1956  0     Nulo   Nulo   Nulo\n",
            "4  06/01/1956  0     Nulo   Nulo   Nulo\n",
            "         01/01/1956  0     Nulo   Nulo   Nulo\n",
            "0        02/01/1956  0     Nulo   Nulo   Nulo\n",
            "1        03/01/1956  0     Nulo   Nulo   Nulo\n",
            "2        04/01/1956  0     Nulo   Nulo   Nulo\n",
            "3        05/01/1956  0     Nulo   Nulo   Nulo\n",
            "4        06/01/1956  0     Nulo   Nulo   Nulo\n",
            "...                                       ...\n",
            "16058    27/06/2010  0      10.8   34.5   15 \n",
            "16059    28/06/2010  0      10.3   35.5   13 \n",
            "16060  29/06/2010  0      11.6   38     13.5 \n",
            "16061    30/06/2010  0      12.6   38     18 \n",
            "16062  --------------------------------------\n",
            "\n",
            "[16063 rows x 1 columns]\n"
          ],
          "name": "stdout"
        }
      ]
    },
    {
      "cell_type": "code",
      "metadata": {
        "id": "VgrImaEj-Xnp"
      },
      "source": [
        "import pandas as pd\r\n",
        "import numpy as np\r\n",
        "\r\n",
        "# Tomar la dirección URL del archivo en formato 'raw'\r\n",
        "url = 'https://raw.githubusercontent.com/eduardogranillo/FisicaComputacional/master/Actividad1/ClimatologiaDiaria.txt'\r\n",
        "\r\n",
        "# Definimos los nombres de las columnas\r\n",
        "# El archivo tiene códigos ASCII extendido (Español), encoding='cp1251' Windows (Europa Occidental)\r\n",
        "# El separador de datos es de uno o más espacios, sep='\\s+'\r\n",
        "# Se brincará los primeros 19 renglones y el último, afirmamos que no nay encabezado\r\n",
        "# Se procesan los datos utilizando Python, engine='python' \r\n",
        "my_cols = ['Fecha', 'Precip', 'Evap', 'Tmax', 'Tmin']\r\n",
        "df_dist = pd.read_csv(url, names=my_cols, encoding='cp1251', sep='\\s+', header=None, skiprows=19, skipfooter=1, engine='python')\r\n"
      ],
      "execution_count": null,
      "outputs": []
    },
    {
      "cell_type": "markdown",
      "metadata": {
        "id": "Du-D3BsDRj2W"
      },
      "source": [
        "# Paso 3"
      ]
    },
    {
      "cell_type": "code",
      "metadata": {
        "colab": {
          "base_uri": "https://localhost:8080/"
        },
        "id": "gg7n-MUd-hKC",
        "outputId": "b92f8dcc-2b6b-4e8c-ccec-98866c86bdbf"
      },
      "source": [
        "# Revisamos el encabezado y el final del dataframe\r\n",
        "print(df_dist.head(10))\r\n",
        "print(df_dist.tail(10))"
      ],
      "execution_count": null,
      "outputs": [
        {
          "output_type": "stream",
          "text": [
            "        Fecha Precip  Evap  Tmax  Tmin\n",
            "0  01/01/1956      0  Nulo  Nulo  Nulo\n",
            "1  02/01/1956      0  Nulo  Nulo  Nulo\n",
            "2  03/01/1956      0  Nulo  Nulo  Nulo\n",
            "3  04/01/1956      0  Nulo  Nulo  Nulo\n",
            "4  05/01/1956      0  Nulo  Nulo  Nulo\n",
            "5  06/01/1956      0  Nulo  Nulo  Nulo\n",
            "6  07/01/1956      0  Nulo  Nulo  Nulo\n",
            "7  08/01/1956      0  Nulo  Nulo  Nulo\n",
            "8  09/01/1956      0  Nulo  Nulo  Nulo\n",
            "9  10/01/1956      0  Nulo  Nulo  Nulo\n",
            "            Fecha Precip  Evap  Tmax  Tmin\n",
            "16053  21/06/2010      0  11.1  34.5    16\n",
            "16054  22/06/2010      0  10.5    34    17\n",
            "16055  23/06/2010      0  10.4    37    14\n",
            "16056  24/06/2010      0    12  36.5    16\n",
            "16057  25/06/2010   15.8  12.6  34.5    15\n",
            "16058  26/06/2010      0  10.8    33  14.5\n",
            "16059  27/06/2010      0  10.8  34.5    15\n",
            "16060  28/06/2010      0  10.3  35.5    13\n",
            "16061  29/06/2010      0  11.6    38  13.5\n",
            "16062  30/06/2010      0  12.6    38    18\n"
          ],
          "name": "stdout"
        }
      ]
    },
    {
      "cell_type": "code",
      "metadata": {
        "colab": {
          "base_uri": "https://localhost:8080/"
        },
        "id": "m3nis0vo-pz2",
        "outputId": "7bb9e812-1e86-4859-ba5a-b4bc1e1499e7"
      },
      "source": [
        "# Investigamos su tamaño con la función shape (renglones, columnas)\r\n",
        "df_dist.shape"
      ],
      "execution_count": null,
      "outputs": [
        {
          "output_type": "execute_result",
          "data": {
            "text/plain": [
              "(16063, 5)"
            ]
          },
          "metadata": {
            "tags": []
          },
          "execution_count": 9
        }
      ]
    },
    {
      "cell_type": "code",
      "metadata": {
        "colab": {
          "base_uri": "https://localhost:8080/"
        },
        "id": "2ijNpcz1GVRR",
        "outputId": "0fb4851a-85bd-4221-e7c8-fa0d6eb4cb2b"
      },
      "source": [
        "# Información del dataframe\r\n",
        "df_dist.info()"
      ],
      "execution_count": null,
      "outputs": [
        {
          "output_type": "stream",
          "text": [
            "<class 'pandas.core.frame.DataFrame'>\n",
            "RangeIndex: 16063 entries, 0 to 16062\n",
            "Data columns (total 5 columns):\n",
            " #   Column  Non-Null Count  Dtype \n",
            "---  ------  --------------  ----- \n",
            " 0   Fecha   16063 non-null  object\n",
            " 1   Precip  16063 non-null  object\n",
            " 2   Evap    16063 non-null  object\n",
            " 3   Tmax    16063 non-null  object\n",
            " 4   Tmin    16063 non-null  object\n",
            "dtypes: object(5)\n",
            "memory usage: 627.6+ KB\n"
          ],
          "name": "stdout"
        }
      ]
    },
    {
      "cell_type": "code",
      "metadata": {
        "colab": {
          "base_uri": "https://localhost:8080/",
          "height": 195
        },
        "id": "_K0iIapeHG8B",
        "outputId": "439e5eab-c3a7-443d-f841-67597acbfd00"
      },
      "source": [
        "# Hacemos una copia de trabajo y preservamos el dataframe original\r\n",
        "df_work0 = df_dist.copy()\r\n",
        "df_work0.head()"
      ],
      "execution_count": null,
      "outputs": [
        {
          "output_type": "execute_result",
          "data": {
            "text/html": [
              "<div>\n",
              "<style scoped>\n",
              "    .dataframe tbody tr th:only-of-type {\n",
              "        vertical-align: middle;\n",
              "    }\n",
              "\n",
              "    .dataframe tbody tr th {\n",
              "        vertical-align: top;\n",
              "    }\n",
              "\n",
              "    .dataframe thead th {\n",
              "        text-align: right;\n",
              "    }\n",
              "</style>\n",
              "<table border=\"1\" class=\"dataframe\">\n",
              "  <thead>\n",
              "    <tr style=\"text-align: right;\">\n",
              "      <th></th>\n",
              "      <th>Fecha</th>\n",
              "      <th>Precip</th>\n",
              "      <th>Evap</th>\n",
              "      <th>Tmax</th>\n",
              "      <th>Tmin</th>\n",
              "    </tr>\n",
              "  </thead>\n",
              "  <tbody>\n",
              "    <tr>\n",
              "      <th>0</th>\n",
              "      <td>01/01/1956</td>\n",
              "      <td>0</td>\n",
              "      <td>Nulo</td>\n",
              "      <td>Nulo</td>\n",
              "      <td>Nulo</td>\n",
              "    </tr>\n",
              "    <tr>\n",
              "      <th>1</th>\n",
              "      <td>02/01/1956</td>\n",
              "      <td>0</td>\n",
              "      <td>Nulo</td>\n",
              "      <td>Nulo</td>\n",
              "      <td>Nulo</td>\n",
              "    </tr>\n",
              "    <tr>\n",
              "      <th>2</th>\n",
              "      <td>03/01/1956</td>\n",
              "      <td>0</td>\n",
              "      <td>Nulo</td>\n",
              "      <td>Nulo</td>\n",
              "      <td>Nulo</td>\n",
              "    </tr>\n",
              "    <tr>\n",
              "      <th>3</th>\n",
              "      <td>04/01/1956</td>\n",
              "      <td>0</td>\n",
              "      <td>Nulo</td>\n",
              "      <td>Nulo</td>\n",
              "      <td>Nulo</td>\n",
              "    </tr>\n",
              "    <tr>\n",
              "      <th>4</th>\n",
              "      <td>05/01/1956</td>\n",
              "      <td>0</td>\n",
              "      <td>Nulo</td>\n",
              "      <td>Nulo</td>\n",
              "      <td>Nulo</td>\n",
              "    </tr>\n",
              "  </tbody>\n",
              "</table>\n",
              "</div>"
            ],
            "text/plain": [
              "        Fecha Precip  Evap  Tmax  Tmin\n",
              "0  01/01/1956      0  Nulo  Nulo  Nulo\n",
              "1  02/01/1956      0  Nulo  Nulo  Nulo\n",
              "2  03/01/1956      0  Nulo  Nulo  Nulo\n",
              "3  04/01/1956      0  Nulo  Nulo  Nulo\n",
              "4  05/01/1956      0  Nulo  Nulo  Nulo"
            ]
          },
          "metadata": {
            "tags": []
          },
          "execution_count": 11
        }
      ]
    },
    {
      "cell_type": "code",
      "metadata": {
        "colab": {
          "base_uri": "https://localhost:8080/",
          "height": 195
        },
        "id": "wjz9-r_oHiuh",
        "outputId": "eb528dad-b3a4-4b01-8720-6a5e6344d02d"
      },
      "source": [
        "# Reemplazamos los textos 'Nulo' por espacio en blanco ''\r\n",
        "str_Nulo = 'Nulo'\r\n",
        "df_work1 = df_work0.replace(to_replace=str_Nulo, value='', regex=True)\r\n",
        "df_work1.head()\r\n"
      ],
      "execution_count": null,
      "outputs": [
        {
          "output_type": "execute_result",
          "data": {
            "text/html": [
              "<div>\n",
              "<style scoped>\n",
              "    .dataframe tbody tr th:only-of-type {\n",
              "        vertical-align: middle;\n",
              "    }\n",
              "\n",
              "    .dataframe tbody tr th {\n",
              "        vertical-align: top;\n",
              "    }\n",
              "\n",
              "    .dataframe thead th {\n",
              "        text-align: right;\n",
              "    }\n",
              "</style>\n",
              "<table border=\"1\" class=\"dataframe\">\n",
              "  <thead>\n",
              "    <tr style=\"text-align: right;\">\n",
              "      <th></th>\n",
              "      <th>Fecha</th>\n",
              "      <th>Precip</th>\n",
              "      <th>Evap</th>\n",
              "      <th>Tmax</th>\n",
              "      <th>Tmin</th>\n",
              "    </tr>\n",
              "  </thead>\n",
              "  <tbody>\n",
              "    <tr>\n",
              "      <th>0</th>\n",
              "      <td>01/01/1956</td>\n",
              "      <td>0</td>\n",
              "      <td></td>\n",
              "      <td></td>\n",
              "      <td></td>\n",
              "    </tr>\n",
              "    <tr>\n",
              "      <th>1</th>\n",
              "      <td>02/01/1956</td>\n",
              "      <td>0</td>\n",
              "      <td></td>\n",
              "      <td></td>\n",
              "      <td></td>\n",
              "    </tr>\n",
              "    <tr>\n",
              "      <th>2</th>\n",
              "      <td>03/01/1956</td>\n",
              "      <td>0</td>\n",
              "      <td></td>\n",
              "      <td></td>\n",
              "      <td></td>\n",
              "    </tr>\n",
              "    <tr>\n",
              "      <th>3</th>\n",
              "      <td>04/01/1956</td>\n",
              "      <td>0</td>\n",
              "      <td></td>\n",
              "      <td></td>\n",
              "      <td></td>\n",
              "    </tr>\n",
              "    <tr>\n",
              "      <th>4</th>\n",
              "      <td>05/01/1956</td>\n",
              "      <td>0</td>\n",
              "      <td></td>\n",
              "      <td></td>\n",
              "      <td></td>\n",
              "    </tr>\n",
              "  </tbody>\n",
              "</table>\n",
              "</div>"
            ],
            "text/plain": [
              "        Fecha Precip Evap Tmax Tmin\n",
              "0  01/01/1956      0               \n",
              "1  02/01/1956      0               \n",
              "2  03/01/1956      0               \n",
              "3  04/01/1956      0               \n",
              "4  05/01/1956      0               "
            ]
          },
          "metadata": {
            "tags": []
          },
          "execution_count": 12
        }
      ]
    },
    {
      "cell_type": "code",
      "metadata": {
        "colab": {
          "base_uri": "https://localhost:8080/"
        },
        "id": "JN7nIpHtIDuY",
        "outputId": "75ac92f5-a17e-457e-dfa5-0dfd1a2fdefa"
      },
      "source": [
        "# Imprimimos la información actualizada del dataframe\r\n",
        "df_work1.info()\r\n",
        "print(df_work1.head())"
      ],
      "execution_count": null,
      "outputs": [
        {
          "output_type": "stream",
          "text": [
            "<class 'pandas.core.frame.DataFrame'>\n",
            "RangeIndex: 16063 entries, 0 to 16062\n",
            "Data columns (total 5 columns):\n",
            " #   Column  Non-Null Count  Dtype \n",
            "---  ------  --------------  ----- \n",
            " 0   Fecha   16063 non-null  object\n",
            " 1   Precip  16063 non-null  object\n",
            " 2   Evap    16063 non-null  object\n",
            " 3   Tmax    16063 non-null  object\n",
            " 4   Tmin    16063 non-null  object\n",
            "dtypes: object(5)\n",
            "memory usage: 627.6+ KB\n",
            "        Fecha Precip Evap Tmax Tmin\n",
            "0  01/01/1956      0               \n",
            "1  02/01/1956      0               \n",
            "2  03/01/1956      0               \n",
            "3  04/01/1956      0               \n",
            "4  05/01/1956      0               \n"
          ],
          "name": "stdout"
        }
      ]
    },
    {
      "cell_type": "code",
      "metadata": {
        "colab": {
          "base_uri": "https://localhost:8080/"
        },
        "id": "eleAw9R_IiG1",
        "outputId": "b1e29a57-490f-4809-991b-8bd4f4451419"
      },
      "source": [
        "# Deseamos convertir los valores de las variables ambientales a núm. flotantes \r\n",
        "cols_list = ['Precip', 'Evap', 'Tmax', 'Tmin']\r\n",
        "for cols in cols_list:\r\n",
        "  df_work1[cols] = pd.to_numeric(df_work1[cols], errors='coerce')\r\n",
        "\r\n",
        "df_work1.info()\r\n",
        "\r\n"
      ],
      "execution_count": null,
      "outputs": [
        {
          "output_type": "stream",
          "text": [
            "<class 'pandas.core.frame.DataFrame'>\n",
            "RangeIndex: 16063 entries, 0 to 16062\n",
            "Data columns (total 5 columns):\n",
            " #   Column  Non-Null Count  Dtype  \n",
            "---  ------  --------------  -----  \n",
            " 0   Fecha   16063 non-null  object \n",
            " 1   Precip  16058 non-null  float64\n",
            " 2   Evap    10094 non-null  float64\n",
            " 3   Tmax    15199 non-null  float64\n",
            " 4   Tmin    15191 non-null  float64\n",
            "dtypes: float64(4), object(1)\n",
            "memory usage: 627.6+ KB\n"
          ],
          "name": "stdout"
        }
      ]
    },
    {
      "cell_type": "code",
      "metadata": {
        "colab": {
          "base_uri": "https://localhost:8080/"
        },
        "id": "H_yoqRjKIvtC",
        "outputId": "21a56acf-ebbf-4626-900a-059ccf0a54c9"
      },
      "source": [
        "# De la instrucción anterior, vemos que hay valores faltantes. Sumamos los valores nulos. \r\n",
        "df_work1.isnull().sum()\r\n"
      ],
      "execution_count": null,
      "outputs": [
        {
          "output_type": "execute_result",
          "data": {
            "text/plain": [
              "Fecha        0\n",
              "Precip       5\n",
              "Evap      5969\n",
              "Tmax       864\n",
              "Tmin       872\n",
              "dtype: int64"
            ]
          },
          "metadata": {
            "tags": []
          },
          "execution_count": 19
        }
      ]
    },
    {
      "cell_type": "code",
      "metadata": {
        "colab": {
          "base_uri": "https://localhost:8080/"
        },
        "id": "Q843xZYwJpD6",
        "outputId": "565858bb-5e2e-4c93-c2f0-531fe905b20a"
      },
      "source": [
        "print(df_work1.head(10))\r\n",
        "print(df_work1.tail(10))\r\n"
      ],
      "execution_count": null,
      "outputs": [
        {
          "output_type": "stream",
          "text": [
            "        Fecha  Precip  Evap  Tmax  Tmin\n",
            "0  01/01/1956     0.0   NaN   NaN   NaN\n",
            "1  02/01/1956     0.0   NaN   NaN   NaN\n",
            "2  03/01/1956     0.0   NaN   NaN   NaN\n",
            "3  04/01/1956     0.0   NaN   NaN   NaN\n",
            "4  05/01/1956     0.0   NaN   NaN   NaN\n",
            "5  06/01/1956     0.0   NaN   NaN   NaN\n",
            "6  07/01/1956     0.0   NaN   NaN   NaN\n",
            "7  08/01/1956     0.0   NaN   NaN   NaN\n",
            "8  09/01/1956     0.0   NaN   NaN   NaN\n",
            "9  10/01/1956     0.0   NaN   NaN   NaN\n",
            "            Fecha  Precip  Evap  Tmax  Tmin\n",
            "16053  21/06/2010     0.0  11.1  34.5  16.0\n",
            "16054  22/06/2010     0.0  10.5  34.0  17.0\n",
            "16055  23/06/2010     0.0  10.4  37.0  14.0\n",
            "16056  24/06/2010     0.0  12.0  36.5  16.0\n",
            "16057  25/06/2010    15.8  12.6  34.5  15.0\n",
            "16058  26/06/2010     0.0  10.8  33.0  14.5\n",
            "16059  27/06/2010     0.0  10.8  34.5  15.0\n",
            "16060  28/06/2010     0.0  10.3  35.5  13.0\n",
            "16061  29/06/2010     0.0  11.6  38.0  13.5\n",
            "16062  30/06/2010     0.0  12.6  38.0  18.0\n"
          ],
          "name": "stdout"
        }
      ]
    },
    {
      "cell_type": "code",
      "metadata": {
        "colab": {
          "base_uri": "https://localhost:8080/",
          "height": 284
        },
        "id": "9MJR6NOIJ94B",
        "outputId": "5a2261c2-0fa7-4c28-e71e-dbd91221a452"
      },
      "source": [
        "# Un análisis estadístico breve de las variables numéricas redondeado a 2 cifras significativas\r\n",
        "df_work1.describe().round(2)"
      ],
      "execution_count": null,
      "outputs": [
        {
          "output_type": "execute_result",
          "data": {
            "text/html": [
              "<div>\n",
              "<style scoped>\n",
              "    .dataframe tbody tr th:only-of-type {\n",
              "        vertical-align: middle;\n",
              "    }\n",
              "\n",
              "    .dataframe tbody tr th {\n",
              "        vertical-align: top;\n",
              "    }\n",
              "\n",
              "    .dataframe thead th {\n",
              "        text-align: right;\n",
              "    }\n",
              "</style>\n",
              "<table border=\"1\" class=\"dataframe\">\n",
              "  <thead>\n",
              "    <tr style=\"text-align: right;\">\n",
              "      <th></th>\n",
              "      <th>Precip</th>\n",
              "      <th>Evap</th>\n",
              "      <th>Tmax</th>\n",
              "      <th>Tmin</th>\n",
              "    </tr>\n",
              "  </thead>\n",
              "  <tbody>\n",
              "    <tr>\n",
              "      <th>count</th>\n",
              "      <td>16058.00</td>\n",
              "      <td>10094.00</td>\n",
              "      <td>15199.00</td>\n",
              "      <td>15191.00</td>\n",
              "    </tr>\n",
              "    <tr>\n",
              "      <th>mean</th>\n",
              "      <td>2.43</td>\n",
              "      <td>4.53</td>\n",
              "      <td>23.70</td>\n",
              "      <td>4.96</td>\n",
              "    </tr>\n",
              "    <tr>\n",
              "      <th>std</th>\n",
              "      <td>7.57</td>\n",
              "      <td>2.64</td>\n",
              "      <td>6.34</td>\n",
              "      <td>7.35</td>\n",
              "    </tr>\n",
              "    <tr>\n",
              "      <th>min</th>\n",
              "      <td>0.00</td>\n",
              "      <td>0.00</td>\n",
              "      <td>-3.00</td>\n",
              "      <td>-14.50</td>\n",
              "    </tr>\n",
              "    <tr>\n",
              "      <th>25%</th>\n",
              "      <td>0.00</td>\n",
              "      <td>2.50</td>\n",
              "      <td>19.50</td>\n",
              "      <td>-1.00</td>\n",
              "    </tr>\n",
              "    <tr>\n",
              "      <th>50%</th>\n",
              "      <td>0.00</td>\n",
              "      <td>3.90</td>\n",
              "      <td>24.50</td>\n",
              "      <td>4.50</td>\n",
              "    </tr>\n",
              "    <tr>\n",
              "      <th>75%</th>\n",
              "      <td>0.00</td>\n",
              "      <td>6.20</td>\n",
              "      <td>28.00</td>\n",
              "      <td>12.00</td>\n",
              "    </tr>\n",
              "    <tr>\n",
              "      <th>max</th>\n",
              "      <td>140.00</td>\n",
              "      <td>17.70</td>\n",
              "      <td>42.50</td>\n",
              "      <td>23.00</td>\n",
              "    </tr>\n",
              "  </tbody>\n",
              "</table>\n",
              "</div>"
            ],
            "text/plain": [
              "         Precip      Evap      Tmax      Tmin\n",
              "count  16058.00  10094.00  15199.00  15191.00\n",
              "mean       2.43      4.53     23.70      4.96\n",
              "std        7.57      2.64      6.34      7.35\n",
              "min        0.00      0.00     -3.00    -14.50\n",
              "25%        0.00      2.50     19.50     -1.00\n",
              "50%        0.00      3.90     24.50      4.50\n",
              "75%        0.00      6.20     28.00     12.00\n",
              "max      140.00     17.70     42.50     23.00"
            ]
          },
          "metadata": {
            "tags": []
          },
          "execution_count": 25
        }
      ]
    },
    {
      "cell_type": "markdown",
      "metadata": {
        "id": "Z9pN35E3NwfQ"
      },
      "source": [
        "# Paso 4"
      ]
    },
    {
      "cell_type": "code",
      "metadata": {
        "colab": {
          "base_uri": "https://localhost:8080/"
        },
        "id": "7TchvT5SN1UT",
        "outputId": "89b5c9b3-310c-4542-bdfc-7bd023d297dc"
      },
      "source": [
        "# Volvemos a hacer una pausa y definimos un nuevo dataframe por si hay que regresarse.\r\n",
        "df_work2 = df_work1.copy()\r\n",
        "df_work2['Fecha'].head()"
      ],
      "execution_count": null,
      "outputs": [
        {
          "output_type": "execute_result",
          "data": {
            "text/plain": [
              "0    01/01/1956\n",
              "1    02/01/1956\n",
              "2    03/01/1956\n",
              "3    04/01/1956\n",
              "4    05/01/1956\n",
              "Name: Fecha, dtype: object"
            ]
          },
          "metadata": {
            "tags": []
          },
          "execution_count": 26
        }
      ]
    },
    {
      "cell_type": "code",
      "metadata": {
        "colab": {
          "base_uri": "https://localhost:8080/"
        },
        "id": "UmP6GYGhOhgV",
        "outputId": "f3da668e-3df6-4139-b4b4-670aef12417c"
      },
      "source": [
        "# Pandas tiene la función pd.to_datetime que convierte una cadena en tipo datetime64[ns]\r\n",
        "# Intentamos a ver si Python reconoce el formato en nuestro caso. \r\n",
        "# Agregamos la opción de que el primer dato es el día (dayfirst=True)\r\n",
        "df_work2['Fecha']=pd.to_datetime(df_work2['Fecha'], dayfirst=True).copy()\r\n",
        "print(df_work1.head())"
      ],
      "execution_count": null,
      "outputs": [
        {
          "output_type": "stream",
          "text": [
            "        Fecha  Precip  Evap  Tmax  Tmin\n",
            "0  01/01/1956     0.0   NaN   NaN   NaN\n",
            "1  02/01/1956     0.0   NaN   NaN   NaN\n",
            "2  03/01/1956     0.0   NaN   NaN   NaN\n",
            "3  04/01/1956     0.0   NaN   NaN   NaN\n",
            "4  05/01/1956     0.0   NaN   NaN   NaN\n"
          ],
          "name": "stdout"
        }
      ]
    },
    {
      "cell_type": "code",
      "metadata": {
        "colab": {
          "base_uri": "https://localhost:8080/"
        },
        "id": "m537t2Q7Onhu",
        "outputId": "0071458a-d73e-47a5-c48d-2dd2f2153cb5"
      },
      "source": [
        "# Verificamos que cada variable (columna), sea del tipo que esperamos.\r\n",
        "# Observamos que la variable Fecha es de tipo 'datetime64[ns]'  \r\n",
        "df_work2.dtypes"
      ],
      "execution_count": null,
      "outputs": [
        {
          "output_type": "execute_result",
          "data": {
            "text/plain": [
              "Fecha     datetime64[ns]\n",
              "Precip           float64\n",
              "Evap             float64\n",
              "Tmax             float64\n",
              "Tmin             float64\n",
              "dtype: object"
            ]
          },
          "metadata": {
            "tags": []
          },
          "execution_count": 28
        }
      ]
    },
    {
      "cell_type": "code",
      "metadata": {
        "id": "3VzRvWHKO5U8"
      },
      "source": [
        "# Buscamos ahora añadir dos columnas adicionales: df['Año'], df['Mes']\r\n",
        "# Usaremos la función .dt.year y .dt.month para extraer el Año y Mes de la Fecha\r\n",
        "df_work2['Año'] = df_work2['Fecha'].dt.year\r\n",
        "df_work2['Mes'] = df_work2['Fecha'].dt.month\r\n"
      ],
      "execution_count": null,
      "outputs": []
    },
    {
      "cell_type": "code",
      "metadata": {
        "colab": {
          "base_uri": "https://localhost:8080/"
        },
        "id": "Nqq3oH_xO-aY",
        "outputId": "34ace50d-9bd0-473f-c8c9-03caa0dec60e"
      },
      "source": [
        "# Verificamos que se hayan creado de forma correcta\r\n",
        "# Tendremos ahora dos columnas adicionales que podemos utilizar para filtrar información.\r\n",
        "print(df_work2.head(10))\r\n",
        "print(df_work2.tail(10))\r\n"
      ],
      "execution_count": null,
      "outputs": [
        {
          "output_type": "stream",
          "text": [
            "       Fecha  Precip  Evap  Tmax  Tmin   Año  Mes\n",
            "0 1956-01-01     0.0   NaN   NaN   NaN  1956    1\n",
            "1 1956-01-02     0.0   NaN   NaN   NaN  1956    1\n",
            "2 1956-01-03     0.0   NaN   NaN   NaN  1956    1\n",
            "3 1956-01-04     0.0   NaN   NaN   NaN  1956    1\n",
            "4 1956-01-05     0.0   NaN   NaN   NaN  1956    1\n",
            "5 1956-01-06     0.0   NaN   NaN   NaN  1956    1\n",
            "6 1956-01-07     0.0   NaN   NaN   NaN  1956    1\n",
            "7 1956-01-08     0.0   NaN   NaN   NaN  1956    1\n",
            "8 1956-01-09     0.0   NaN   NaN   NaN  1956    1\n",
            "9 1956-01-10     0.0   NaN   NaN   NaN  1956    1\n",
            "           Fecha  Precip  Evap  Tmax  Tmin   Año  Mes\n",
            "16053 2010-06-21     0.0  11.1  34.5  16.0  2010    6\n",
            "16054 2010-06-22     0.0  10.5  34.0  17.0  2010    6\n",
            "16055 2010-06-23     0.0  10.4  37.0  14.0  2010    6\n",
            "16056 2010-06-24     0.0  12.0  36.5  16.0  2010    6\n",
            "16057 2010-06-25    15.8  12.6  34.5  15.0  2010    6\n",
            "16058 2010-06-26     0.0  10.8  33.0  14.5  2010    6\n",
            "16059 2010-06-27     0.0  10.8  34.5  15.0  2010    6\n",
            "16060 2010-06-28     0.0  10.3  35.5  13.0  2010    6\n",
            "16061 2010-06-29     0.0  11.6  38.0  13.5  2010    6\n",
            "16062 2010-06-30     0.0  12.6  38.0  18.0  2010    6\n"
          ],
          "name": "stdout"
        }
      ]
    },
    {
      "cell_type": "code",
      "metadata": {
        "colab": {
          "base_uri": "https://localhost:8080/"
        },
        "id": "CsL2kc2xPdLb",
        "outputId": "e0054ff4-5faa-438e-aadc-bd226ecafd57"
      },
      "source": [
        "# Verificamos que Año y Mes son variables enteras.\r\n",
        "df_work2.info()"
      ],
      "execution_count": null,
      "outputs": [
        {
          "output_type": "stream",
          "text": [
            "<class 'pandas.core.frame.DataFrame'>\n",
            "RangeIndex: 16063 entries, 0 to 16062\n",
            "Data columns (total 7 columns):\n",
            " #   Column  Non-Null Count  Dtype         \n",
            "---  ------  --------------  -----         \n",
            " 0   Fecha   16063 non-null  datetime64[ns]\n",
            " 1   Precip  16058 non-null  float64       \n",
            " 2   Evap    10094 non-null  float64       \n",
            " 3   Tmax    15199 non-null  float64       \n",
            " 4   Tmin    15191 non-null  float64       \n",
            " 5   Año     16063 non-null  int64         \n",
            " 6   Mes     16063 non-null  int64         \n",
            "dtypes: datetime64[ns](1), float64(4), int64(2)\n",
            "memory usage: 878.6 KB\n"
          ],
          "name": "stdout"
        }
      ]
    }
  ]
}