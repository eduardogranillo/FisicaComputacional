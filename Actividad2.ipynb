{
  "nbformat": 4,
  "nbformat_minor": 0,
  "metadata": {
    "colab": {
      "name": "Actividad2.ipynb",
      "provenance": [],
      "collapsed_sections": [],
      "authorship_tag": "ABX9TyNmFNIk/sKMZY/z2j5jYUfq",
      "include_colab_link": true
    },
    "kernelspec": {
      "name": "python3",
      "display_name": "Python 3"
    }
  },
  "cells": [
    {
      "cell_type": "markdown",
      "metadata": {
        "id": "view-in-github",
        "colab_type": "text"
      },
      "source": [
        "<a href=\"https://colab.research.google.com/github/eduardogranillo/FisicaComputacional/blob/master/Actividad2.ipynb\" target=\"_parent\"><img src=\"https://colab.research.google.com/assets/colab-badge.svg\" alt=\"Open In Colab\"/></a>"
      ]
    },
    {
      "cell_type": "markdown",
      "metadata": {
        "id": "PBBufNr0I4Zu"
      },
      "source": [
        "**Actividad 2 - Física Computacional** \\\\\r\n",
        "Eduardo Granillo Luna\r\n"
      ]
    },
    {
      "cell_type": "markdown",
      "metadata": {
        "id": "GGfM0IQHNoE4"
      },
      "source": [
        "# **Parte 1 - Ejercicios 1, 2, 3 y 4**"
      ]
    },
    {
      "cell_type": "markdown",
      "metadata": {
        "id": "7p3ojhe1Iwhd"
      },
      "source": [
        "**Ejercicio 1.** Se proporciona el siguiente programa para calcular el área de un rectángulo: "
      ]
    },
    {
      "cell_type": "code",
      "metadata": {
        "colab": {
          "base_uri": "https://localhost:8080/",
          "height": 538
        },
        "id": "6O0qjXUTqVsq",
        "outputId": "bbf1705e-d004-4cde-dd44-419d7ee6551d"
      },
      "source": [
        "# Se define una función de 2 variables para calcular el área.  \r\n",
        "def area(x, y):\r\n",
        "    return x*y\r\n",
        "\r\n",
        "print(\"Proporciona el largo y altura del rectángulo:\", end=\"\")\r\n",
        "l = float(input())\r\n",
        "w = float(input())\r\n",
        "a = area(l, w)\r\n",
        "# Imprime el valor del área en formato libre.\r\n",
        "print(\"\\nArea = \", a)\r\n",
        "# Imprime el valor del área con 2 decimales. \r\n",
        "print(\"\\nArea = {:.2f}\".format(a))\r\n"
      ],
      "execution_count": null,
      "outputs": [
        {
          "output_type": "stream",
          "text": [
            "Proporciona el largo y altura del rectángulo:"
          ],
          "name": "stdout"
        },
        {
          "output_type": "error",
          "ename": "KeyboardInterrupt",
          "evalue": "ignored",
          "traceback": [
            "\u001b[0;31m---------------------------------------------------------------------------\u001b[0m",
            "\u001b[0;31mKeyboardInterrupt\u001b[0m                         Traceback (most recent call last)",
            "\u001b[0;32m/usr/local/lib/python3.6/dist-packages/ipykernel/kernelbase.py\u001b[0m in \u001b[0;36m_input_request\u001b[0;34m(self, prompt, ident, parent, password)\u001b[0m\n\u001b[1;32m    728\u001b[0m             \u001b[0;32mtry\u001b[0m\u001b[0;34m:\u001b[0m\u001b[0;34m\u001b[0m\u001b[0;34m\u001b[0m\u001b[0m\n\u001b[0;32m--> 729\u001b[0;31m                 \u001b[0mident\u001b[0m\u001b[0;34m,\u001b[0m \u001b[0mreply\u001b[0m \u001b[0;34m=\u001b[0m \u001b[0mself\u001b[0m\u001b[0;34m.\u001b[0m\u001b[0msession\u001b[0m\u001b[0;34m.\u001b[0m\u001b[0mrecv\u001b[0m\u001b[0;34m(\u001b[0m\u001b[0mself\u001b[0m\u001b[0;34m.\u001b[0m\u001b[0mstdin_socket\u001b[0m\u001b[0;34m,\u001b[0m \u001b[0;36m0\u001b[0m\u001b[0;34m)\u001b[0m\u001b[0;34m\u001b[0m\u001b[0;34m\u001b[0m\u001b[0m\n\u001b[0m\u001b[1;32m    730\u001b[0m             \u001b[0;32mexcept\u001b[0m \u001b[0mException\u001b[0m\u001b[0;34m:\u001b[0m\u001b[0;34m\u001b[0m\u001b[0;34m\u001b[0m\u001b[0m\n",
            "\u001b[0;32m/usr/local/lib/python3.6/dist-packages/jupyter_client/session.py\u001b[0m in \u001b[0;36mrecv\u001b[0;34m(self, socket, mode, content, copy)\u001b[0m\n\u001b[1;32m    802\u001b[0m         \u001b[0;32mtry\u001b[0m\u001b[0;34m:\u001b[0m\u001b[0;34m\u001b[0m\u001b[0;34m\u001b[0m\u001b[0m\n\u001b[0;32m--> 803\u001b[0;31m             \u001b[0mmsg_list\u001b[0m \u001b[0;34m=\u001b[0m \u001b[0msocket\u001b[0m\u001b[0;34m.\u001b[0m\u001b[0mrecv_multipart\u001b[0m\u001b[0;34m(\u001b[0m\u001b[0mmode\u001b[0m\u001b[0;34m,\u001b[0m \u001b[0mcopy\u001b[0m\u001b[0;34m=\u001b[0m\u001b[0mcopy\u001b[0m\u001b[0;34m)\u001b[0m\u001b[0;34m\u001b[0m\u001b[0;34m\u001b[0m\u001b[0m\n\u001b[0m\u001b[1;32m    804\u001b[0m         \u001b[0;32mexcept\u001b[0m \u001b[0mzmq\u001b[0m\u001b[0;34m.\u001b[0m\u001b[0mZMQError\u001b[0m \u001b[0;32mas\u001b[0m \u001b[0me\u001b[0m\u001b[0;34m:\u001b[0m\u001b[0;34m\u001b[0m\u001b[0;34m\u001b[0m\u001b[0m\n",
            "\u001b[0;32m/usr/local/lib/python3.6/dist-packages/zmq/sugar/socket.py\u001b[0m in \u001b[0;36mrecv_multipart\u001b[0;34m(self, flags, copy, track)\u001b[0m\n\u001b[1;32m    565\u001b[0m         \"\"\"\n\u001b[0;32m--> 566\u001b[0;31m         \u001b[0mparts\u001b[0m \u001b[0;34m=\u001b[0m \u001b[0;34m[\u001b[0m\u001b[0mself\u001b[0m\u001b[0;34m.\u001b[0m\u001b[0mrecv\u001b[0m\u001b[0;34m(\u001b[0m\u001b[0mflags\u001b[0m\u001b[0;34m,\u001b[0m \u001b[0mcopy\u001b[0m\u001b[0;34m=\u001b[0m\u001b[0mcopy\u001b[0m\u001b[0;34m,\u001b[0m \u001b[0mtrack\u001b[0m\u001b[0;34m=\u001b[0m\u001b[0mtrack\u001b[0m\u001b[0;34m)\u001b[0m\u001b[0;34m]\u001b[0m\u001b[0;34m\u001b[0m\u001b[0;34m\u001b[0m\u001b[0m\n\u001b[0m\u001b[1;32m    567\u001b[0m         \u001b[0;31m# have first part already, only loop while more to receive\u001b[0m\u001b[0;34m\u001b[0m\u001b[0;34m\u001b[0m\u001b[0;34m\u001b[0m\u001b[0m\n",
            "\u001b[0;32mzmq/backend/cython/socket.pyx\u001b[0m in \u001b[0;36mzmq.backend.cython.socket.Socket.recv\u001b[0;34m()\u001b[0m\n",
            "\u001b[0;32mzmq/backend/cython/socket.pyx\u001b[0m in \u001b[0;36mzmq.backend.cython.socket.Socket.recv\u001b[0;34m()\u001b[0m\n",
            "\u001b[0;32mzmq/backend/cython/socket.pyx\u001b[0m in \u001b[0;36mzmq.backend.cython.socket._recv_copy\u001b[0;34m()\u001b[0m\n",
            "\u001b[0;32m/usr/local/lib/python3.6/dist-packages/zmq/backend/cython/checkrc.pxd\u001b[0m in \u001b[0;36mzmq.backend.cython.checkrc._check_rc\u001b[0;34m()\u001b[0m\n",
            "\u001b[0;31mKeyboardInterrupt\u001b[0m: ",
            "\nDuring handling of the above exception, another exception occurred:\n",
            "\u001b[0;31mKeyboardInterrupt\u001b[0m                         Traceback (most recent call last)",
            "\u001b[0;32m<ipython-input-26-2d040d93501d>\u001b[0m in \u001b[0;36m<module>\u001b[0;34m()\u001b[0m\n\u001b[1;32m      4\u001b[0m \u001b[0;34m\u001b[0m\u001b[0m\n\u001b[1;32m      5\u001b[0m \u001b[0mprint\u001b[0m\u001b[0;34m(\u001b[0m\u001b[0;34m\"Proporciona el largo y altura del rectángulo:\"\u001b[0m\u001b[0;34m,\u001b[0m \u001b[0mend\u001b[0m\u001b[0;34m=\u001b[0m\u001b[0;34m\"\"\u001b[0m\u001b[0;34m)\u001b[0m\u001b[0;34m\u001b[0m\u001b[0;34m\u001b[0m\u001b[0m\n\u001b[0;32m----> 6\u001b[0;31m \u001b[0ml\u001b[0m \u001b[0;34m=\u001b[0m \u001b[0mfloat\u001b[0m\u001b[0;34m(\u001b[0m\u001b[0minput\u001b[0m\u001b[0;34m(\u001b[0m\u001b[0;34m)\u001b[0m\u001b[0;34m)\u001b[0m\u001b[0;34m\u001b[0m\u001b[0;34m\u001b[0m\u001b[0m\n\u001b[0m\u001b[1;32m      7\u001b[0m \u001b[0mw\u001b[0m \u001b[0;34m=\u001b[0m \u001b[0mfloat\u001b[0m\u001b[0;34m(\u001b[0m\u001b[0minput\u001b[0m\u001b[0;34m(\u001b[0m\u001b[0;34m)\u001b[0m\u001b[0;34m)\u001b[0m\u001b[0;34m\u001b[0m\u001b[0;34m\u001b[0m\u001b[0m\n\u001b[1;32m      8\u001b[0m \u001b[0ma\u001b[0m \u001b[0;34m=\u001b[0m \u001b[0marea\u001b[0m\u001b[0;34m(\u001b[0m\u001b[0ml\u001b[0m\u001b[0;34m,\u001b[0m \u001b[0mw\u001b[0m\u001b[0;34m)\u001b[0m\u001b[0;34m\u001b[0m\u001b[0;34m\u001b[0m\u001b[0m\n",
            "\u001b[0;32m/usr/local/lib/python3.6/dist-packages/ipykernel/kernelbase.py\u001b[0m in \u001b[0;36mraw_input\u001b[0;34m(self, prompt)\u001b[0m\n\u001b[1;32m    702\u001b[0m             \u001b[0mself\u001b[0m\u001b[0;34m.\u001b[0m\u001b[0m_parent_ident\u001b[0m\u001b[0;34m,\u001b[0m\u001b[0;34m\u001b[0m\u001b[0;34m\u001b[0m\u001b[0m\n\u001b[1;32m    703\u001b[0m             \u001b[0mself\u001b[0m\u001b[0;34m.\u001b[0m\u001b[0m_parent_header\u001b[0m\u001b[0;34m,\u001b[0m\u001b[0;34m\u001b[0m\u001b[0;34m\u001b[0m\u001b[0m\n\u001b[0;32m--> 704\u001b[0;31m             \u001b[0mpassword\u001b[0m\u001b[0;34m=\u001b[0m\u001b[0;32mFalse\u001b[0m\u001b[0;34m,\u001b[0m\u001b[0;34m\u001b[0m\u001b[0;34m\u001b[0m\u001b[0m\n\u001b[0m\u001b[1;32m    705\u001b[0m         )\n\u001b[1;32m    706\u001b[0m \u001b[0;34m\u001b[0m\u001b[0m\n",
            "\u001b[0;32m/usr/local/lib/python3.6/dist-packages/ipykernel/kernelbase.py\u001b[0m in \u001b[0;36m_input_request\u001b[0;34m(self, prompt, ident, parent, password)\u001b[0m\n\u001b[1;32m    732\u001b[0m             \u001b[0;32mexcept\u001b[0m \u001b[0mKeyboardInterrupt\u001b[0m\u001b[0;34m:\u001b[0m\u001b[0;34m\u001b[0m\u001b[0;34m\u001b[0m\u001b[0m\n\u001b[1;32m    733\u001b[0m                 \u001b[0;31m# re-raise KeyboardInterrupt, to truncate traceback\u001b[0m\u001b[0;34m\u001b[0m\u001b[0;34m\u001b[0m\u001b[0;34m\u001b[0m\u001b[0m\n\u001b[0;32m--> 734\u001b[0;31m                 \u001b[0;32mraise\u001b[0m \u001b[0mKeyboardInterrupt\u001b[0m\u001b[0;34m\u001b[0m\u001b[0;34m\u001b[0m\u001b[0m\n\u001b[0m\u001b[1;32m    735\u001b[0m             \u001b[0;32melse\u001b[0m\u001b[0;34m:\u001b[0m\u001b[0;34m\u001b[0m\u001b[0;34m\u001b[0m\u001b[0m\n\u001b[1;32m    736\u001b[0m                 \u001b[0;32mbreak\u001b[0m\u001b[0;34m\u001b[0m\u001b[0;34m\u001b[0m\u001b[0m\n",
            "\u001b[0;31mKeyboardInterrupt\u001b[0m: "
          ]
        }
      ]
    },
    {
      "cell_type": "markdown",
      "metadata": {
        "id": "8F-BVrTnJMJ3"
      },
      "source": [
        "Usando este ejemplo, modifícalo para calcular:"
      ]
    },
    {
      "cell_type": "markdown",
      "metadata": {
        "id": "qB714UKsJO9Q"
      },
      "source": [
        "\r\n",
        "* Área de: un círculo.\r\n",
        "\r\n",
        "Este programa calcula el área de un círculo, para ello primero importamos la librería NumPy, definimos la función de área como:\r\n",
        "\r\n",
        "$$ Area=\\pi r^2 $$\r\n",
        "\r\n",
        "Después de esto solo pedimos al usuario que introduzca el radio y su resultado sale con 2 decimales.\r\n",
        "\r\n"
      ]
    },
    {
      "cell_type": "code",
      "metadata": {
        "id": "folf0gAaJrcZ"
      },
      "source": [
        "# Se importa la librería NumPy\r\n",
        "import numpy as np\r\n",
        "# Para imprimir pi, por ejemplo se utiliza print(np.pi)\r\n",
        "# Se define una función de 1 variable para calcular el área del círculo.\r\n",
        "def area(x):\r\n",
        "  return np.pi*x**2\r\n",
        "\r\n",
        "print(\"Este programa sirve para calcular el área de un círculo\")\r\n",
        "print(\"\\nIntroduzca el valor de su radio:\")\r\n",
        "r=float(input())\r\n",
        "a=area(r)\r\n",
        "#Imprimimos el valor del área con 2 decimales.\r\n",
        "print(\"\\nArea = {:.2f}\".format(a))\r\n"
      ],
      "execution_count": null,
      "outputs": []
    },
    {
      "cell_type": "markdown",
      "metadata": {
        "id": "f61pZdAYPX8K"
      },
      "source": [
        "\r\n",
        "*  Área de: una elipse.\r\n",
        "\r\n",
        "Este programa calcula el área de una elipse, para ello primero importamos la librería NumPy, definimos la función de área como:\r\n",
        "\r\n",
        "$$ Area=\\pi a b $$\r\n",
        "\r\n",
        "donde a es el eje mayor y b el eje menor del elipse. Después de esto solo pedimos al usuario que introduzca estos dos valores y su resultado sale con 2 decimales.\r\n"
      ]
    },
    {
      "cell_type": "code",
      "metadata": {
        "id": "s-s5iee2PzXV"
      },
      "source": [
        "# Se importa la librería NumPy\r\n",
        "import numpy as np\r\n",
        "# Para imprimir pi, por ejemplo se utiliza print(np.pi)\r\n",
        "# Se define una función de 2 variables para calcular el área del elipse.\r\n",
        "def area(x,y):\r\n",
        "  return np.pi*x*y\r\n",
        "\r\n",
        "print(\"Este programa sirve para calcular el área de una elipse\")\r\n",
        "print(\"\\nIntroduzca el valor de su eje menor y su eje mayor (no importa el orden):\")\r\n",
        "s=float(input())\r\n",
        "t=float(input())\r\n",
        "a=area(s,t)\r\n",
        "#Imprimimos el valor del área con 2 decimales.\r\n",
        "print(\"\\nArea = {:.2f}\".format(a))\r\n"
      ],
      "execution_count": null,
      "outputs": []
    },
    {
      "cell_type": "markdown",
      "metadata": {
        "id": "K47-NioiRDPK"
      },
      "source": [
        "* Volumen de: una esfera.\r\n",
        "\r\n",
        "\r\n",
        "Este programa calcula el volunen de una esfera, para ello primero importamos la librería NumPy, definimos la función del volumen como:\r\n",
        "\r\n",
        "$$ Volumen=\\frac{4}{3}πr^3 $$\r\n",
        "\r\n",
        "donde r es el radio de la esfera. Después de esto solo pedimos al usuario que introduzca este valor y su resultado sale con 2 decimales."
      ]
    },
    {
      "cell_type": "code",
      "metadata": {
        "id": "JH6UVt7SSYUx"
      },
      "source": [
        "# Se importa la librería NumPy\r\n",
        "import numpy as np\r\n",
        "# Para imprimir pi, por ejemplo se utiliza print(np.pi)\r\n",
        "# Se define una función de 1 variable para calcular el volumen de la esfera.\r\n",
        "def vol(x):\r\n",
        "  return 4/3*np.pi*x**3\r\n",
        "\r\n",
        "print(\"Este programa sirve para calcular el volumen de una esfera\")\r\n",
        "print(\"\\nIntroduzca el valor de su radio:\")\r\n",
        "r=float(input())\r\n",
        "v=vol(r)\r\n",
        "#Imprimimos el valor del volumen con 2 decimales.\r\n",
        "print(\"\\nVolumen = {:.2f}\".format(v))\r\n"
      ],
      "execution_count": null,
      "outputs": []
    },
    {
      "cell_type": "markdown",
      "metadata": {
        "id": "xlqe3Hg4T30x"
      },
      "source": [
        "* Volumen de: un cilindro circular.\r\n",
        "\r\n",
        "\r\n",
        "Este programa calcula el volunen de un cilindro circular, para ello primero importamos la librería NumPy, definimos la función del volumen como:\r\n",
        "\r\n",
        "$$ Volumen=\\pi r^2 h $$\r\n",
        "\r\n",
        "donde r es el radio del círculo de la base y h la altura. Después de esto solo pedimos al usuario que introduzca estos valores y su resultado sale con 2 decimales."
      ]
    },
    {
      "cell_type": "code",
      "metadata": {
        "id": "UWhm5KZjT6So"
      },
      "source": [
        "# Se importa la librería NumPy\r\n",
        "import numpy as np\r\n",
        "# Para imprimir pi, por ejemplo se utiliza print(np.pi)\r\n",
        "# Se define una función de 1 variable para calcular el volumen del cilindro esférico.\r\n",
        "def vol(x,y):\r\n",
        "  return np.pi*x**2*y\r\n",
        "\r\n",
        "print(\"Este programa sirve para calcular el volumen de un cilindro esférico\")\r\n",
        "print(\"\\nIntroduzca el valor del radio de su base y después la altura del cilindro:\")\r\n",
        "r=float(input())\r\n",
        "h=float(input())\r\n",
        "v=vol(r,h)\r\n",
        "#Imprimimos el valor del volumen con 2 decimales.\r\n",
        "print(\"\\nVolumen = {:.2f}\".format(v))\r\n"
      ],
      "execution_count": null,
      "outputs": []
    },
    {
      "cell_type": "markdown",
      "metadata": {
        "id": "R6BdizxCU1me"
      },
      "source": [
        "**Ejercicio 2.** Desarrollar un programa en Python que calcule las raíces de una ecuación cuadrática. "
      ]
    },
    {
      "cell_type": "markdown",
      "metadata": {
        "id": "0lKAhf0CSIU3"
      },
      "source": [
        "El programa consistirá en que el usuario introducirá los valores de los coeficientes de una ecuación cuadrática del tipo\r\n",
        "$$ax^2+bx+c=0$$\r\n",
        "Con lo cual el programa utilizará la formula general\r\n",
        "$$x_{1,2}=\\frac{-b\\pm \\sqrt{b^2-4ac}}{2a} $$\r\n",
        "Recordando que hay dos soluciones posibles, de momento solo reales.\r\n"
      ]
    },
    {
      "cell_type": "code",
      "metadata": {
        "id": "hlZ9YXJDSHuh"
      },
      "source": [
        "# Se define la función de tres variables para calcular las soluciones de la raíz cuadrática\r\n",
        "# Se define una función para cada signo\r\n",
        "def sol1(x,y,z):\r\n",
        "  return (-y+(y**2-4*x*z)**(1/2))/(2*x)\r\n",
        "def sol2(x,y,z):\r\n",
        "  return (-y-(y**2-4*x*z)**(1/2))/(2*x)\r\n",
        "\r\n",
        "# Bienvenida al programa\r\n",
        "print(\"Este programa sirve para calcular las raíces de una función cuadrática del tipo\")\r\n",
        "print(\"ax^2+bx+c=0\")\r\n",
        "print(\"\\nIntroduzca los valores de a, b y c en ese orden\")\r\n",
        "a=float(input())\r\n",
        "b=float(input())\r\n",
        "c=float(input())\r\n",
        "x1=sol1(a,b,c)\r\n",
        "x2=sol2(a,b,c)\r\n",
        "#Ahora imprimimos los valores\r\n",
        "print(\"\\n Nota: recuerde que j representa a i en los números imaginarios\")\r\n",
        "print(\"\\n Solución 1: x_1 =\", x1)\r\n",
        "print(\"\\n Solución 2: x_2 =\", x2)\r\n",
        "\r\n",
        "\r\n"
      ],
      "execution_count": null,
      "outputs": []
    },
    {
      "cell_type": "markdown",
      "metadata": {
        "id": "KDzVKsb6UDCJ"
      },
      "source": [
        "**Ejercicio 3**. Implementar el método Babilonio (o Método de Herón), para calcular la raíz cuadrada de un número S, cuando la sucesión converja con un error menor a 0.01. Compare con el valor obtenido por el método Babilonio con el valor de la función np.sqrt(S)."
      ]
    },
    {
      "cell_type": "markdown",
      "metadata": {
        "id": "U17433dQUeEx"
      },
      "source": [
        "Este programa consistirá en calcular la raíz cuadrada de un número S utilizando el método Babilonio que consiste en lo siguiente:\r\n",
        "\r\n",
        "\r\n",
        "$$x_0 \\approx \\sqrt{S} $$\r\n",
        "\r\n",
        "$$x_{n+1}=\\frac{1}{2}\\left( x_n + \\frac{S}{x_n}\\right) $$\r\n",
        "\r\n",
        "$$ \\lim_{x\\to\\infty} x_n $$\r\n"
      ]
    },
    {
      "cell_type": "code",
      "metadata": {
        "id": "OjAifhSYoQJK"
      },
      "source": [
        "import numpy as np\r\n",
        "print(\"Bienvenido al programa para aproximar raíces cuadradas, indique un número positivo\")\r\n",
        "S=float(input())\r\n",
        "\r\n",
        "if S<0:\r\n",
        "  print(\"\\n Por favor indique un número positivo\")\r\n",
        "\r\n",
        "else:\r\n",
        "  x_n=1 \r\n",
        "\r\n",
        "# x_n será el valor anterior al obtenido en la función\r\n",
        "  e=1\r\n",
        "  i=0\r\n",
        "  print(\"\\nEl procedimiento a seguir se muestra en el número de iteraciones y aproximaciones\")\r\n",
        "#Empieza el loop siempre y cuando sea el error mayor que 0.01\r\n",
        "  while np.absolute(np.sqrt(S)-x_n1) > 0.01: \r\n",
        "      i=i+1\r\n",
        "      x_n=x_n1\r\n",
        "      x_n1=(1/2.)*(x_n+S/x_n)\r\n",
        "      print(i, x_n1)\r\n",
        "\r\n",
        "  print(\"\\nEl resultado es:\", x_n1)\r\n",
        "  print(\"El error comparado con la raíz obtenida con numpy es:\",np.absolute(np.sqrt(S)-x_n1)) \r\n",
        "\r\n"
      ],
      "execution_count": null,
      "outputs": []
    },
    {
      "cell_type": "markdown",
      "metadata": {
        "id": "HjrNnTqxqz1d"
      },
      "source": [
        "**Ejercicio 4.** Reproduce la figura que aparece inmediatamente abajo en el artículo de Wikipedia sobre Series de Taylor, que muestra la aproximación de la función ln(1+x) alrededor de x=0. "
      ]
    },
    {
      "cell_type": "markdown",
      "metadata": {
        "id": "XxSsJgj2rMzG"
      },
      "source": [
        "En este programa utilizaremos la función de Taylor para gráficar la función ln(1+x) alrededor de x=0:\r\n",
        "$$ln(1+x)=\\sum_{n=1}^{\\infty}(-1)^{n+1}\\frac{x^n}{n}=x-\\frac{x^2}{2}+\\frac{x^3}{3}-\\cdots  $$ para $-1 \\leq x\\leq 1$\r\n",
        "\r\n",
        "Para esto usaremos la biblioteca de matplotlib utilizando distintas características de esta librería."
      ]
    },
    {
      "cell_type": "code",
      "metadata": {
        "id": "1mDceNQ8k2pB"
      },
      "source": [
        "# Cargar la subbiblioteca pytlot de Matplotlib \r\n",
        "\r\n",
        "import matplotlib.pyplot as plt\r\n",
        "import numpy as np\r\n",
        "\r\n",
        "\r\n",
        "# Gráfica de funciones\r\n",
        "# Definición de variables y funciones\r\n",
        "\r\n",
        "x = np.linspace(-1.5,1.5,100)  # arrego de 100 puntos entre -1.5 y 1.5\r\n",
        "\r\n",
        "y1 = x-x**2/2+x**3/3-x**4/4     # y será también un arreglo de 100 puntos automáticamente \r\n",
        "\r\n",
        "y2 = x-x**2/2+x**3/3-x**4/4+x**5/5-x**6/6+x**7/7\r\n",
        "\r\n",
        "y3 = x-x**2/2+x**3/3-x**4/4+x**5/5-x**6/6+x**7/7-x**8/8+x**9/9-x**10/10+x**11/11\r\n",
        "\r\n",
        "y4 = x-x**2/2+x**3/3-x**4/4+x**5/5-x**6/6+x**7/7-x**8/8+x**9/9-x**10/10+x**11/11-x**12/12+x**13/13-x**14/14+x**15/15-x**16/16\r\n",
        "\r\n",
        "y5 = np.log(1+x)\r\n",
        "\r\n",
        "# Creación de la gráficas\r\n",
        "\r\n",
        "#plt.subplot(111)\r\n",
        "\r\n",
        "#plt.xlabel(\"X label\")\r\n",
        "\r\n",
        "#plt.ylabel(\"Y label\")\r\n",
        "\r\n",
        "#plt.title(\"Title\")\r\n",
        "\r\n",
        "\r\n",
        "# Graficar varias funciones\r\n",
        "\r\n",
        "plt.plot(x,y1, label=\"T_4\")\r\n",
        "\r\n",
        "plt.plot(x,y2, label=\"T_7\")\r\n",
        "\r\n",
        "plt.plot(x,y3, label=\"T_11\")\r\n",
        "\r\n",
        "plt.plot(x,y4, label=\"T_16\")\r\n",
        "\r\n",
        "plt.plot(x,y5, label=\"log(1+x)\")\r\n",
        "\r\n",
        "# Agregar una malla\r\n",
        "\r\n",
        "plt.grid(True)\r\n",
        "\r\n",
        "# Fijar los límites en el eje Y.\r\n",
        "\r\n",
        "plt.ylim(-4, 2)\r\n",
        "\r\n",
        "# Ubicación de las etiquetas de las funciones\r\n",
        "\r\n",
        "plt.legend(bbox_to_anchor=(1,1), loc=\"best\")\r\n",
        "\r\n",
        "plt.show()\r\n",
        "\r\n",
        "#plt.savefig('plot.png')  # Si se desea guardar en un archivo la imagen de la gráfica"
      ],
      "execution_count": null,
      "outputs": []
    },
    {
      "cell_type": "markdown",
      "metadata": {
        "id": "NfDkUx7QOBYt"
      },
      "source": [
        "# **Parte 2 - Ejercicios de ejemplo**"
      ]
    },
    {
      "cell_type": "code",
      "metadata": {
        "colab": {
          "base_uri": "https://localhost:8080/"
        },
        "id": "8la8pCyCOIC2",
        "outputId": "d84e2a83-d2a3-4b67-9c84-fe77934dfb78"
      },
      "source": [
        " #Condicional: if \r\n",
        "x = 2\r\n",
        "y = 2\r\n",
        "z = 3\r\n",
        "\r\n",
        "if x == y:\r\n",
        "\r\n",
        "     print(\"Hola\")\r\n",
        "\r\n",
        "elif x == z:\r\n",
        "\r\n",
        "     print(\"Hasta luego\")\r\n",
        "\r\n",
        "else:\r\n",
        "\r\n",
        "     print(\"???\")"
      ],
      "execution_count": null,
      "outputs": [
        {
          "output_type": "stream",
          "text": [
            "Hola\n"
          ],
          "name": "stdout"
        }
      ]
    },
    {
      "cell_type": "code",
      "metadata": {
        "colab": {
          "base_uri": "https://localhost:8080/"
        },
        "id": "ISWZPcN9OJ9G",
        "outputId": "5c5b1499-e9e1-466c-e371-08bdb654f19b"
      },
      "source": [
        "# Loop: for\r\n",
        "\r\n",
        "print(\"loop 1\")\r\n",
        "\r\n",
        "for i in range(5): # default - comienza en 0, incrementa en 1\r\n",
        "\r\n",
        "     print(i)\r\n",
        "\r\n",
        "\r\n",
        "print(\"\\nloop 2\")\r\n",
        "\r\n",
        "for i in range(10, 2, -2): # entradas: inicio, fin, tamaño de paso \r\n",
        "\r\n",
        "     print(i)"
      ],
      "execution_count": null,
      "outputs": [
        {
          "output_type": "stream",
          "text": [
            "loop 1\n",
            "0\n",
            "1\n",
            "2\n",
            "3\n",
            "4\n",
            "\n",
            "loop 2\n",
            "10\n",
            "8\n",
            "6\n",
            "4\n"
          ],
          "name": "stdout"
        }
      ]
    },
    {
      "cell_type": "code",
      "metadata": {
        "colab": {
          "base_uri": "https://localhost:8080/"
        },
        "id": "bsUoYOkYOKJG",
        "outputId": "dc488c06-0972-48df-f788-59d4b8810a0c"
      },
      "source": [
        "# Loop: while\r\n",
        "\r\n",
        " \r\n",
        "\r\n",
        "i = 1\r\n",
        "\r\n",
        "while i < 100:\r\n",
        "\r\n",
        "     print(i**2)\r\n",
        "\r\n",
        "     i += i**2 # a += b es notación compacta de a = a + b"
      ],
      "execution_count": null,
      "outputs": [
        {
          "output_type": "stream",
          "text": [
            "1\n",
            "4\n",
            "36\n",
            "1764\n"
          ],
          "name": "stdout"
        }
      ]
    },
    {
      "cell_type": "code",
      "metadata": {
        "colab": {
          "base_uri": "https://localhost:8080/"
        },
        "id": "7eYwXYsdOKUm",
        "outputId": "57c0ef9e-0729-46b5-c5ab-1561588dff26"
      },
      "source": [
        "# Ejemplos de: continue y break \r\n",
        "\r\n",
        " \r\n",
        "\r\n",
        "for num in range(2, 10):\r\n",
        "\r\n",
        "     if num % 2 == 0:\r\n",
        "\r\n",
        "          continue # se regresa al inicio\r\n",
        "\r\n",
        "     print(f\"Encontrado {num}, un número impar\")\r\n",
        "\r\n",
        " \r\n",
        "\r\n",
        "n = 64\r\n",
        "\r\n",
        "for x in range(2, n):\r\n",
        "\r\n",
        "     if n % x == 0: # si n es divisible por x (modulo 0)\r\n",
        "\r\n",
        "          print(f'{n} igual {x} * {n // x}')\r\n",
        "\r\n",
        "          break\r\n",
        "\r\n",
        " \r\n",
        "\r\n",
        "for i in range(5):\r\n",
        "\r\n",
        "     for j in range(5*i):\r\n",
        "\r\n",
        "          if j == 10:\r\n",
        "\r\n",
        "               print(j)\r\n",
        "\r\n",
        "               break\r\n",
        "\r\n",
        "#break se va a esta línea\r\n",
        "\r\n",
        " \r\n",
        "\r\n",
        "if False:\r\n",
        "\r\n",
        "     pass # no hace nada, continua\r\n",
        "\r\n",
        "else:\r\n",
        "\r\n",
        "     print('True!')"
      ],
      "execution_count": null,
      "outputs": [
        {
          "output_type": "stream",
          "text": [
            "Encontrado 3, un número impar\n",
            "Encontrado 5, un número impar\n",
            "Encontrado 7, un número impar\n",
            "Encontrado 9, un número impar\n",
            "64 igual 2 * 32\n",
            "10\n",
            "10\n",
            "True!\n"
          ],
          "name": "stdout"
        }
      ]
    },
    {
      "cell_type": "code",
      "metadata": {
        "colab": {
          "base_uri": "https://localhost:8080/"
        },
        "id": "ncA_744WOH5e",
        "outputId": "1c6dec2f-516c-4655-c150-34265ed459e4"
      },
      "source": [
        "#Listas (conjunto de objetos)\r\n",
        "\r\n",
        " \r\n",
        "\r\n",
        "lista1 = [1,2,3.0,4]\r\n",
        "\r\n",
        "lista2 = [1.,2,'3',4]\r\n",
        "\r\n",
        "print(lista1)\r\n",
        "\r\n",
        "print(lista2)\r\n",
        "\r\n",
        "print(lista1+lista2)"
      ],
      "execution_count": null,
      "outputs": [
        {
          "output_type": "stream",
          "text": [
            "[1, 2, 3.0, 4]\n",
            "[1.0, 2, '3', 4]\n",
            "[1, 2, 3.0, 4, 1.0, 2, '3', 4]\n"
          ],
          "name": "stdout"
        }
      ]
    },
    {
      "cell_type": "code",
      "metadata": {
        "colab": {
          "base_uri": "https://localhost:8080/"
        },
        "id": "VloY6lRkOHv1",
        "outputId": "6d9cdb45-c414-403f-a4f7-ac0c5e2e881a"
      },
      "source": [
        "import numpy as np\r\n",
        "\r\n",
        "# Construcción de un arreglo\r\n",
        "\r\n",
        "s1 = np.array([1,2,3,4])      # Arreglo de enteros\r\n",
        "\r\n",
        "s2 = np.array([1,2,3,4.0])   # Un número flotante convierte al arreglo a flotante\r\n",
        "\r\n",
        "s3 = np.array([1,2,3,'4'])    # Un arreglo con un carácter, convierte a todo el arreglo de caracteres. \r\n",
        "\r\n",
        "s4 = np.arange(0,5,0.5)     # Inserta puntos cada 0.5 entre 0 y 5, incluyendo extremos\r\n",
        "\r\n",
        "s5 = np.linspace(0,5,20)    # Inserta 20 puntos entre 0 y 5, incluyendo extremos\r\n",
        "\r\n",
        " \r\n",
        "\r\n",
        "# Acceso a los elementos de un arreglo\r\n",
        "\r\n",
        "print(s1[2])       # accede al 3er elemento de s1\r\n",
        "\r\n",
        "print(s1[1:3])    # accede del 2o elemento hasta antes del 4o.   \r\n",
        "\r\n",
        " \r\n",
        "\r\n",
        "# Una dimensión\r\n",
        "\r\n",
        "x1 = np.array([1,2,3,4])\r\n",
        "\r\n",
        "y1 = np.array([1,2,3,4])\r\n",
        "\r\n",
        " \r\n",
        "\r\n",
        "# Dos dimensiones\r\n",
        "\r\n",
        "x2 = np.array([[0, 1], [1, 5]])\r\n",
        "\r\n",
        "y2 = np.array([[4, 0], [0, 4]])"
      ],
      "execution_count": null,
      "outputs": [
        {
          "output_type": "stream",
          "text": [
            "3\n",
            "[2 3]\n"
          ],
          "name": "stdout"
        }
      ]
    },
    {
      "cell_type": "code",
      "metadata": {
        "colab": {
          "base_uri": "https://localhost:8080/"
        },
        "id": "fA9W-LLoOHhx",
        "outputId": "46796cfc-281b-4346-ed70-4a008cc74b86"
      },
      "source": [
        "# Cargar la subbiblioteca pytlot de Matplotlib \r\n",
        "\r\n",
        "import matplotlib.pyplot as plt\r\n",
        "import numpy as np\r\n",
        "\r\n",
        "\r\n",
        "# Gráfica de funciones\r\n",
        "# Definición de variables y funciones\r\n",
        "\r\n",
        "x = np.linspace(-np.pi,np.pi,100)  # arrego de 100 puntos entre -pi y pi\r\n",
        "\r\n",
        "y = np.sin(x)      # y será también un arreglo de 100 puntos automáticamente \r\n",
        "\r\n",
        "y1 = x\r\n",
        "\r\n",
        "y3 = x**3\r\n",
        "\r\n",
        "y5 = x**5\r\n",
        "\r\n",
        "sT = y1 - y3/6 + y5/120 # Serie de Taylor de sin(x) a 5o. Orden.\r\n",
        "\r\n",
        " \r\n",
        "\r\n",
        "# Creación de la gráficas\r\n",
        "\r\n",
        "plt.subplot(111)\r\n",
        "\r\n",
        "plt.xlabel(\"X label\")\r\n",
        "\r\n",
        "plt.ylabel(\"Y label\")\r\n",
        "\r\n",
        "plt.title(\"Title\")\r\n",
        "\r\n",
        "\r\n",
        "# Graficar varias funciones\r\n",
        "\r\n",
        "plt.plot(x,y, label=\"sin(x)\")\r\n",
        "\r\n",
        "plt.plot(x,y1, label='x')\r\n",
        "\r\n",
        "plt.plot(x,sT, label='Serie Taylor Orden 5')\r\n",
        "\r\n",
        "# Agregar una malla\r\n",
        "\r\n",
        "plt.grid(True)\r\n",
        "\r\n",
        "# Fijar los límites en el eje Y.\r\n",
        "\r\n",
        "plt.ylim(-1.5, 1.5)\r\n",
        "\r\n",
        "# Ubicación de las etiquetas de las funciones\r\n",
        "\r\n",
        "plt.legend(bbox_to_anchor=(1,1), loc=\"upper left\")\r\n",
        "\r\n",
        "plt.show()\r\n",
        "\r\n",
        "#plt.savefig('plot.png')  # Si se desea guardar en un archivo la imagen de la gráfica\r\n",
        "\r\n",
        " \r\n",
        "\r\n"
      ],
      "execution_count": null,
      "outputs": [
        {
          "output_type": "display_data",
          "data": {
            "image/png": "[encoded data removed]",
            "text/plain": [
              "<Figure size 432x288 with 1 Axes>"
            ]
          },
          "metadata": {
            "tags": [],
            "needs_background": "light"
          }
        }
      ]
    }
  ]
}