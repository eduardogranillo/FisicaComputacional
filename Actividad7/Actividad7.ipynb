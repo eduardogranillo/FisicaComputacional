{
  "nbformat": 4,
  "nbformat_minor": 0,
  "metadata": {
    "colab": {
      "name": "Actividad7.ipynb",
      "provenance": [],
      "authorship_tag": "ABX9TyO7OWD9CcOOKNpjCxeuvKQi",
      "include_colab_link": true
    },
    "kernelspec": {
      "name": "python3",
      "display_name": "Python 3"
    }
  },
  "cells": [
    {
      "cell_type": "markdown",
      "metadata": {
        "id": "view-in-github",
        "colab_type": "text"
      },
      "source": [
        "<a href=\"https://colab.research.google.com/github/eduardogranillo/FisicaComputacional/blob/master/Actividad7/Actividad7.ipynb\" target=\"_parent\"><img src=\"https://colab.research.google.com/assets/colab-badge.svg\" alt=\"Open In Colab\"/></a>"
      ]
    },
    {
      "cell_type": "code",
      "metadata": {
        "id": "O9IZfhcD1OyA"
      },
      "source": [
        "# 1 de marzo de 2021\r\n",
        "# Cargamos las bibliotecas para trabajar en Algebra Lineal\r\n",
        "\r\n",
        "import numpy as np\r\n",
        "import scipy.linalg as la\r\n",
        "from numpy.linalg import matrix_power as mpow\r\n",
        "import matplotlib.pyplot as plt"
      ],
      "execution_count": 55,
      "outputs": []
    },
    {
      "cell_type": "code",
      "metadata": {
        "colab": {
          "base_uri": "https://localhost:8080/"
        },
        "id": "-QRxgbNL10ZV",
        "outputId": "a654a9cd-9321-485a-f184-a194e93dc6ce"
      },
      "source": [
        "# Arreglos de Numpy 1-D.\r\n",
        "# Los arreglos en Python, tienen: dimensión, forma y tamaño.\r\n",
        "\r\n",
        "# Definimos un arreglo 1-D\r\n",
        "a = np.array([1,2,3,4,3,2,1])\r\n",
        "print(a)"
      ],
      "execution_count": 56,
      "outputs": [
        {
          "output_type": "stream",
          "text": [
            "[1 2 3 4 3 2 1]\n"
          ],
          "name": "stdout"
        }
      ]
    },
    {
      "cell_type": "code",
      "metadata": {
        "colab": {
          "base_uri": "https://localhost:8080/"
        },
        "id": "HRycd_rS18Yk",
        "outputId": "61611791-6ad3-441d-ef7d-fde55a57cc02"
      },
      "source": [
        "# Propiedades del arreglo anterior\r\n",
        "print('Número de dimensiones:', a.ndim)\r\n",
        "print('Forma (shape):', a.shape)\r\n",
        "print('Tamaño (size):', a.size)"
      ],
      "execution_count": 57,
      "outputs": [
        {
          "output_type": "stream",
          "text": [
            "Número de dimensiones: 1\n",
            "Forma (shape): (7,)\n",
            "Tamaño (size): 7\n"
          ],
          "name": "stdout"
        }
      ]
    },
    {
      "cell_type": "code",
      "metadata": {
        "colab": {
          "base_uri": "https://localhost:8080/"
        },
        "id": "lJA8UG4F1_fO",
        "outputId": "c7ddb354-df3b-4065-e718-358a20af383c"
      },
      "source": [
        "# Definimos un arreglo 2-D. Pensemos en una Matriz M de 2-D.\r\n",
        "M = np.array([[1,2],[3,4],[5,6],[7,8]])\r\n",
        "print(M)"
      ],
      "execution_count": 58,
      "outputs": [
        {
          "output_type": "stream",
          "text": [
            "[[1 2]\n",
            " [3 4]\n",
            " [5 6]\n",
            " [7 8]]\n"
          ],
          "name": "stdout"
        }
      ]
    },
    {
      "cell_type": "code",
      "metadata": {
        "colab": {
          "base_uri": "https://localhost:8080/"
        },
        "id": "XC5_563L2CH0",
        "outputId": "2127e67f-dea3-4857-f40e-7f96c7df193d"
      },
      "source": [
        "# Propiedades del arreglo anterior. \r\n",
        "print('Número de dimensiones:', M.ndim)\r\n",
        "print('Forma (shape):', M.shape)\r\n",
        "print('Tamaño (size):', M.size)"
      ],
      "execution_count": 59,
      "outputs": [
        {
          "output_type": "stream",
          "text": [
            "Número de dimensiones: 2\n",
            "Forma (shape): (4, 2)\n",
            "Tamaño (size): 8\n"
          ],
          "name": "stdout"
        }
      ]
    },
    {
      "cell_type": "code",
      "metadata": {
        "colab": {
          "base_uri": "https://localhost:8080/"
        },
        "id": "BD3js_aX2E6a",
        "outputId": "1419f376-61a5-478a-8c52-5d9bfced8015"
      },
      "source": [
        "# Podemos seleccionar una columna 1 de la matriz M (columnas:0,1) \r\n",
        "col = M[:,1] \r\n",
        "print(col)"
      ],
      "execution_count": 60,
      "outputs": [
        {
          "output_type": "stream",
          "text": [
            "[2 4 6 8]\n"
          ],
          "name": "stdout"
        }
      ]
    },
    {
      "cell_type": "code",
      "metadata": {
        "colab": {
          "base_uri": "https://localhost:8080/"
        },
        "id": "p3aecpHg2HaP",
        "outputId": "ab83eb77-86d7-4b03-9814-59dfafcbbd88"
      },
      "source": [
        "# Propiedades del arreglo anterior. \r\n",
        "print('Número de dimensiones:', col.ndim)\r\n",
        "print('Forma (shape):', col.shape)\r\n",
        "print('Tamaño (size):', col.size)"
      ],
      "execution_count": 61,
      "outputs": [
        {
          "output_type": "stream",
          "text": [
            "Número de dimensiones: 1\n",
            "Forma (shape): (4,)\n",
            "Tamaño (size): 4\n"
          ],
          "name": "stdout"
        }
      ]
    },
    {
      "cell_type": "code",
      "metadata": {
        "colab": {
          "base_uri": "https://localhost:8080/"
        },
        "id": "utJKSVA62L2k",
        "outputId": "18f81a93-1c3c-47c6-b0cf-5f158daf6643"
      },
      "source": [
        "# Pero, si seleccionamos una columna de una matriz 2-D, \r\n",
        "# estamos seleccionando uno de los vectores en un espacio 2-D.\r\n",
        "# Tenemos que usar la función .reshape()\r\n",
        "\r\n",
        "column = col.reshape(4,1)\r\n",
        "print(column)"
      ],
      "execution_count": 62,
      "outputs": [
        {
          "output_type": "stream",
          "text": [
            "[[2]\n",
            " [4]\n",
            " [6]\n",
            " [8]]\n"
          ],
          "name": "stdout"
        }
      ]
    },
    {
      "cell_type": "code",
      "metadata": {
        "colab": {
          "base_uri": "https://localhost:8080/"
        },
        "id": "lcVhnNY22TPN",
        "outputId": "d0be7f3e-aa6d-4eb7-8c4c-3129cf51bb12"
      },
      "source": [
        "# Propiedades del arreglo anterior. \r\n",
        "print('Número de dimensiones:', column.ndim)\r\n",
        "print('Forma (shape):', column.shape)\r\n",
        "print('Tamaño (size):', column.size)\r\n",
        "# Aunque la variable 'col' y 'column' tengan los mismos datos,\r\n",
        "# son dos objetos distintos.\r\n",
        "\r\n"
      ],
      "execution_count": 63,
      "outputs": [
        {
          "output_type": "stream",
          "text": [
            "Número de dimensiones: 2\n",
            "Forma (shape): (4, 1)\n",
            "Tamaño (size): 4\n"
          ],
          "name": "stdout"
        }
      ]
    },
    {
      "cell_type": "markdown",
      "metadata": {
        "id": "PJ5v6ksa2bQF"
      },
      "source": [
        "Operación y Funciones de Matrices.\r\n",
        "Operaciones aritméticas\r\n",
        "\r\n",
        "Las operaciones aritméticas +, -, /, * y ** se realizan elemento a elemento.\r\n",
        "\r\n",
        "Ejemplos:"
      ]
    },
    {
      "cell_type": "code",
      "metadata": {
        "colab": {
          "base_uri": "https://localhost:8080/"
        },
        "id": "LBRLe39L2cRz",
        "outputId": "aa22b91b-1d67-43bb-fc6d-d7ed2a492036"
      },
      "source": [
        "# Definimos una matriz M\r\n",
        "M = np.array([[1,2],[3,4]])\r\n",
        "print(M)"
      ],
      "execution_count": 64,
      "outputs": [
        {
          "output_type": "stream",
          "text": [
            "[[1 2]\n",
            " [3 4]]\n"
          ],
          "name": "stdout"
        }
      ]
    },
    {
      "cell_type": "code",
      "metadata": {
        "colab": {
          "base_uri": "https://localhost:8080/"
        },
        "id": "zkFGsKlA2gtN",
        "outputId": "c969e860-e5ba-40d6-fca7-e6f244d4a9ba"
      },
      "source": [
        "# Producto simple (elemento a elemento)\r\n",
        "M*M"
      ],
      "execution_count": 65,
      "outputs": [
        {
          "output_type": "execute_result",
          "data": {
            "text/plain": [
              "array([[ 1,  4],\n",
              "       [ 9, 16]])"
            ]
          },
          "metadata": {
            "tags": []
          },
          "execution_count": 65
        }
      ]
    },
    {
      "cell_type": "code",
      "metadata": {
        "colab": {
          "base_uri": "https://localhost:8080/"
        },
        "id": "s61cvoCP2mbl",
        "outputId": "6eeee621-efcc-4cfb-f7aa-59781267f39a"
      },
      "source": [
        "# Producto matricial \r\n",
        "M@M"
      ],
      "execution_count": 66,
      "outputs": [
        {
          "output_type": "execute_result",
          "data": {
            "text/plain": [
              "array([[ 7, 10],\n",
              "       [15, 22]])"
            ]
          },
          "metadata": {
            "tags": []
          },
          "execution_count": 66
        }
      ]
    },
    {
      "cell_type": "markdown",
      "metadata": {
        "id": "XxjvqR5R2pa1"
      },
      "source": [
        "# Ejercicio 1"
      ]
    },
    {
      "cell_type": "markdown",
      "metadata": {
        "id": "CvmokA6zKTm4"
      },
      "source": [
        "Ejercicio 1. Defina las siguientes matrices.\r\n",
        "\r\n",
        "$$\\begin{equation*}\r\n",
        " A\r\n",
        " =\r\n",
        "  \\begin{bmatrix}\r\n",
        "   1 & 3 \\\\\r\n",
        "   -1 & 7\r\n",
        "   \\end{bmatrix}\r\n",
        "\\end{equation*}$$$$\\begin{equation*}\r\n",
        " B =\r\n",
        "  \\begin{bmatrix}\r\n",
        "   5 & 2 \\\\\r\n",
        "   1 & 2\r\n",
        "   \\end{bmatrix}\r\n",
        "\\end{equation*}$$\r\n",
        "y la matrix identidad\r\n",
        "\r\n",
        "$$\\begin{equation*}\r\n",
        " I = \r\n",
        "   \\begin{bmatrix}\r\n",
        "   1 & 0 \\\\\r\n",
        "   0 & 1\r\n",
        "   \\end{bmatrix}\r\n",
        "\\end{equation*}$$\r\n",
        "\r\n",
        "Calcule el resultado de $2*I+3*A+A@B$."
      ]
    },
    {
      "cell_type": "code",
      "metadata": {
        "colab": {
          "base_uri": "https://localhost:8080/"
        },
        "id": "lH_JGUoU2rzu",
        "outputId": "9541d1fb-e840-4574-fb41-543812bd6df3"
      },
      "source": [
        "A = np.array([[1,3],[-1,7]])\r\n",
        "B = np.array([[5,2],[1,2]])\r\n",
        "\r\n",
        "# para la matriz identidad\r\n",
        "\r\n",
        "I = np.eye(2, dtype=int)\r\n",
        "\r\n",
        "print(\"El resultado es:\")\r\n",
        "print(2*I+3*A+A@B)"
      ],
      "execution_count": 67,
      "outputs": [
        {
          "output_type": "stream",
          "text": [
            "El resultado es:\n",
            "[[13 17]\n",
            " [-1 35]]\n"
          ],
          "name": "stdout"
        }
      ]
    },
    {
      "cell_type": "markdown",
      "metadata": {
        "id": "gAnSXDc8K46I"
      },
      "source": [
        "# Notas Operaciones de Matrices"
      ]
    },
    {
      "cell_type": "markdown",
      "metadata": {
        "id": "ncQbPrmJ3Xmu"
      },
      "source": [
        "Potencias de Matrices\r\n",
        "\r\n",
        "No existe un símbolo para denotar las potencias de matrices. Por eso definimos la función mpow en la 1a celda de bibliotecas.\r\n",
        "\r\n",
        "from numpy.linalg import matrix_power as mpow"
      ]
    },
    {
      "cell_type": "code",
      "metadata": {
        "colab": {
          "base_uri": "https://localhost:8080/"
        },
        "id": "OM7GEg0q3b-J",
        "outputId": "e5e58350-f7c1-4a84-9f3a-15100a9cbcaa"
      },
      "source": [
        "# Teníamos una matriz M definida. \r\n",
        "print(M)"
      ],
      "execution_count": 68,
      "outputs": [
        {
          "output_type": "stream",
          "text": [
            "[[1 2]\n",
            " [3 4]]\n"
          ],
          "name": "stdout"
        }
      ]
    },
    {
      "cell_type": "code",
      "metadata": {
        "colab": {
          "base_uri": "https://localhost:8080/"
        },
        "id": "DmTepML53f__",
        "outputId": "537148ca-655f-40a2-d37a-c0b95dff6dbb"
      },
      "source": [
        "# Cuadrado: M^2 = M@M\r\n",
        "print(M@M)\r\n",
        "print(mpow(M,2))"
      ],
      "execution_count": 69,
      "outputs": [
        {
          "output_type": "stream",
          "text": [
            "[[ 7 10]\n",
            " [15 22]]\n",
            "[[ 7 10]\n",
            " [15 22]]\n"
          ],
          "name": "stdout"
        }
      ]
    },
    {
      "cell_type": "code",
      "metadata": {
        "colab": {
          "base_uri": "https://localhost:8080/"
        },
        "id": "6Ty_Rx3V3krt",
        "outputId": "77e09bed-bc7d-49eb-afc4-caf0878eecef"
      },
      "source": [
        "# Quinta potencia: M^5 = M@M@M@M@M\r\n",
        "print(M@M@M@M@M)\r\n",
        "print(mpow(M,5))"
      ],
      "execution_count": 70,
      "outputs": [
        {
          "output_type": "stream",
          "text": [
            "[[1069 1558]\n",
            " [2337 3406]]\n",
            "[[1069 1558]\n",
            " [2337 3406]]\n"
          ],
          "name": "stdout"
        }
      ]
    },
    {
      "cell_type": "code",
      "metadata": {
        "colab": {
          "base_uri": "https://localhost:8080/"
        },
        "id": "i2Ei8Arj3nGx",
        "outputId": "35f3962e-2464-4687-c435-f236cd5d47fc"
      },
      "source": [
        "# La matriz M y su transpuesta\r\n",
        "print(M)\r\n",
        "print(M.T)"
      ],
      "execution_count": 71,
      "outputs": [
        {
          "output_type": "stream",
          "text": [
            "[[1 2]\n",
            " [3 4]]\n",
            "[[1 3]\n",
            " [2 4]]\n"
          ],
          "name": "stdout"
        }
      ]
    },
    {
      "cell_type": "code",
      "metadata": {
        "colab": {
          "base_uri": "https://localhost:8080/"
        },
        "id": "Em4KskJ93rw9",
        "outputId": "b3073af8-b30c-43f5-aa22-0d2d419a2eba"
      },
      "source": [
        "# El producto de M por M.T, debe ser una matriz simétrica.\r\n",
        "M @ M.T"
      ],
      "execution_count": 72,
      "outputs": [
        {
          "output_type": "execute_result",
          "data": {
            "text/plain": [
              "array([[ 5, 11],\n",
              "       [11, 25]])"
            ]
          },
          "metadata": {
            "tags": []
          },
          "execution_count": 72
        }
      ]
    },
    {
      "cell_type": "markdown",
      "metadata": {
        "id": "LP6mb0-Q3wH-"
      },
      "source": [
        "Traza de una Matriz\r\n",
        "\r\n",
        "Suma de los elementos de la diagonal. Usaremos la función de NumPy: np.trace."
      ]
    },
    {
      "cell_type": "code",
      "metadata": {
        "colab": {
          "base_uri": "https://localhost:8080/"
        },
        "id": "whcygVqv3u3N",
        "outputId": "8349f178-dd9f-48fc-da5e-d44aed95d396"
      },
      "source": [
        "# Traza de la matriz M.\r\n",
        "print(M)\r\n",
        "print(np.trace(M))"
      ],
      "execution_count": 73,
      "outputs": [
        {
          "output_type": "stream",
          "text": [
            "[[1 2]\n",
            " [3 4]]\n",
            "5\n"
          ],
          "name": "stdout"
        }
      ]
    },
    {
      "cell_type": "markdown",
      "metadata": {
        "id": "TvrIDFC5312R"
      },
      "source": [
        "Determinante de una Matrix\r\n",
        "\r\n",
        "Se utiliza la función scipy.linalg.det\r\n",
        "\r\n",
        "Para la matriz M,\r\n",
        "\r\n",
        "$$\\begin{equation*}\r\n",
        " M\r\n",
        " =\r\n",
        "  \\begin{bmatrix}\r\n",
        "   a & b \\\\\r\n",
        "   c & d\r\n",
        "   \\end{bmatrix}\r\n",
        "\\end{equation*}$$\r\n",
        "det(M) = $ad-bc$"
      ]
    },
    {
      "cell_type": "code",
      "metadata": {
        "colab": {
          "base_uri": "https://localhost:8080/"
        },
        "id": "6j3sBB0c31nb",
        "outputId": "b0b93d0b-fb5b-425a-8a17-b436ff02af5f"
      },
      "source": [
        "# Determinante de la matriz M\r\n",
        "print(M)\r\n",
        "print(la.det(M))"
      ],
      "execution_count": 74,
      "outputs": [
        {
          "output_type": "stream",
          "text": [
            "[[1 2]\n",
            " [3 4]]\n",
            "-2.0\n"
          ],
          "name": "stdout"
        }
      ]
    },
    {
      "cell_type": "markdown",
      "metadata": {
        "id": "7WyjKb6w4Jhq"
      },
      "source": [
        "Matriz Inversa\r\n",
        "\r\n",
        "Se calcula con la función scipy.linalg.inv\r\n",
        "\r\n",
        "Nota: Para invertir una Matriz, su Determinante no debe ser cero.\r\n",
        "\r\n",
        "Para una matriz $M$, la inversa $M^{-1}$\r\n",
        "\r\n",
        "$$\\begin{equation*}\r\n",
        " M\r\n",
        " =\r\n",
        "  \\begin{bmatrix}\r\n",
        "   a & b \\\\\r\n",
        "   c & d\r\n",
        "   \\end{bmatrix}\r\n",
        "\\end{equation*}$$\r\n",
        "\r\n",
        "$$\\begin{equation*}\r\n",
        " M^{-1}\r\n",
        " = \\frac{1}{\\det(M)}\r\n",
        "  \\begin{bmatrix}\r\n",
        "   d & -b \\\\\r\n",
        "   -c & a\r\n",
        "   \\end{bmatrix}\r\n",
        "\\end{equation*}$$"
      ]
    },
    {
      "cell_type": "code",
      "metadata": {
        "colab": {
          "base_uri": "https://localhost:8080/"
        },
        "id": "22U9h-Mv4RId",
        "outputId": "b1083149-860b-4bbe-b628-f80874d9c63a"
      },
      "source": [
        "# Matriz inversa de M\r\n",
        "la.inv(M)"
      ],
      "execution_count": 75,
      "outputs": [
        {
          "output_type": "execute_result",
          "data": {
            "text/plain": [
              "array([[-2. ,  1. ],\n",
              "       [ 1.5, -0.5]])"
            ]
          },
          "metadata": {
            "tags": []
          },
          "execution_count": 75
        }
      ]
    },
    {
      "cell_type": "markdown",
      "metadata": {
        "id": "yus9SGHH4XCX"
      },
      "source": [
        "# Ejercicio 2"
      ]
    },
    {
      "cell_type": "markdown",
      "metadata": {
        "id": "adsePcuN4Zf5"
      },
      "source": [
        "\r\n",
        "Ejercicio 2. Los polinomios característicos y el Teorema de Cayley-Hamilton.\r\n",
        "\r\n",
        "El polinomio característico de una matriz M esta dado en general por la ecuación$$\r\n",
        "\\det(M - \\lambda I) = 0\r\n",
        "$$Para una matriz cuadrada M (2x2), el polinomio característico se puede escribir como$$\r\n",
        "P_2 (\\lambda) = \\det{(M)} - \\mathrm{tr \\,}(M) \\, \\lambda + \\lambda^2   \r\n",
        "$$y para una matriz cuadrada M (3x3), el polinomio característico resulta ser\r\n",
        "\r\n",
        "$$\r\n",
        "P_3 (\\lambda) = \\frac{1}{6} \r\n",
        "[ \\mathrm{tr}^3 (M) + 2 \\, \\mathrm{tr }(M^3) - 3 \\, \\mathrm{tr}(M) \\mathrm{tr}(M^2) ] - \r\n",
        "\\frac{1}{2} [ \\mathrm{tr}^2 (M) - \\mathrm{tr}(M^2) ] \\lambda + \\mathrm{tr}(M) \\lambda^2 - \\lambda^3\r\n",
        "$$\r\n",
        "El Teorema de Cayley-Hamilton nos dice que una matriz cuadrada M (2x2), satisface el polinomio característico$$\r\n",
        "P_2(M) = \\det(M) - \\mathrm{tr}(M) M + M^2 \r\n",
        "$$y en general cualquier matriz cuadrada M (nxn), satisface $P_n(M)$.\r\n",
        "\r\n",
        "Demuestre esto para cualquier matriz M (2x2), ($\\det(M) \\neq 0$)."
      ]
    },
    {
      "cell_type": "code",
      "metadata": {
        "id": "67YkRWLQ4ZGV",
        "colab": {
          "base_uri": "https://localhost:8080/"
        },
        "outputId": "767e913f-3667-43e5-aa3a-8ec739a32a5b"
      },
      "source": [
        "# Definimos una Matriz con determinante diferente a 0\r\n",
        "C = np.array([[3,2],[5,9]])\r\n",
        "\r\n",
        "print(C)\r\n",
        "print(la.det(C))"
      ],
      "execution_count": 76,
      "outputs": [
        {
          "output_type": "stream",
          "text": [
            "[[3 2]\n",
            " [5 9]]\n",
            "17.0\n"
          ],
          "name": "stdout"
        }
      ]
    },
    {
      "cell_type": "code",
      "metadata": {
        "colab": {
          "base_uri": "https://localhost:8080/"
        },
        "id": "nnt9E1jwD3pb",
        "outputId": "c0324f7a-0060-41fb-f2f4-1a32a6053753"
      },
      "source": [
        "# Calculamos el polinomio característico para M(2x2)\r\n",
        "\r\n",
        "print(\"det=\", la.det(C))\r\n",
        "\r\n",
        "print(\"tr=\",np.trace(C))\r\n",
        "\r\n",
        "\r\n",
        "print(\"P_2(M)=\")\r\n",
        "print(la.det(C)*np.eye(2, dtype=int)-np.trace(C)*C+C@C)"
      ],
      "execution_count": 77,
      "outputs": [
        {
          "output_type": "stream",
          "text": [
            "det= 17.0\n",
            "tr= 12\n",
            "P_2(M)=\n",
            "[[0. 0.]\n",
            " [0. 0.]]\n"
          ],
          "name": "stdout"
        }
      ]
    },
    {
      "cell_type": "markdown",
      "metadata": {
        "id": "sX1lB9VqLkVv"
      },
      "source": [
        "# Notas Resolución de Ecuaciones Lineales"
      ]
    },
    {
      "cell_type": "markdown",
      "metadata": {
        "id": "yH0kOoyiLrUH"
      },
      "source": [
        "\r\n",
        "Un [sistema de ecuaciones lineales](https://en.wikipedia.org/wiki/System_of_linear_equations), es una colección de (n+1) ecuaciones de (n+1) variables de la forma:\r\n",
        "\r\n",
        "\\begin{align*}\r\n",
        " a_{0,0} x_0 + a_{0,1} x_1 + \\cdots + a_{0,n} x_n & = b_0 \\\\\r\n",
        " a_{1,0} x_0 + a_{1,1} x_1 + \\cdots + a_{1,n} x_n & = b_1 \\\\\r\n",
        "\\vdots &  =  \\vdots \\\\\r\n",
        " a_{n,0} x_0 + a_{n,1} x_1 + \\cdots + a_{n,n} x_n & = b_n \\\\\r\n",
        "\\end{align*}\r\n",
        "\r\n",
        "El cual se puede escribir de forma matricial\r\n",
        "\r\n",
        "\\begin{equation*}\r\n",
        "A x = b\r\n",
        "\\end{equation*}\r\n",
        "\r\n",
        "donde A es la matriz cuadrada (n+1 x n+1)\r\n",
        "\r\n",
        "\\begin{equation*}\r\n",
        "A = \r\n",
        "\\begin{bmatrix}\r\n",
        "a_{0,0} & a_{0,1} & \\cdots & a_{0,n} \\\\\r\n",
        "a_{1,0} & a_{1,1} & \\cdots & a_{1,n} \\\\\r\n",
        " \\vdots & \\vdots & \\cdots & \\vdots \\\\\r\n",
        "a_{n,0} & a_{n,1} & \\cdots & a_{n,n} \\\\\r\n",
        "\\end{bmatrix}\r\n",
        "\\end{equation*}\r\n",
        "\r\n",
        "El vector $x$ es un vector desconocido de (n+1) dimensiones, y $b$ un vector constante conocido de (n+1) dimensiones.\r\n",
        "\r\n",
        "\\begin{equation*}\r\n",
        "x  =  \\begin{bmatrix} \r\n",
        "x_0 \\\\\r\n",
        "x_1 \\\\ \r\n",
        "\\vdots \\\\\r\n",
        "x_n \\\\\r\n",
        "\\end{bmatrix} \r\n",
        "\\end{equation*},\r\n",
        "\r\n",
        "\\begin{equation*} \r\n",
        "b = \r\n",
        "\\begin{bmatrix}\r\n",
        " b_0 \\\\\r\n",
        " b_1 \\\\\r\n",
        "\\vdots \\\\\r\n",
        " b_n \\\\\r\n",
        " \\end{bmatrix}\r\n",
        "\\end{equation*}\r\n",
        "\r\n",
        "Buscamos la solución \r\n",
        "\\begin{equation*}\r\n",
        "x = A^{-1} b \r\n",
        "\\end{equation*}"
      ]
    },
    {
      "cell_type": "markdown",
      "metadata": {
        "id": "byyc3kdqM5M-"
      },
      "source": [
        "**Método de Eliminación Gaussiana.**\r\n",
        "\r\n",
        "El [método de eliminación Gaussiana](https://en.wikipedia.org/wiki/Gaussian_elimination) es un método para resolver un sistema de ecuaciones lineales. \r\n",
        "Este método involucra 3 tipos de operaciones elementales:\r\n",
        "\r\n",
        "\r\n",
        "*   Intercambio de posición de renglones.\r\n",
        "*   Multiplicar un renglón por una constante no nula. \r\n",
        "*   Sumar un múltiplo de un reglon a otro renglón.\r\n",
        "\r\n",
        "Usando este conjunto de operaciones es posible convertir una matriz en una matriz triangular superior o matriz en forma escalonada.\r\n",
        "\r\n",
        "**Ejemplo**:\r\n",
        "\r\n",
        "$L_1$, $L_2$ y $L_3$ denotan los renglones de la matriz."
      ]
    },
    {
      "cell_type": "markdown",
      "metadata": {
        "id": "dTohLvbTNeVH"
      },
      "source": [
        "# Ejercicio 3"
      ]
    },
    {
      "cell_type": "markdown",
      "metadata": {
        "id": "S2c13rz_NiBP"
      },
      "source": [
        "**Ejercicio 3:**\r\n",
        "\r\n",
        "Resuelva el sistema de ecuaciones.\r\n",
        "\r\n",
        "\\begin{eqnarray*}\r\n",
        "x - 3 y + z & = & 1 \\\\ \\nonumber\r\n",
        "3 x - 4y + z & = & 5 \\\\ \\nonumber\r\n",
        "2 y - z & = & 0 \\\\ \\nonumber\r\n",
        "\\end{eqnarray*}\r\n",
        "\r\n",
        "de dos formas, utilizando el Método de Eliminación Gaussiana y utilzando la función scipy.linalg.solve()"
      ]
    },
    {
      "cell_type": "markdown",
      "metadata": {
        "id": "NcFht8DweGOR"
      },
      "source": [
        "Método de Eliminicaión Gaussiana"
      ]
    },
    {
      "cell_type": "code",
      "metadata": {
        "id": "GhwmRn3bLqai"
      },
      "source": [
        "# Método de Eliminación Gaussiana\r\n",
        "\r\n",
        "# Definimos 4 funciones\r\n",
        "\r\n",
        "# Intercambio de posicción de renglones.\r\n",
        "def switch_rows(A,i,j):\r\n",
        "  \"Intercambiar renglones i y j en la matriz A.\"\r\n",
        "  n = A.shape[0]\r\n",
        "  E = np.eye(n)\r\n",
        "  E[i,i] = 0\r\n",
        "  E[j,j] = 0\r\n",
        "  E[i,j] = 1\r\n",
        "  E[j,i] = 1\r\n",
        "  return E @ A\r\n",
        "\r\n",
        "# Multiplicar un renglón por una constante no nula.\r\n",
        "def scale_row(A,k,i):\r\n",
        "  \"Multiplicar el renglón i por k en la matriz A.\"\r\n",
        "  n = A.shape[0]\r\n",
        "  E = np.eye(n)\r\n",
        "  E[i,i] = k\r\n",
        "  return E @ A\r\n",
        "\r\n",
        "# Sumar un múltiplo de un renglón a otro renglón.\r\n",
        "def add_row(A,k,i,j):\r\n",
        "  \"Sumar k veces el renglón i al renglón j en la matriz A.\"\r\n",
        "  n = A.shape[0]\r\n",
        "  E = np.eye(n)\r\n",
        "  if i ==j:\r\n",
        "    E[i,i] = k+1\r\n",
        "  else:\r\n",
        "    E[i,j] = k\r\n",
        "  return E @ A"
      ],
      "execution_count": 78,
      "outputs": []
    },
    {
      "cell_type": "code",
      "metadata": {
        "colab": {
          "base_uri": "https://localhost:8080/"
        },
        "id": "GBYbjO2SQOxs",
        "outputId": "4a668bdf-9506-4009-e48e-ab57becc9f03"
      },
      "source": [
        "# Queremos encontrar la matriz inversa de M\r\n",
        "\r\n",
        "M = np.array([[1,-3,1],[3, -4, 1],[0,2,-1]])\r\n",
        "print(M)\r\n",
        "print('det=', la.det(M))"
      ],
      "execution_count": 79,
      "outputs": [
        {
          "output_type": "stream",
          "text": [
            "[[ 1 -3  1]\n",
            " [ 3 -4  1]\n",
            " [ 0  2 -1]]\n",
            "det= -1.0000000000000004\n"
          ],
          "name": "stdout"
        }
      ]
    },
    {
      "cell_type": "code",
      "metadata": {
        "colab": {
          "base_uri": "https://localhost:8080/"
        },
        "id": "djVkmYl1VxDn",
        "outputId": "29114a70-9d7d-4c48-a337-41e747dc9256"
      },
      "source": [
        "# Matriz aumentada: Unimos la matriz M con la matriz Identidad\r\n",
        "A = np.hstack([M,np.eye(3)])\r\n",
        "print(A)"
      ],
      "execution_count": 80,
      "outputs": [
        {
          "output_type": "stream",
          "text": [
            "[[ 1. -3.  1.  1.  0.  0.]\n",
            " [ 3. -4.  1.  0.  1.  0.]\n",
            " [ 0.  2. -1.  0.  0.  1.]]\n"
          ],
          "name": "stdout"
        }
      ]
    },
    {
      "cell_type": "code",
      "metadata": {
        "colab": {
          "base_uri": "https://localhost:8080/"
        },
        "id": "EWk5pavWWRiT",
        "outputId": "ac6f0428-9ece-4358-cc00-d48c902c9329"
      },
      "source": [
        "# \"Sumar k veces el renglón j al renglón i en la matriz A.\"\r\n",
        "# add_row(A,k,i,j):\r\n",
        "# 1) L2 +(-3)L1 -> L2;\r\n",
        "A1 = add_row(A,-3,1,0)\r\n",
        "print(A1)"
      ],
      "execution_count": 81,
      "outputs": [
        {
          "output_type": "stream",
          "text": [
            "[[ 1. -3.  1.  1.  0.  0.]\n",
            " [ 0.  5. -2. -3.  1.  0.]\n",
            " [ 0.  2. -1.  0.  0.  1.]]\n"
          ],
          "name": "stdout"
        }
      ]
    },
    {
      "cell_type": "code",
      "metadata": {
        "colab": {
          "base_uri": "https://localhost:8080/"
        },
        "id": "bXD7fTAaX3JI",
        "outputId": "7ed71e48-36ee-4309-be6d-2d0853c86d9c"
      },
      "source": [
        "# 2) L1 +(3/5)L2 -> L1;\r\n",
        "#  L3 +(-2/5)L2 -> L3;\r\n",
        "A2_tmp = add_row(A1,3/5,0,1)\r\n",
        "A2 = add_row(A2_tmp,-2/5,2,1)\r\n",
        "print(A2)"
      ],
      "execution_count": 82,
      "outputs": [
        {
          "output_type": "stream",
          "text": [
            "[[ 1.00000000e+00 -1.11022302e-16 -2.00000000e-01 -8.00000000e-01\n",
            "   6.00000000e-01  0.00000000e+00]\n",
            " [ 0.00000000e+00  5.00000000e+00 -2.00000000e+00 -3.00000000e+00\n",
            "   1.00000000e+00  0.00000000e+00]\n",
            " [ 0.00000000e+00  0.00000000e+00 -2.00000000e-01  1.20000000e+00\n",
            "  -4.00000000e-01  1.00000000e+00]]\n"
          ],
          "name": "stdout"
        }
      ]
    },
    {
      "cell_type": "code",
      "metadata": {
        "colab": {
          "base_uri": "https://localhost:8080/"
        },
        "id": "alE-yWKNZKK_",
        "outputId": "2cbcb097-d4be-4fca-cdb1-137f9c691fbb"
      },
      "source": [
        "# 3) L1 +(-1)L3 -> L1;\r\n",
        "#  L2 +(-10)L2 -> L3;\r\n",
        "A3_tmp = add_row(A2,-1,0,2)\r\n",
        "A3 = add_row(A3_tmp,-10,1,2)\r\n",
        "print(A3)"
      ],
      "execution_count": 83,
      "outputs": [
        {
          "output_type": "stream",
          "text": [
            "[[ 1.00000000e+00 -1.11022302e-16  0.00000000e+00 -2.00000000e+00\n",
            "   1.00000000e+00 -1.00000000e+00]\n",
            " [ 0.00000000e+00  5.00000000e+00 -4.44089210e-16 -1.50000000e+01\n",
            "   5.00000000e+00 -1.00000000e+01]\n",
            " [ 0.00000000e+00  0.00000000e+00 -2.00000000e-01  1.20000000e+00\n",
            "  -4.00000000e-01  1.00000000e+00]]\n"
          ],
          "name": "stdout"
        }
      ]
    },
    {
      "cell_type": "code",
      "metadata": {
        "colab": {
          "base_uri": "https://localhost:8080/"
        },
        "id": "ItgaAPhCbPiT",
        "outputId": "486c22cb-ee4d-4898-a699-741b6219faee"
      },
      "source": [
        "# 4) (1/5)L2 -> L2\r\n",
        "# (-5)L3 -> L3\r\n",
        "A4_tmp = scale_row(A3,1/5,1)\r\n",
        "A4 = scale_row(A4_tmp,-5,2)\r\n",
        "print(A4)"
      ],
      "execution_count": 84,
      "outputs": [
        {
          "output_type": "stream",
          "text": [
            "[[ 1.00000000e+00 -1.11022302e-16  0.00000000e+00 -2.00000000e+00\n",
            "   1.00000000e+00 -1.00000000e+00]\n",
            " [ 0.00000000e+00  1.00000000e+00 -8.88178420e-17 -3.00000000e+00\n",
            "   1.00000000e+00 -2.00000000e+00]\n",
            " [ 0.00000000e+00  0.00000000e+00  1.00000000e+00 -6.00000000e+00\n",
            "   2.00000000e+00 -5.00000000e+00]]\n"
          ],
          "name": "stdout"
        }
      ]
    },
    {
      "cell_type": "code",
      "metadata": {
        "colab": {
          "base_uri": "https://localhost:8080/"
        },
        "id": "Wmo6sMHRcAzm",
        "outputId": "824077ec-8a92-4f31-b455-09de804589c6"
      },
      "source": [
        "# Hemos obtenido la inversa\r\n",
        "M_inv = A4[:,3:]\r\n",
        "print(M_inv)"
      ],
      "execution_count": 85,
      "outputs": [
        {
          "output_type": "stream",
          "text": [
            "[[-2.  1. -1.]\n",
            " [-3.  1. -2.]\n",
            " [-6.  2. -5.]]\n"
          ],
          "name": "stdout"
        }
      ]
    },
    {
      "cell_type": "code",
      "metadata": {
        "colab": {
          "base_uri": "https://localhost:8080/"
        },
        "id": "r6E4u7lDcOTO",
        "outputId": "1c8c5e92-55a6-46db-9446-c011c9032603"
      },
      "source": [
        "# El producto de M_inv @ M = I\r\n",
        "result = M_inv @ M\r\n",
        "print(result)"
      ],
      "execution_count": 86,
      "outputs": [
        {
          "output_type": "stream",
          "text": [
            "[[ 1.00000000e+00  0.00000000e+00  0.00000000e+00]\n",
            " [-4.44089210e-16  1.00000000e+00 -4.44089210e-16]\n",
            " [-8.88178420e-16  3.55271368e-15  1.00000000e+00]]\n"
          ],
          "name": "stdout"
        }
      ]
    },
    {
      "cell_type": "code",
      "metadata": {
        "colab": {
          "base_uri": "https://localhost:8080/"
        },
        "id": "4Ta0wmtfcf9A",
        "outputId": "19d35083-0eaf-486b-8dae-404e876fd974"
      },
      "source": [
        "# Checamos la inversa de M con la función 'la.inv(M)'\r\n",
        "la.inv(M)"
      ],
      "execution_count": 87,
      "outputs": [
        {
          "output_type": "execute_result",
          "data": {
            "text/plain": [
              "array([[-2.,  1., -1.],\n",
              "       [-3.,  1., -2.],\n",
              "       [-6.,  2., -5.]])"
            ]
          },
          "metadata": {
            "tags": []
          },
          "execution_count": 87
        }
      ]
    },
    {
      "cell_type": "markdown",
      "metadata": {
        "id": "TlDDv3h7dNnE"
      },
      "source": [
        "\r\n",
        "Ejemplo: Resolviendo la ecuación Mx=b\r\n",
        "\r\n",
        "en este caso b esta dado por:\r\n",
        "\r\n",
        "$$\\begin{equation*}\r\n",
        "b = \r\n",
        "\\begin{bmatrix}\r\n",
        "1 \\\\\r\n",
        "5 \\\\\r\n",
        "0 \\\\\r\n",
        "\\end{bmatrix}\r\n",
        "\\end{equation*}$$\r\n",
        "La solución es $x = M^{-1} M x = M^{-1} b$"
      ]
    },
    {
      "cell_type": "code",
      "metadata": {
        "colab": {
          "base_uri": "https://localhost:8080/"
        },
        "id": "2AaTHyBydUjs",
        "outputId": "24e2f54d-1a94-4965-a57a-9064b430359d"
      },
      "source": [
        "# Definimos b. Recordemos que tenemos que usar la función .reshape()\r\n",
        "b = np.array([1,5,0]).reshape(3,1)\r\n",
        "print(b)"
      ],
      "execution_count": 88,
      "outputs": [
        {
          "output_type": "stream",
          "text": [
            "[[1]\n",
            " [5]\n",
            " [0]]\n"
          ],
          "name": "stdout"
        }
      ]
    },
    {
      "cell_type": "code",
      "metadata": {
        "colab": {
          "base_uri": "https://localhost:8080/"
        },
        "id": "KuPul6M1d8fx",
        "outputId": "a6e15fbd-31e6-40e5-d406-f1bc00d865ae"
      },
      "source": [
        "# La solución es:\r\n",
        "x = M_inv @ b\r\n",
        "print(x)"
      ],
      "execution_count": 89,
      "outputs": [
        {
          "output_type": "stream",
          "text": [
            "[[3.]\n",
            " [2.]\n",
            " [4.]]\n"
          ],
          "name": "stdout"
        }
      ]
    },
    {
      "cell_type": "markdown",
      "metadata": {
        "id": "IjeuanaJeQf4"
      },
      "source": [
        "Utilzando la función scipy.linalg.solve()"
      ]
    },
    {
      "cell_type": "code",
      "metadata": {
        "colab": {
          "base_uri": "https://localhost:8080/"
        },
        "id": "cnXoY_N3eCb4",
        "outputId": "e290143e-02d4-46d0-a8ee-6b5d5d60d6e5"
      },
      "source": [
        "# Utilizando la función scipy.linalg.solve()\r\n",
        "\r\n",
        "# Resolviendo el sistema de ecuaciones usando scipy.linalg.solve\r\n",
        "x_sol = la.solve(M, b)\r\n",
        "print(x_sol)"
      ],
      "execution_count": 90,
      "outputs": [
        {
          "output_type": "stream",
          "text": [
            "[[3.]\n",
            " [2.]\n",
            " [4.]]\n"
          ],
          "name": "stdout"
        }
      ]
    },
    {
      "cell_type": "markdown",
      "metadata": {
        "id": "4qcmBRQ-e1kR"
      },
      "source": [
        "# Notas sobre eigenvectores"
      ]
    },
    {
      "cell_type": "markdown",
      "metadata": {
        "id": "ZHaJLSxKhPTW"
      },
      "source": [
        "## Eigenvalores y eigenvectores.\r\n",
        "\r\n",
        "En Álgebra Lineal, un eigenvector $\\vec{x}$ (o vector propio), es un vector que cuando se le aplica una transformación lineal $A$, a lo más cambia en escala $\\lambda$, pero no en dirección. A $\\lambda$ se le conoce como eigenvalor (o valor propio). \r\n",
        "\\begin{equation}\r\n",
        "A \\vec{x} = \\lambda \\vec{x} \r\n",
        "\\end{equation}\r\n",
        "La transformación lineal $A$ es representada por una matriz cuadrada $n \\times n$ en un espacio vectorial de $n$ dimensiones, el vector $\\vec{x}$ es un vector de $n \\times 1$ dimensiones."
      ]
    },
    {
      "cell_type": "markdown",
      "metadata": {
        "id": "aDk3N2D9hev7"
      },
      "source": [
        "![Eigenvalue_equation.png](data:image/png;base64,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)"
      ]
    },
    {
      "cell_type": "markdown",
      "metadata": {
        "id": "uJbnp5YihPGa"
      },
      "source": [
        "La ecuación anterior puede escribir como \r\n",
        "\\begin{equation*}\r\n",
        "(A - \\lambda I)\\vec{x} = \\vec{0}\r\n",
        "\\end{equation*}\r\n",
        "Donde $I$ es la matriz identidad $n \\times n$, y $\\vec{0}$ es la matriz cero de $n \\times 1$ dimensiones, al igual que $\\vec{x}$.\r\n",
        "\r\n",
        "Esta última ecuación que $(A - \\lambda I)\\vec{x} = 0$, tiene solución para cualquier $\\vec{x}$, sí y sólo si $det(A - \\lambda I) = 0$.\r\n",
        "\r\n",
        "Los eigenvalores $\\lambda$ deben entonces satisfacer la ecuación o también llamado polinomio característico\r\n",
        "\\begin{equation*}\r\n",
        "|A - \\lambda I| = (\\lambda_1 - \\lambda) (\\lambda_2 - \\lambda) \\cdots (\\lambda_n - \\lambda) \r\n",
        "\\end{equation*}\r\n",
        "donde $\\lambda_1, \\lambda_2, \\ldots , \\lambda_n$ son los eigenvalores de A y raíces del polinomio característico. Las raíces del polinomio pueden ser reales o complejas (pueden ser distintas o haber multiplicidad en ellas). \r\n",
        "\r\n",
        "**scipy.linalg.eig**\r\n",
        "\r\n",
        "La biblioteca scipy.linalg.eig regresa los eigenvectores y eigenvalores de una matriz cuadrada A."
      ]
    },
    {
      "cell_type": "code",
      "metadata": {
        "colab": {
          "base_uri": "https://localhost:8080/"
        },
        "id": "SCDXCy2je4P9",
        "outputId": "b6139ccc-4ae1-4b80-c0a7-98816003265b"
      },
      "source": [
        "# Ejemplo una matriz 2x2\r\n",
        "A = np.array([[2,1],[1,2]])\r\n",
        "print(A)"
      ],
      "execution_count": 91,
      "outputs": [
        {
          "output_type": "stream",
          "text": [
            "[[2 1]\n",
            " [1 2]]\n"
          ],
          "name": "stdout"
        }
      ]
    },
    {
      "cell_type": "markdown",
      "metadata": {
        "id": "GJ0vRzTij90J"
      },
      "source": [
        "*Para* la matriz A\r\n",
        "\r\n",
        "\\begin{equation*}\r\n",
        "A = \r\n",
        "\\begin{bmatrix}\r\n",
        "2 & 1 \\\\\r\n",
        "1 & 2 \\\\\r\n",
        "\\end{bmatrix}\r\n",
        "\\end{equation*}\r\n",
        "\r\n",
        "\\begin{equation*}\r\n",
        " \\det(A - \\lambda I) = \r\n",
        " \\begin{bmatrix}\r\n",
        "2 - \\lambda & 1 \\\\\r\n",
        "1 & 2 - \\lambda \\\\\r\n",
        " \\end{bmatrix} = (2  - \\lambda)^2 - 1 =  3 - 4 \\lambda + \\lambda^2 = 0 \r\n",
        "\\end{equation*}\r\n",
        "Cuyas soluciones son $\\lambda_1=3$ y $\\lambda_2=1$.\r\n",
        "\r\n",
        "Para $\\lambda_1=3$, la ecuación característica es\r\n",
        "\\begin{equation*}\r\n",
        "(A - 3I)v_1 = \\begin{bmatrix}\r\n",
        "-1 & 1 \\\\\r\n",
        "1 & -1 \\\\\r\n",
        "\\end{bmatrix} \\begin{bmatrix}\r\n",
        "v_{11} \\\\\r\n",
        "v_{12} \\\\\r\n",
        "\\end{bmatrix} = \r\n",
        "\\begin{bmatrix}\r\n",
        "0 \\\\\r\n",
        "0 \\\\\r\n",
        "\\end{bmatrix}\r\n",
        "\\end{equation*}\r\n",
        "de donde vemos que\r\n",
        "\\begin{equation*}\r\n",
        "-v_{11} + v_{12} = 0 \\qquad \\mathrm{ó} \\qquad v_{11} = v_{12}\r\n",
        "\\end{equation*}\r\n",
        "\r\n",
        "Entonces el eigenvector $v_1$ puede ser cualquier vector múltiplo de \r\n",
        "\r\n",
        "\\begin{equation*}\r\n",
        "v_1 = c_1 \r\n",
        "\\begin{bmatrix}\r\n",
        "1 \\\\\r\n",
        "1 \\\\\r\n",
        "\\end{bmatrix}\r\n",
        "\\end{equation*}\r\n",
        "\r\n",
        "Para $\\lambda_2=1$, la ecuación característica es\r\n",
        "\\begin{equation*}\r\n",
        "(A - I)v_2 = \\begin{bmatrix}\r\n",
        "1 & 1 \\\\\r\n",
        "1 & 1 \\\\\r\n",
        "\\end{bmatrix} \\begin{bmatrix}\r\n",
        "v_{21} \\\\\r\n",
        "v_{22} \\\\\r\n",
        "\\end{bmatrix} = \r\n",
        "\\begin{bmatrix}\r\n",
        "0 \\\\\r\n",
        "0 \\\\\r\n",
        "\\end{bmatrix}\r\n",
        "\\end{equation*}\r\n",
        "de donde vemos que\r\n",
        "\\begin{equation*}\r\n",
        "v_{21} + v_{22} = 0 \\qquad \\mathrm{ó} \\qquad v_{21} = - v_{22}\r\n",
        "\\end{equation*}\r\n",
        "\r\n",
        "Entonces el eigenvector $v_2$ puede ser cualquier vector múltiplo de  \r\n",
        "\r\n",
        "\\begin{equation*}\r\n",
        "v_2 = c_2  \r\n",
        "\\begin{bmatrix}\r\n",
        "1 \\\\\r\n",
        "- 1 \\\\\r\n",
        "\\end{bmatrix}\r\n",
        "\\end{equation*}\r\n",
        "\r\n",
        "\r\n",
        "\r\n",
        "(Puedes apoyarte descargando [wxmaxima](https://wxmaxima-developers.github.io/wxmaxima/download.html) o usar la calculadora en línea [Wolfram Alpha](https://www.wolframalpha.com))"
      ]
    },
    {
      "cell_type": "code",
      "metadata": {
        "colab": {
          "base_uri": "https://localhost:8080/"
        },
        "id": "cPb89cZikOX5",
        "outputId": "bed53267-c4d5-4c94-8aaf-19812aaa66ca"
      },
      "source": [
        "# Aplicamos la biblioteca scipy.linalg.eig()\r\n",
        "eigvals, eigvecs = la.eig(A)\r\n",
        "print('Eigenvalores:', eigvals)\r\n",
        "print('Eigenvectores:', eigvecs)"
      ],
      "execution_count": 92,
      "outputs": [
        {
          "output_type": "stream",
          "text": [
            "Eigenvalores: [3.+0.j 1.+0.j]\n",
            "Eigenvectores: [[ 0.70710678 -0.70710678]\n",
            " [ 0.70710678  0.70710678]]\n"
          ],
          "name": "stdout"
        }
      ]
    },
    {
      "cell_type": "markdown",
      "metadata": {
        "id": "dRGcxIR3kWsi"
      },
      "source": [
        "Entonces los eigenvalores son $\\lambda_1 = 3$ y $\\lambda_2=1$ (ambos reales)\r\n",
        "\r\n",
        "\r\n",
        "y los eigenvectores correspondientes:\r\n",
        "$x_1=\\sqrt(2)/2 \\ v_1$ y $x_2=\\sqrt(2)/2 \\ v_2$\r\n"
      ]
    },
    {
      "cell_type": "code",
      "metadata": {
        "colab": {
          "base_uri": "https://localhost:8080/"
        },
        "id": "Of1bL5WNkX8S",
        "outputId": "906aab9c-fffb-4906-d581-ad2679ae9823"
      },
      "source": [
        "# Los eigenvectores son linealmente independientes\r\n",
        "v1 = eigvecs[:,0]\r\n",
        "v2 = eigvecs[:,1]\r\n",
        "print('v1=',v1)\r\n",
        "print('v2=',v2)"
      ],
      "execution_count": 93,
      "outputs": [
        {
          "output_type": "stream",
          "text": [
            "v1= [0.70710678 0.70710678]\n",
            "v2= [-0.70710678  0.70710678]\n"
          ],
          "name": "stdout"
        }
      ]
    },
    {
      "cell_type": "code",
      "metadata": {
        "colab": {
          "base_uri": "https://localhost:8080/"
        },
        "id": "JTeuhxWSkfGc",
        "outputId": "9535da50-d6cd-4e17-e7a4-7effc657f8d7"
      },
      "source": [
        "# Calculamos el producto matricial y el producto punto de 2 vectores (linealmente independientes)\r\n",
        "print('Producto matricial:',v1@v2)\r\n",
        "print('Producto escalar:', np.dot(v1,v2.T))"
      ],
      "execution_count": 94,
      "outputs": [
        {
          "output_type": "stream",
          "text": [
            "Producto matricial: 2.2371143170757382e-17\n",
            "Producto escalar: 2.2371143170757382e-17\n"
          ],
          "name": "stdout"
        }
      ]
    },
    {
      "cell_type": "markdown",
      "metadata": {
        "id": "lf2spwXekn5G"
      },
      "source": [
        "Un resultado interesante del Álgebra Lineal postula que una matriz cuadrada M (nxn) es diagonalizable si y sólo si tiene n eigenvalores distintos o eigenvectores independientes. \r\n",
        "\r\n",
        "Se puede escribir M como el producto\r\n",
        "\\begin{equation*}\r\n",
        "M = P D P^{-1}\r\n",
        "\\end{equation*}\r\n",
        "donde $D$ es la matriz diagonal de los eigenvalores y $P$ es la matriz formada por los eigenvectores. "
      ]
    },
    {
      "cell_type": "code",
      "metadata": {
        "colab": {
          "base_uri": "https://localhost:8080/"
        },
        "id": "_nQHZ4N6ko6N",
        "outputId": "d4031585-9f1d-44b0-faff-66e1ce331ff4"
      },
      "source": [
        "# Formamos la matriz de los eigenvectores\r\n",
        "P = np.array([[1,1],[1,-1]])\r\n",
        "print(P)"
      ],
      "execution_count": 95,
      "outputs": [
        {
          "output_type": "stream",
          "text": [
            "[[ 1  1]\n",
            " [ 1 -1]]\n"
          ],
          "name": "stdout"
        }
      ]
    },
    {
      "cell_type": "code",
      "metadata": {
        "colab": {
          "base_uri": "https://localhost:8080/"
        },
        "id": "XhHx4CX-ktPl",
        "outputId": "f7c12b0d-68fe-45ce-e399-53818c5213b4"
      },
      "source": [
        "# La matriz de los eigenvalores en la diagonal la definimos con\r\n",
        "D = np.diag((3,1))\r\n",
        "print(D)\r\n"
      ],
      "execution_count": 96,
      "outputs": [
        {
          "output_type": "stream",
          "text": [
            "[[3 0]\n",
            " [0 1]]\n"
          ],
          "name": "stdout"
        }
      ]
    },
    {
      "cell_type": "code",
      "metadata": {
        "colab": {
          "base_uri": "https://localhost:8080/"
        },
        "id": "y9wzDtsbkyFy",
        "outputId": "5cde4f68-2dae-4adf-914f-b7b51f8b8f6b"
      },
      "source": [
        "# Calculamos M = P D P^{-1}\r\n",
        "# Veremos que es la matriz A\r\n",
        "\r\n",
        "M = P @ D @ la.inv(P)\r\n",
        "print(M)"
      ],
      "execution_count": 97,
      "outputs": [
        {
          "output_type": "stream",
          "text": [
            "[[2. 1.]\n",
            " [1. 2.]]\n"
          ],
          "name": "stdout"
        }
      ]
    },
    {
      "cell_type": "markdown",
      "metadata": {
        "id": "UrqVWRiXlUQ1"
      },
      "source": [
        "### Potencias de una matriz $M^k$\r\n",
        "\r\n",
        "Si M es una matriz cuadrada, $M^k = M \\cdot M \\cdot M \\cdots M$ (k-veces) puede resultar muy intenso computacionalmente.\r\n",
        "\r\n",
        "Si M es diagonalizable, entonces\r\n",
        "\\begin{equation*}\r\n",
        "M^k = P D P^{-1} \\cdot P D P^{-1} \\cdot P D P^{-1} \\cdots P D P^{-1} = P D^k P^{-1}\r\n",
        "\\end{equation*}\r\n",
        "\r\n",
        "Veamos un ejemplo de calcular la potencia $k=25$ de $M$, $M^{25}$ y mediremos el tiempo de cálculo.\r\n"
      ]
    },
    {
      "cell_type": "code",
      "metadata": {
        "colab": {
          "base_uri": "https://localhost:8080/"
        },
        "id": "cHxwV6rGlVL4",
        "outputId": "76b70da9-f9d5-47dd-f02a-44ca41e84282"
      },
      "source": [
        "# Calculamos la potencia k=25\r\n",
        "k=25\r\n",
        "P_inv = la.inv(P)\r\n",
        "\r\n",
        "print('La matriz de eigenvectores:',P)\r\n",
        "print('La matriz inversa de P: ', P_inv)"
      ],
      "execution_count": 98,
      "outputs": [
        {
          "output_type": "stream",
          "text": [
            "La matriz de eigenvectores: [[ 1  1]\n",
            " [ 1 -1]]\n",
            "La matriz inversa de P:  [[ 0.5  0.5]\n",
            " [ 0.5 -0.5]]\n"
          ],
          "name": "stdout"
        }
      ]
    },
    {
      "cell_type": "code",
      "metadata": {
        "colab": {
          "base_uri": "https://localhost:8080/"
        },
        "id": "8GCsqKFvlcU_",
        "outputId": "e2581396-4e94-41b3-96a4-fa94e508a3bc"
      },
      "source": [
        "# La multiplicación de M consigo misma k=25 veces\r\n",
        "# Calculamos el tiempo de cómputo.\r\n",
        "%%timeit\r\n",
        "result = M.copy()\r\n",
        "for _ in range(1,k):\r\n",
        "    result = result @ M"
      ],
      "execution_count": 99,
      "outputs": [
        {
          "output_type": "stream",
          "text": [
            "The slowest run took 4.83 times longer than the fastest. This could mean that an intermediate result is being cached.\n",
            "10000 loops, best of 5: 34.3 µs per loop\n"
          ],
          "name": "stdout"
        }
      ]
    },
    {
      "cell_type": "code",
      "metadata": {
        "colab": {
          "base_uri": "https://localhost:8080/"
        },
        "id": "uu3NvAwvlnn7",
        "outputId": "cd436a61-bb97-4978-cd35-30b82653d1c7"
      },
      "source": [
        "# Ahora calculamos usando la propiedad de diagonalización de M\r\n",
        "# Calculamos el tiempo de la operación\r\n",
        "%%timeit\r\n",
        "P @ D**k @ P_inv"
      ],
      "execution_count": 100,
      "outputs": [
        {
          "output_type": "stream",
          "text": [
            "The slowest run took 17.22 times longer than the fastest. This could mean that an intermediate result is being cached.\n",
            "100000 loops, best of 5: 4.65 µs per loop\n"
          ],
          "name": "stdout"
        }
      ]
    },
    {
      "cell_type": "markdown",
      "metadata": {
        "id": "mzY3SGCcl3zf"
      },
      "source": [
        "# Ejercicio 4"
      ]
    },
    {
      "cell_type": "markdown",
      "metadata": {
        "id": "7a66WqcSl6bm"
      },
      "source": [
        "**Ejercicio 4:** \r\n",
        "\r\n",
        "Dadas las siguientes matrices $B_1, B_2$ y $B_3$\r\n",
        "\r\n",
        "(Ejemplos del artículo de Wikipedia sobre [Eigenvalores y Eigenvectores](https://en.wikipedia.org/wiki/Eigenvalues_and_eigenvectors#Matrix_examples)) \r\n",
        "\r\n",
        "\r\n",
        "\\begin{equation*}\r\n",
        "B_1 = \\begin{bmatrix}\r\n",
        "2 & 0 & 0 \\\\\r\n",
        "0 & 3 & 4 \\\\\r\n",
        "0 & 4 & 9 \\\\\r\n",
        "\\end{bmatrix}\r\n",
        "\\end{equation*}\r\n",
        "\r\n",
        "\\begin{equation*}\r\n",
        "B_2 = \\begin{bmatrix}\r\n",
        "0 & 1 & 0 \\\\\r\n",
        "0 & 0 & 1 \\\\\r\n",
        "1 & 0 & 0 \\\\\r\n",
        "\\end{bmatrix}\r\n",
        "\\end{equation*}\r\n",
        "\r\n",
        "\\begin{equation*}\r\n",
        "B_3 = \\begin{bmatrix}\r\n",
        "2 & 0 & 0 & 0\\\\\r\n",
        "1 & 2 & 0 & 0 \\\\\r\n",
        "0 & 1 & 3 & 0 \\\\\r\n",
        "0 & 0 & 1 & 3 \\\\\r\n",
        "\\end{bmatrix}\r\n",
        "\\end{equation*}\r\n",
        "\r\n",
        "Encuentra los eigenvalores y eigenvectores de cada matriz utilizando la función de *scipy.linalg.eig()*, y contrasta tus resultados en cada caso con los que se desarrollan en los ejemplos de la Wikipedia. "
      ]
    },
    {
      "cell_type": "code",
      "metadata": {
        "colab": {
          "base_uri": "https://localhost:8080/"
        },
        "id": "24pqFneUl8VF",
        "outputId": "1f130e83-f3bb-4ac0-a4a3-9b155a7a612e"
      },
      "source": [
        "# Definimos las matrices\r\n",
        "B1=np.array([[2,0,0],[0,3,4],[0,4,9]])\r\n",
        "B2=np.array([[0,1,0],[0,0,1],[1,0,0]])\r\n",
        "B3=np.array([[2,0,0,0],[1,2,0,0],[0,1,3,0],[0,0,1,3]])\r\n",
        "\r\n",
        "print(B1)\r\n",
        "print(B2)\r\n",
        "print(B3)"
      ],
      "execution_count": 101,
      "outputs": [
        {
          "output_type": "stream",
          "text": [
            "[[2 0 0]\n",
            " [0 3 4]\n",
            " [0 4 9]]\n",
            "[[0 1 0]\n",
            " [0 0 1]\n",
            " [1 0 0]]\n",
            "[[2 0 0 0]\n",
            " [1 2 0 0]\n",
            " [0 1 3 0]\n",
            " [0 0 1 3]]\n"
          ],
          "name": "stdout"
        }
      ]
    },
    {
      "cell_type": "code",
      "metadata": {
        "colab": {
          "base_uri": "https://localhost:8080/"
        },
        "id": "jTDn5y_8pyVC",
        "outputId": "96b6a284-4590-4036-aebc-ecac867c080d"
      },
      "source": [
        "# Aplicamos la biblioteca scipy.linalg.eig()\r\n",
        "eigvals1, eigvecs1 = la.eig(B1)\r\n",
        "print('Eigenvalores B1:', eigvals1)\r\n",
        "print('Eigenvectores:B1', eigvecs1)\r\n",
        "\r\n",
        "eigvals2, eigvecs2 = la.eig(B2)\r\n",
        "print('\\nEigenvalores B2:', eigvals2)\r\n",
        "print('Eigenvectores:B2', eigvecs2)\r\n",
        "\r\n",
        "eigvals3, eigvecs3 = la.eig(B2)\r\n",
        "print('\\nEigenvalores B3:', eigvals3)\r\n",
        "print('Eigenvectores:B3', eigvecs3)"
      ],
      "execution_count": 102,
      "outputs": [
        {
          "output_type": "stream",
          "text": [
            "Eigenvalores B1: [11.+0.j  1.+0.j  2.+0.j]\n",
            "Eigenvectores:B1 [[ 0.          0.          1.        ]\n",
            " [ 0.4472136   0.89442719  0.        ]\n",
            " [ 0.89442719 -0.4472136   0.        ]]\n",
            "\n",
            "Eigenvalores B2: [-0.5+0.8660254j -0.5-0.8660254j  1. +0.j       ]\n",
            "Eigenvectores:B2 [[ 0.57735027+0.j   0.57735027-0.j  -0.57735027+0.j ]\n",
            " [-0.28867513+0.5j -0.28867513-0.5j -0.57735027+0.j ]\n",
            " [-0.28867513-0.5j -0.28867513+0.5j -0.57735027+0.j ]]\n",
            "\n",
            "Eigenvalores B3: [-0.5+0.8660254j -0.5-0.8660254j  1. +0.j       ]\n",
            "Eigenvectores:B3 [[ 0.57735027+0.j   0.57735027-0.j  -0.57735027+0.j ]\n",
            " [-0.28867513+0.5j -0.28867513-0.5j -0.57735027+0.j ]\n",
            " [-0.28867513-0.5j -0.28867513+0.5j -0.57735027+0.j ]]\n"
          ],
          "name": "stdout"
        }
      ]
    },
    {
      "cell_type": "markdown",
      "metadata": {
        "id": "LHHtmG-i9IUb"
      },
      "source": [
        "Los eigenvalores son iguales en comparación a los ejemplos de Wikipedia, pero los eigenvectores son diferentes."
      ]
    },
    {
      "cell_type": "markdown",
      "metadata": {
        "id": "cJVu8n14k-Ev"
      },
      "source": [
        "### Aplicaciones de sistemas de ecuaciones lineales.\n",
        "\n",
        "**[Interpolación polinomial](https://en.wikipedia.org/wiki/Polynomial_interpolation#Constructing_the_interpolation_polynomial).**\n",
        "\n",
        "Supongamos que tenemos una función $p(x)$ que deseamos interpolar de la forma\n",
        "\n",
        "\\begin{equation*}\n",
        "p(x) = a_n x^n + a_{n-1} x^{n-1} + a_{n-2} x^{n-2} + \\cdots + a_2 x^2 + a_1 x + a_0 \n",
        "\\end{equation*}\n",
        "\n",
        "Si p(x) interpola un conjunto de puntos dados, entonces se tiene que\n",
        "\n",
        "\\begin{equation*}\n",
        "p(x_i) = y_i \\qquad \\forall i \\in \\{0, 1, \\ldots , n\\}\n",
        "\\end{equation*}\n",
        "\n",
        "Substituimos entonces la primera ecuación en el último conjunto de ecuaciones obtenemos un sistema de ecuaciones lineales de los coeficientes desconocidos $a_k$ con $k=0,1,\\ldots,n$.\n",
        "\n",
        "\\begin{equation*}\n",
        "\\begin{bmatrix}\n",
        "x_0^n & x_0^{n-1} & x_0^{n-2} & \\cdots & x_0 & 1 \\\\\n",
        "x_1^n & x_1^{n-1} & x_1^{n-2} & \\cdots & x_1 & 1 \\\\\n",
        "\\vdots & \\vdots & \\vdots &     & \\vdots & \\vdots \\\\  \n",
        "x_n^n & x_n^{n-1} & x_n^{n-2} & \\cdots & x_n & 1 \\\\\n",
        "\\end{bmatrix}\n",
        "\\begin{bmatrix}\n",
        "a_n \\\\ \n",
        "a_{n-1} \\\\ \n",
        "\\vdots \\\\\n",
        " a_0 \\\\\n",
        "\\end{bmatrix}\n",
        "=\n",
        "\\begin{bmatrix}\n",
        "y_0 \\\\\n",
        "y_1 \\\\\n",
        "\\vdots \\\\\n",
        "y_n \\\\\n",
        "\\end{bmatrix}\n",
        "\\end{equation*}\n",
        "\n",
        "La ecuación matricial anterior la podemos expresar como\n",
        "\n",
        "\\begin{equation*}\n",
        "X \\vec{a} = \\vec{y}\n",
        "\\end{equation*}\n",
        "\n",
        "A la matriz de la izquierda $X$, se le conoce como la [matriz de Vandermonde](https://en.wikipedia.org/wiki/Vandermonde_matrix).\n",
        "En la gráfica siguiente, se muestra un polinomio interpolante $p(x)$ en azul, y los puntos rojos son los puntos conocidos que deseamos interpolar.\n"
      ]
    },
    {
      "cell_type": "markdown",
      "metadata": {
        "id": "lmM3ngOUoppm"
      },
      "source": [
        "![interpolation_poly.png](data:image/png;base64,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)"
      ]
    },
    {
      "cell_type": "markdown",
      "metadata": {
        "id": "InfRh0xUyf9O"
      },
      "source": [
        "**Ejemplo 1: Interpolación.** Supongamos que conocemos un conjunto de 3 puntos $(x_0, y_0)$, $(x_1, y_1)$ y $(x_2, y_2)$. Buscamos entonces encontrar un polinomio de orden 2 que pase por esos 3 puntos. \n",
        "\n",
        "La parábola $p(x) = a_0 + a_1 x + a_2 x^2$ pasa por esos puntos si se satisfacen el siguiente sistema de ecuaciones\n",
        "\n",
        "\\begin{eqnarray*}\n",
        "a_0 + a_1 x_0 + a_2 x_0^2 & = & y_0 \\\\\n",
        "a_0 + a_1 x_1 + a_2 x_1^2 & = & y_1 \\\\\n",
        "a_0 + a_1 x_2 + a_2 x_2^2 & = & y_2 \\\\\n",
        "\\end{eqnarray*}\n",
        "\n",
        "Busquemos una parábola que pasa por los 3 puntos: $(0,6)$, $(3,1)$ y $(8,2)$.\n",
        "\n",
        "Entonces la matriz de Vandermonde que pasa por los puntos \n"
      ]
    },
    {
      "cell_type": "code",
      "metadata": {
        "colab": {
          "base_uri": "https://localhost:8080/"
        },
        "id": "dRTZHtwGoumB",
        "outputId": "05a3c16f-b788-4589-d057-3f6013e114bd"
      },
      "source": [
        "# Matriz de Vandermonde X para una parábola que pasa por x=0,3,8\n",
        "x = np.array([0,3,8])\n",
        "X = np.column_stack([[1,1,1],x,x**2])\n",
        "print(X)"
      ],
      "execution_count": 103,
      "outputs": [
        {
          "output_type": "stream",
          "text": [
            "[[ 1  0  0]\n",
            " [ 1  3  9]\n",
            " [ 1  8 64]]\n"
          ],
          "name": "stdout"
        }
      ]
    },
    {
      "cell_type": "code",
      "metadata": {
        "colab": {
          "base_uri": "https://localhost:8080/"
        },
        "id": "e3ga9_3w-ZUo",
        "outputId": "aa3d8d6b-3089-4c03-8696-acd6010e99c5"
      },
      "source": [
        "# El vector y que pasa por y=6,1,2\n",
        "y = np.array([6,1,2]).reshape(3,1)\n",
        "print(y)"
      ],
      "execution_count": 104,
      "outputs": [
        {
          "output_type": "stream",
          "text": [
            "[[6]\n",
            " [1]\n",
            " [2]]\n"
          ],
          "name": "stdout"
        }
      ]
    },
    {
      "cell_type": "code",
      "metadata": {
        "colab": {
          "base_uri": "https://localhost:8080/"
        },
        "id": "B-TkQQfF1vH5",
        "outputId": "79818656-2fcb-45fc-b65e-0fb1332f214f"
      },
      "source": [
        "# Resolvemos la ecuación Xa = y, para los coeficientes desconocidos a\n",
        "# Usamos la función scipy.linalg.solve()\n",
        "a = la.solve(X,y)\n",
        "print(a)\n"
      ],
      "execution_count": 105,
      "outputs": [
        {
          "output_type": "stream",
          "text": [
            "[[ 6.        ]\n",
            " [-2.36666667]\n",
            " [ 0.23333333]]\n"
          ],
          "name": "stdout"
        }
      ]
    },
    {
      "cell_type": "code",
      "metadata": {
        "colab": {
          "base_uri": "https://localhost:8080/",
          "height": 295
        },
        "id": "GQoe4zCd1_ln",
        "outputId": "2dbbcb72-c476-462b-f862-f7e812eb7fab"
      },
      "source": [
        "# Graficamos los resultados del polinomio interpolante de coeficientes a[0], a[1], y a[2]\n",
        "# Sobreponemos en la gráfica los puntos conocidos en azul con puntos ('b.')\n",
        "xs = np.linspace(0,8,20)\n",
        "ys = a[0] + a[1]*xs + a[2]*xs**2\n",
        "plt.plot(xs,ys,x,y,'b.',ms=20)\n",
        "plt.grid()\n",
        "plt.title('Polinomio interpolante p(x)')\n",
        "plt.xlabel('x')\n",
        "plt.ylabel('y')\n",
        "plt.show()"
      ],
      "execution_count": 106,
      "outputs": [
        {
          "output_type": "display_data",
          "data": {
            "image/png": "[encoded data removed]",
            "text/plain": [
              "<Figure size 432x288 with 1 Axes>"
            ]
          },
          "metadata": {
            "tags": [],
            "needs_background": "light"
          }
        }
      ]
    },
    {
      "cell_type": "markdown",
      "metadata": {
        "id": "bTqa-_CR3Xic"
      },
      "source": [
        "**Ejemplo 2: Interpolación.** \n",
        "Ahora buscaremos un polinomio que pasa por 10 puntos: $(0,y_0), (1,y_1), \\ldots , (9,y_9)$, donde $y_k$ son 10 números aleatorios.  "
      ]
    },
    {
      "cell_type": "code",
      "metadata": {
        "colab": {
          "base_uri": "https://localhost:8080/",
          "height": 295
        },
        "id": "wkZDKZaT2cXg",
        "outputId": "19d98a6f-ef57-4b10-d486-167f0b347b27"
      },
      "source": [
        "# Generamos los 10 puntos aleatorios entre 0 y 10.\n",
        "# graficamos los puntos aleatorios en rojo con puntos ('r.')\n",
        "N = 10\n",
        "x = np.arange(0,N)\n",
        "y = np.random.randint(0,10,N)\n",
        "plt.plot(x,y,'r.')\n",
        "plt.grid()\n",
        "plt.title('Puntos aleatorios que deseamos interpolar')\n",
        "plt.xlabel('x')\n",
        "plt.ylabel('y')\n",
        "plt.show()\n"
      ],
      "execution_count": 107,
      "outputs": [
        {
          "output_type": "display_data",
          "data": {
            "image/png": "[encoded data removed]",
            "text/plain": [
              "<Figure size 432x288 with 1 Axes>"
            ]
          },
          "metadata": {
            "tags": [],
            "needs_background": "light"
          }
        }
      ]
    },
    {
      "cell_type": "code",
      "metadata": {
        "colab": {
          "base_uri": "https://localhost:8080/"
        },
        "id": "iyCQJfbi511h",
        "outputId": "45fba2fb-640c-46e7-b2f3-95f68c9f1e1f"
      },
      "source": [
        "# Creamos la matriz de Vandemonde, e imprimimos los primeros 5 renglones y columnas\n",
        "X = np.column_stack([x**k for k in range(0,N)])\n",
        "print(X[:5,:5])\n"
      ],
      "execution_count": 108,
      "outputs": [
        {
          "output_type": "stream",
          "text": [
            "[[  1   0   0   0   0]\n",
            " [  1   1   1   1   1]\n",
            " [  1   2   4   8  16]\n",
            " [  1   3   9  27  81]\n",
            " [  1   4  16  64 256]]\n"
          ],
          "name": "stdout"
        }
      ]
    },
    {
      "cell_type": "code",
      "metadata": {
        "colab": {
          "base_uri": "https://localhost:8080/"
        },
        "id": "PacNaejg6TP_",
        "outputId": "ee283faa-1b91-4804-8031-298dea754d66"
      },
      "source": [
        "# La biblioteca Numpy tambien tiene una función para crear la matriz de Vandermonde\n",
        "X = np.vander(x,increasing=True)\n",
        "# Sólo imprimimos los primeros 5 renglones y columnas.\n",
        "print(X[:5,:5])"
      ],
      "execution_count": 109,
      "outputs": [
        {
          "output_type": "stream",
          "text": [
            "[[  1   0   0   0   0]\n",
            " [  1   1   1   1   1]\n",
            " [  1   2   4   8  16]\n",
            " [  1   3   9  27  81]\n",
            " [  1   4  16  64 256]]\n"
          ],
          "name": "stdout"
        }
      ]
    },
    {
      "cell_type": "code",
      "metadata": {
        "colab": {
          "base_uri": "https://localhost:8080/"
        },
        "id": "VvxZJ8Rk7Gv3",
        "outputId": "4e432fad-6439-4910-87b7-b10507874c56"
      },
      "source": [
        "# Usamos la función de scipy.linalg.solve(), para encontrar los 10 coeficientes\n",
        "# de la ecuación lineal Xa=y\n",
        "a = la.solve(X,y)\n",
        "print(a)\n"
      ],
      "execution_count": 110,
      "outputs": [
        {
          "output_type": "stream",
          "text": [
            "[ 5.00000000e+00  1.82834127e+02 -4.34506349e+02  4.06359535e+02\n",
            " -2.00373611e+02  5.77634838e+01 -1.00611111e+01  1.04145172e+00\n",
            " -5.89285714e-02  1.40266755e-03]\n"
          ],
          "name": "stdout"
        }
      ]
    },
    {
      "cell_type": "code",
      "metadata": {
        "colab": {
          "base_uri": "https://localhost:8080/",
          "height": 295
        },
        "id": "3Pg6z2RU73xE",
        "outputId": "780c2ba3-5163-4550-cb9e-592eee37d897"
      },
      "source": [
        "# Graficamos el polinomio interpolante y los puntos interpolados\n",
        "# Los puntos interpolados en rojo ('r.')\n",
        "xs = np.linspace(0,N-1,200)\n",
        "ys = sum([a[k]*xs**k for k in range(0,N)])\n",
        "plt.plot(x,y,'r.',xs,ys)\n",
        "plt.grid()\n",
        "plt.title('Polinomio interpolante p(x)')\n",
        "plt.xlabel('x')\n",
        "plt.ylabel('y')\n",
        "plt.show()\n"
      ],
      "execution_count": 111,
      "outputs": [
        {
          "output_type": "display_data",
          "data": {
            "image/png": "[encoded data removed]",
            "text/plain": [
              "<Figure size 432x288 with 1 Axes>"
            ]
          },
          "metadata": {
            "tags": [],
            "needs_background": "light"
          }
        }
      ]
    },
    {
      "cell_type": "markdown",
      "metadata": {
        "id": "IXGkXXqc8tJE"
      },
      "source": [
        "Observamos que el polinomio interpolante oscila mucho cerca de los extremos. Cuando se tengan muchos puntos, no será deseable hacer una interpolación. Será mejor ajustar un polinomio de orden menor, usando alguna regresión lineal o cuadrática (por ej. ajuste de mínimos cuadrados).\n"
      ]
    },
    {
      "cell_type": "markdown",
      "metadata": {
        "id": "9Do5lQWS9jfk"
      },
      "source": [
        "### Regresión Lineal de Mínimos Cuadrados\n",
        "\n",
        "Supongamos que tenemos $(n+1)$ puntos $(x_0, y_0), (x_1,y_1), \\ldots , (x_n, y_n)$ en el plano y deseamos ajustar una curva $y = a_0 + a_1 x$ que \"mejor ajuste\" al conjunto de datos.\n",
        "\n",
        "El método que \"mejor ajusta\", es el [método de regresión lineal](https://en.wikipedia.org/wiki/Linear_regression), dado que minimiza la suma de los errores cuadrados $SSE$. \n",
        "\n",
        "\\begin{equation*}\n",
        "SSE = \\sum_i (y_i - (a_0 + a_1 x_i))^2\n",
        "\\end{equation*}\n",
        "\n",
        "En forma matricial, la regresión lineal se puede expresar como \n",
        "\n",
        "\\begin{equation*}\n",
        "X = \n",
        "\\begin{bmatrix}\n",
        "1 & x_1 \\\\\n",
        "1 & x_2 \\\\\n",
        "\\vdots & \\vdots \\\\\n",
        "1 & x_n \\\\\n",
        "\\end{bmatrix}, \\vec{y} = \n",
        "\\begin{bmatrix}\n",
        " y_1 \\\\\n",
        " y_2 \\\\\n",
        "\\vdots \\\\\n",
        " y_n \\\\\n",
        "\\end{bmatrix}, \\vec{a} = \n",
        "\\begin{bmatrix}\n",
        "a_0 \\\\\n",
        "a_1 \\\\\n",
        "\\end{bmatrix}\n",
        "\\end{equation*}\n",
        "\n",
        "y la $SSE$ se puede resumir como \n",
        "\\begin{equation*}\n",
        "SSE = || \\vec{y} - X \\vec{a} ||^2\n",
        "\\end{equation*}\n",
        "\n",
        "Los coeficientes $\\vec{a}$ que minimizan la ecuación anterior,  tiene solución única si y sólo si las columnas de la matriz $X$ son linealmente independientes. La matriz $X^T X$ es simétrica y por lo tanto diagonalizable. Multiplicaremos por $X^T$ por la izquierda la ecuación anterior y resulta:\n",
        "\n",
        "\\begin{eqnarray*}\n",
        "(\\vec{y} - X \\vec{a}) & = & 0 \\\\\n",
        "X^T (\\vec{y} - X \\vec{a}) & = & 0 \\\\\n",
        "X^T \\vec{y} - (X^T X) \\vec{a} & = & 0 \\\\\n",
        "(X^T X) \\vec{a} & = & X^T \\vec{y}\n",
        "\\end{eqnarray*}\n",
        "\n",
        "La última ecuación habrá que resolverla para $\\vec{a}$.\n"
      ]
    },
    {
      "cell_type": "markdown",
      "metadata": {
        "id": "B9rEC_hgHctb"
      },
      "source": [
        "**Ejemplo: Regresión Lineal.**\n",
        "\n",
        "Ajustaremos un línea recta a una colección de puntos aleatorios que generaremos alrededor de una recta $y = a_0 + a_1 x + \\epsilon$, donde $\\epsilon$ es una variable aleatoria con distribución normal. Utilizaremos la función *numpy.random.rand()*. "
      ]
    },
    {
      "cell_type": "code",
      "metadata": {
        "colab": {
          "base_uri": "https://localhost:8080/",
          "height": 295
        },
        "id": "AC76ELgs8gg4",
        "outputId": "1e93fa0a-f1fa-40dd-a888-2c2492c5fff8"
      },
      "source": [
        "# Datos aleatorios que yacen alrededor de una recta\n",
        "# Coeficientes de la recta\n",
        "a0 = 2\n",
        "a1 = 3\n",
        "# Número de puntos entre (0,1)\n",
        "N = 100\n",
        "x = np.random.rand(100)\n",
        "# Ruido gaussiano\n",
        "noise = 0.2*np.random.randn(100)\n",
        "# Agregamos el ruido a la recta\n",
        "y = a0 + a1*x + noise\n",
        "\n",
        "plt.scatter(x,y);\n",
        "plt.grid()\n",
        "plt.title('Datos aleatorios')\n",
        "plt.xlabel('x')\n",
        "plt.ylabel('y')\n",
        "plt.show()"
      ],
      "execution_count": 112,
      "outputs": [
        {
          "output_type": "display_data",
          "data": {
            "image/png": "[encoded data removed]",
            "text/plain": [
              "<Figure size 432x288 with 1 Axes>"
            ]
          },
          "metadata": {
            "tags": [],
            "needs_background": "light"
          }
        }
      ]
    },
    {
      "cell_type": "code",
      "metadata": {
        "colab": {
          "base_uri": "https://localhost:8080/"
        },
        "id": "QZfftsbXJAB5",
        "outputId": "44ecd768-cbdf-4a92-9bdd-17f26c3a1d04"
      },
      "source": [
        "# Creamos la matriz X, con 1's en la primera columna y los puntos x_k en la segunda.\n",
        "X = np.column_stack([np.ones(N),x])\n",
        "print('Shape:', X.shape)\n",
        "# Imprimimos los primeros 5 renglones para verificar\n",
        "print(X[:5,:])\n"
      ],
      "execution_count": 113,
      "outputs": [
        {
          "output_type": "stream",
          "text": [
            "Shape: (100, 2)\n",
            "[[1.         0.98721252]\n",
            " [1.         0.02410158]\n",
            " [1.         0.653128  ]\n",
            " [1.         0.53030193]\n",
            " [1.         0.1293611 ]]\n"
          ],
          "name": "stdout"
        }
      ]
    },
    {
      "cell_type": "code",
      "metadata": {
        "colab": {
          "base_uri": "https://localhost:8080/"
        },
        "id": "R8khm-ABJtIi",
        "outputId": "5921db61-71fa-4508-f1fa-1cf21c3339c1"
      },
      "source": [
        "# Usamos la función scipy.linalg.solve() para resolver la ecuación X.T@X@a = X.T@y respecto a 'a'\n",
        "a = la.solve(X.T @ X, X.T @ y)\n",
        "print(a)\n"
      ],
      "execution_count": 114,
      "outputs": [
        {
          "output_type": "stream",
          "text": [
            "[1.99342411 2.962511  ]\n"
          ],
          "name": "stdout"
        }
      ]
    },
    {
      "cell_type": "code",
      "metadata": {
        "colab": {
          "base_uri": "https://localhost:8080/",
          "height": 295
        },
        "id": "AfUEaAe4KOxG",
        "outputId": "ad066a71-4861-49cd-cbfa-626205e20ede"
      },
      "source": [
        "# Graficamos el ajuste con esos 2 coeficientes de la regresión y = a_0 + a_1 x \n",
        "xs = np.linspace(0,1,10)\n",
        "ys = a[0] + a[1]*xs\n",
        "plt.plot(xs,ys,'r',linewidth=4)\n",
        "plt.scatter(x,y);\n",
        "plt.grid()\n",
        "plt.title('Ajuste mediante Regresión Lineal de los datos')\n",
        "plt.xlabel('x')\n",
        "plt.ylabel('y')\n",
        "plt.show()"
      ],
      "execution_count": 115,
      "outputs": [
        {
          "output_type": "display_data",
          "data": {
            "image/png": "[encoded data removed]",
            "text/plain": [
              "<Figure size 432x288 with 1 Axes>"
            ]
          },
          "metadata": {
            "tags": [],
            "needs_background": "light"
          }
        }
      ]
    },
    {
      "cell_type": "markdown",
      "metadata": {
        "id": "MHqmGrS6LQK-"
      },
      "source": [
        "**Ajuste con un polinomio cuadrático.** \n",
        "\n",
        "Podemos extender el ejemplo anterios a una reglesión cuadrática de la forma $y = a_0 + a_1 x + a_2 x^2$.\n"
      ]
    },
    {
      "cell_type": "code",
      "metadata": {
        "colab": {
          "base_uri": "https://localhost:8080/",
          "height": 295
        },
        "id": "3IXwD3MLKzIk",
        "outputId": "2025ec7e-503f-4fde-9247-93631cf0a7ed"
      },
      "source": [
        "# Los coeficientes para gererar los datos\n",
        "a0 = 3\n",
        "a1 = 5\n",
        "a2 = 8\n",
        "# Generaremos 1000 datos aleatorios entre (0,1)\n",
        "N = 1000\n",
        "x = 2*np.random.rand(N) - 1 # Distribuimos los datos entre (-1,1)\n",
        "# Ruido gaussiano\n",
        "noise = np.random.randn(N)\n",
        "# Una parábola con ruido\n",
        "y = a0 + a1*x + a2*x**2 + noise\n",
        "plt.scatter(x,y,alpha=0.5,lw=0);\n",
        "plt.grid()\n",
        "plt.title('Colección de datos aleatorios')\n",
        "plt.xlabel('x')\n",
        "plt.ylabel('y')\n",
        "plt.show()\n"
      ],
      "execution_count": 116,
      "outputs": [
        {
          "output_type": "display_data",
          "data": {
            "image/png": "[encoded data removed]",
            "text/plain": [
              "<Figure size 432x288 with 1 Axes>"
            ]
          },
          "metadata": {
            "tags": [],
            "needs_background": "light"
          }
        }
      ]
    },
    {
      "cell_type": "code",
      "metadata": {
        "colab": {
          "base_uri": "https://localhost:8080/"
        },
        "id": "nOjgIxunMg-X",
        "outputId": "1c1a05e4-ae66-480a-8924-c788e0a0c372"
      },
      "source": [
        "# Construimos la matriz de Vandermonde\n",
        "X = np.column_stack([np.ones(N),x,x**2])\n",
        "print('Shape:', X.shape)\n",
        "# Imprimimos los primeros 5 renglones para verificar\n",
        "print(X[:5,:])\n",
        "\n"
      ],
      "execution_count": 117,
      "outputs": [
        {
          "output_type": "stream",
          "text": [
            "Shape: (1000, 3)\n",
            "[[ 1.          0.27182798  0.07389045]\n",
            " [ 1.          0.65464119  0.42855509]\n",
            " [ 1.         -0.64146329  0.41147515]\n",
            " [ 1.         -0.31971568  0.10221812]\n",
            " [ 1.         -0.26966737  0.07272049]]\n"
          ],
          "name": "stdout"
        }
      ]
    },
    {
      "cell_type": "code",
      "metadata": {
        "colab": {
          "base_uri": "https://localhost:8080/"
        },
        "id": "XpjGsV4MNCUz",
        "outputId": "a685a76e-c331-450b-929f-3e978a6b7645"
      },
      "source": [
        "# Usamos la función scipy.linalg.solve() para resolver la ecuación X.T@X@a = X.T@y respecto a 'a'\n",
        "a = la.solve(X.T @ X, X.T @ y)\n",
        "print(a)\n"
      ],
      "execution_count": 118,
      "outputs": [
        {
          "output_type": "stream",
          "text": [
            "[2.96137791 5.05633875 8.00381206]\n"
          ],
          "name": "stdout"
        }
      ]
    },
    {
      "cell_type": "code",
      "metadata": {
        "colab": {
          "base_uri": "https://localhost:8080/",
          "height": 295
        },
        "id": "LXWzZSNVNPj0",
        "outputId": "5a659a03-247b-4458-b717-f7819f32a84c"
      },
      "source": [
        "# Graficamos el resultado del ajuste\n",
        "xs = np.linspace(-1,1,20)\n",
        "ys = a[0] + a[1]*xs + a[2]*xs**2\n",
        "plt.plot(xs,ys,'r',linewidth=4)\n",
        "plt.scatter(x,y,alpha=0.5,lw=0)\n",
        "plt.grid()\n",
        "plt.title('Ajuste mediante Regresión Cuadrática a los datos')\n",
        "plt.xlabel('x')\n",
        "plt.ylabel('y')\n",
        "plt.show()\n"
      ],
      "execution_count": 119,
      "outputs": [
        {
          "output_type": "display_data",
          "data": {
            "image/png": "[encoded data removed]",
            "text/plain": [
              "<Figure size 432x288 with 1 Axes>"
            ]
          },
          "metadata": {
            "tags": [],
            "needs_background": "light"
          }
        }
      ]
    },
    {
      "cell_type": "markdown",
      "metadata": {
        "id": "uMnqjloCQHhf"
      },
      "source": [
        "**Ejercicio 5.**\n",
        "Se tienen los siguientes 8 puntos: \n",
        "\n",
        "\\begin{eqnarray*} \n",
        "(x&,&y) \\\\\n",
        "(0.0 &,& 0.0), \\\\ \n",
        "(0.5 &,& 0.47942), \\\\ \n",
        "(1.0 &,& 0.84147), \\\\\n",
        "(1.5 &,& 0.99749), \\\\\n",
        "(2.0 &,& 0.90930), \\\\\n",
        "(2.5 &,& 0.59847), \\\\\n",
        "(3.0 &,& 0.14112), \\\\\n",
        "(3.5 &,& -0.35078) \\\\\n",
        "\\end{eqnarray*}\n",
        "\n",
        "Encuentre un polinomio interpolante $p(x)$ que pase por los 8 puntos. \n",
        "\n",
        "Sobreponga la función $y=\\sin(x)$ y contrástela con el polinomio $p(x)$.\n",
        "\n"
      ]
    },
    {
      "cell_type": "code",
      "metadata": {
        "colab": {
          "base_uri": "https://localhost:8080/",
          "height": 295
        },
        "id": "o0lfUS49--jN",
        "outputId": "7c0a7418-3159-40a6-8a45-eb2acf466cb4"
      },
      "source": [
        "# Graficamos los puntos\r\n",
        "x = np.array([0.0,0.5,1.0,1.5,2.0,2.5,3.0,3.5])\r\n",
        "y = np.array([0,0.47942,0.84147,0.99749,0.90930,0.59847,0.14112,-0.35078])\r\n",
        "\r\n",
        "\r\n",
        "plt.plot(x,y,'r.')\r\n",
        "plt.grid()\r\n",
        "plt.title('Puntos que deseamos interpolar')\r\n",
        "plt.xlabel('x')\r\n",
        "plt.ylabel('y')\r\n",
        "plt.show()\r\n"
      ],
      "execution_count": 140,
      "outputs": [
        {
          "output_type": "display_data",
          "data": {
            "image/png": "[encoded data removed]",
            "text/plain": [
              "<Figure size 432x288 with 1 Axes>"
            ]
          },
          "metadata": {
            "tags": [],
            "needs_background": "light"
          }
        }
      ]
    },
    {
      "cell_type": "code",
      "metadata": {
        "colab": {
          "base_uri": "https://localhost:8080/"
        },
        "id": "0TE9nHFXBFHi",
        "outputId": "88e05808-225e-43a4-b077-f75812aa0d22"
      },
      "source": [
        "# Creamos la matriz de Vandemonde\r\n",
        "X = np.column_stack([x**k for k in range(0,8)])\r\n",
        "print(X)\r\n"
      ],
      "execution_count": 141,
      "outputs": [
        {
          "output_type": "stream",
          "text": [
            "[[1.00000000e+00 0.00000000e+00 0.00000000e+00 0.00000000e+00\n",
            "  0.00000000e+00 0.00000000e+00 0.00000000e+00 0.00000000e+00]\n",
            " [1.00000000e+00 5.00000000e-01 2.50000000e-01 1.25000000e-01\n",
            "  6.25000000e-02 3.12500000e-02 1.56250000e-02 7.81250000e-03]\n",
            " [1.00000000e+00 1.00000000e+00 1.00000000e+00 1.00000000e+00\n",
            "  1.00000000e+00 1.00000000e+00 1.00000000e+00 1.00000000e+00]\n",
            " [1.00000000e+00 1.50000000e+00 2.25000000e+00 3.37500000e+00\n",
            "  5.06250000e+00 7.59375000e+00 1.13906250e+01 1.70859375e+01]\n",
            " [1.00000000e+00 2.00000000e+00 4.00000000e+00 8.00000000e+00\n",
            "  1.60000000e+01 3.20000000e+01 6.40000000e+01 1.28000000e+02]\n",
            " [1.00000000e+00 2.50000000e+00 6.25000000e+00 1.56250000e+01\n",
            "  3.90625000e+01 9.76562500e+01 2.44140625e+02 6.10351562e+02]\n",
            " [1.00000000e+00 3.00000000e+00 9.00000000e+00 2.70000000e+01\n",
            "  8.10000000e+01 2.43000000e+02 7.29000000e+02 2.18700000e+03]\n",
            " [1.00000000e+00 3.50000000e+00 1.22500000e+01 4.28750000e+01\n",
            "  1.50062500e+02 5.25218750e+02 1.83826562e+03 6.43392969e+03]]\n"
          ],
          "name": "stdout"
        }
      ]
    },
    {
      "cell_type": "code",
      "metadata": {
        "colab": {
          "base_uri": "https://localhost:8080/"
        },
        "id": "kgoM1EruBiXZ",
        "outputId": "06299a05-79e1-49c4-a5d9-b9850f91e98b"
      },
      "source": [
        "# Usamos la función de scipy.linalg.solve(), para encontrar los coeficientes\r\n",
        "# de la ecuación lineal Xa=y\r\n",
        "\r\n",
        "#y = np.array([[0,0.47942,0.84147,0.99749,0.90930,0.59847,0.14112,-0.35078]]).reshape(8,1)\r\n",
        "a = la.solve(X,y)\r\n",
        "print(a)"
      ],
      "execution_count": 142,
      "outputs": [
        {
          "output_type": "stream",
          "text": [
            "[ 0.00000000e+00  1.00067181e+00 -3.70788889e-03 -1.58867889e-01\n",
            " -8.30222222e-03  1.31964444e-02 -1.54488889e-03  2.46349206e-05]\n"
          ],
          "name": "stdout"
        }
      ]
    },
    {
      "cell_type": "code",
      "metadata": {
        "colab": {
          "base_uri": "https://localhost:8080/",
          "height": 295
        },
        "id": "lgwM2riLDC7G",
        "outputId": "b55850dc-7fa4-4367-b45b-6fed7414511b"
      },
      "source": [
        "# Graficamos el polinomio interpolante y los puntos interpolados\r\n",
        "# Los puntos interpolados en rojo ('r.')\r\n",
        "xs = np.linspace(0,7,100)\r\n",
        "ys = sum([a[k]*xs**k for k in range(0,8)])\r\n",
        "plt.plot(x,y,'r.',xs,ys,x,np.sin(x))\r\n",
        "plt.grid()\r\n",
        "plt.title('Polinomio interpolante p(x)')\r\n",
        "plt.xlabel('x')\r\n",
        "plt.ylabel('y')\r\n",
        "plt.xlim(0,4)\r\n",
        "plt.ylim(-2,2)\r\n",
        "plt.show()"
      ],
      "execution_count": 161,
      "outputs": [
        {
          "output_type": "display_data",
          "data": {
            "image/png": "[encoded data removed]",
            "text/plain": [
              "<Figure size 432x288 with 1 Axes>"
            ]
          },
          "metadata": {
            "tags": [],
            "needs_background": "light"
          }
        }
      ]
    },
    {
      "cell_type": "markdown",
      "metadata": {
        "id": "vgEGmAjlHvIj"
      },
      "source": [
        "# Ejercicio 6"
      ]
    },
    {
      "cell_type": "markdown",
      "metadata": {
        "id": "QjJ7MKYrH3GI"
      },
      "source": [
        "**Ejercicio 6.** \r\n",
        "Regrese a su modelo de análisis de series de tiempo. Haga una descomposición de su serie de tiempo de las temperaturas (Tmax y Tmin), y realice una regresión lineal sobre la serie de Tendencia de Temp $(T = a_0 + a_1 t)$. Encuentre si la pendiente es positiva o negativa de la tendencia (signo de $a_1$), es decir si las Temperaturas (Tmax, Tmin) están subiendo o bajando en el periodo analizado.\r\n",
        "\r\n",
        "**NOTA:** Pueden trabajar en sus Notebooks de la Actividad 5 o 6 y hacer el ajuste de regresión lineal allá donde tienen todo cargado en la memoria y luego copiar unas celdas de texto de esa Notebook y agregarlas al final de su Notebook de la Actividad 7. Así no tienen que cargar a la memoria todas las operaciones. \r\n"
      ]
    },
    {
      "cell_type": "code",
      "metadata": {
        "id": "lesS-1aOXO8V"
      },
      "source": [
        "# Creamos la función para convertir el año a decimal\r\n",
        "from datetime import datetime\r\n",
        "def decimalyear(y,m,d):\r\n",
        "  d1 = datetime(y, m, d)\r\n",
        "  d2 = (float(d1.strftime(\"%j\"))-1) / 366 + float(d1.strftime(\"%Y\"))\r\n",
        "  return d2"
      ],
      "execution_count": 168,
      "outputs": []
    },
    {
      "cell_type": "code",
      "metadata": {
        "colab": {
          "base_uri": "https://localhost:8080/"
        },
        "id": "nY1k6L53XaJb",
        "outputId": "e64123af-0f43-40f7-a4b0-5163259b8d0a"
      },
      "source": [
        "ejd=decimalyear(2012,1,1)\r\n",
        "ejd2=decimalyear(2010,8,30)\r\n",
        "print(ejd)\r\n",
        "print(ejd2)"
      ],
      "execution_count": 171,
      "outputs": [
        {
          "output_type": "stream",
          "text": [
            "2012.0\n",
            "2010.6584699453551\n"
          ],
          "name": "stdout"
        }
      ]
    },
    {
      "cell_type": "code",
      "metadata": {
        "id": "0sMapbUhckg4"
      },
      "source": [
        "import pandas as pd\r\n",
        "# concentración de las operaciones del dataframe original df_dist\r\n",
        "\r\n",
        "# Tomar la dirección URL del archivo en raw\r\n",
        "url = 'https://raw.githubusercontent.com/eduardogranillo/FisicaComputacional/master/Actividad1/ClimatologiaDiaria.txt'\r\n",
        "\r\n",
        "# Definimos los nombres de las columnas\r\n",
        "# El archivo tiene códigos ASCII extendido (Español), encoding='cp1251' Windows (Europa Occidental)\r\n",
        "# El separador de datos es de uno o más espacios, sep='\\s+'\r\n",
        "# Se brincará los primeros 19 renglones y el último, afirmamos que no nay encabezado\r\n",
        "# Se procesan los datos utilizando Python, engine='python' \r\n",
        "my_cols = ['Fecha', 'Precip', 'Evap', 'Tmax', 'Tmin']\r\n",
        "df_dist = pd.read_csv(url, names=my_cols, encoding='cp1251', sep='\\s+', header=None, skiprows=19, skipfooter=1, engine='python')\r\n",
        "\r\n",
        "# Hacemos una copia de trabajo y preservamos el dataframe original\r\n",
        "df_work0 = df_dist.copy()\r\n",
        "\r\n",
        "# Reemplazamos los textos 'Nulo' por espacio en blanco ''\r\n",
        "str_Nulo = 'Nulo'\r\n",
        "df_work1 = df_work0.replace(to_replace=str_Nulo, value='', regex=True)\r\n",
        "\r\n",
        "# Deseamos convertir los valores de las variables ambientales a núm. flotantes \r\n",
        "cols_list = ['Precip', 'Evap', 'Tmax', 'Tmin']\r\n",
        "for cols in cols_list:\r\n",
        "  df_work1[cols] = pd.to_numeric(df_work1[cols], errors='coerce')\r\n",
        "\r\n",
        "# Volvemos a hacer una pausa y definimos un nuevo dataframe por si hay que regresarse.\r\n",
        "df_work2 = df_work1.copy()\r\n",
        "\r\n",
        "# Pandas tiene la función pd.to_datetime que convierte una cadena en tipo datetime64[ns]\r\n",
        "# Intentamos a ver si Python reconoce el formato en nuestro caso. \r\n",
        "# Agregamos la opción de que el primer dato es el día (dayfirst=True)\r\n",
        "df_work2['Fecha']=pd.to_datetime(df_work2['Fecha'], dayfirst=True).copy()"
      ],
      "execution_count": 173,
      "outputs": []
    },
    {
      "cell_type": "code",
      "metadata": {
        "colab": {
          "base_uri": "https://localhost:8080/",
          "height": 644
        },
        "id": "8CGAKtGpl9gy",
        "outputId": "d0dbedbf-dd48-429e-98a9-e4247869f52f"
      },
      "source": [
        "# Buscamos ahora añadir dos columnas adicionales: df['Año'], df['Mes'], df['Dia']\r\n",
        "# Usaremos la función .dt.year y .dt.month para extraer el Año y Mes de la Fecha\r\n",
        "df_work2['Año'] = df_work2['Fecha'].dt.year.astype(int)\r\n",
        "df_work2['Mes'] = df_work2['Fecha'].dt.month.astype(int)\r\n",
        "df_work2['Dia'] = df_work2['Fecha'].dt.day.astype(int)\r\n",
        "print(df_work2)\r\n",
        "df_90_2 = df_work2[(df_work2['Año'] >= 1990) & (df_work2['Año'] < 2020)]\r\n",
        "df_90_2"
      ],
      "execution_count": 174,
      "outputs": [
        {
          "output_type": "stream",
          "text": [
            "           Fecha  Precip  Evap  Tmax  Tmin   Año  Mes  Dia\n",
            "0     1956-01-01     0.0   NaN   NaN   NaN  1956    1    1\n",
            "1     1956-01-02     0.0   NaN   NaN   NaN  1956    1    2\n",
            "2     1956-01-03     0.0   NaN   NaN   NaN  1956    1    3\n",
            "3     1956-01-04     0.0   NaN   NaN   NaN  1956    1    4\n",
            "4     1956-01-05     0.0   NaN   NaN   NaN  1956    1    5\n",
            "...          ...     ...   ...   ...   ...   ...  ...  ...\n",
            "16058 2010-06-26     0.0  10.8  33.0  14.5  2010    6   26\n",
            "16059 2010-06-27     0.0  10.8  34.5  15.0  2010    6   27\n",
            "16060 2010-06-28     0.0  10.3  35.5  13.0  2010    6   28\n",
            "16061 2010-06-29     0.0  11.6  38.0  13.5  2010    6   29\n",
            "16062 2010-06-30     0.0  12.6  38.0  18.0  2010    6   30\n",
            "\n",
            "[16063 rows x 8 columns]\n"
          ],
          "name": "stdout"
        },
        {
          "output_type": "execute_result",
          "data": {
            "text/html": [
              "<div>\n",
              "<style scoped>\n",
              "    .dataframe tbody tr th:only-of-type {\n",
              "        vertical-align: middle;\n",
              "    }\n",
              "\n",
              "    .dataframe tbody tr th {\n",
              "        vertical-align: top;\n",
              "    }\n",
              "\n",
              "    .dataframe thead th {\n",
              "        text-align: right;\n",
              "    }\n",
              "</style>\n",
              "<table border=\"1\" class=\"dataframe\">\n",
              "  <thead>\n",
              "    <tr style=\"text-align: right;\">\n",
              "      <th></th>\n",
              "      <th>Fecha</th>\n",
              "      <th>Precip</th>\n",
              "      <th>Evap</th>\n",
              "      <th>Tmax</th>\n",
              "      <th>Tmin</th>\n",
              "      <th>Año</th>\n",
              "      <th>Mes</th>\n",
              "      <th>Dia</th>\n",
              "    </tr>\n",
              "  </thead>\n",
              "  <tbody>\n",
              "    <tr>\n",
              "      <th>8669</th>\n",
              "      <td>1990-01-01</td>\n",
              "      <td>0.0</td>\n",
              "      <td>NaN</td>\n",
              "      <td>14.0</td>\n",
              "      <td>-10.0</td>\n",
              "      <td>1990</td>\n",
              "      <td>1</td>\n",
              "      <td>1</td>\n",
              "    </tr>\n",
              "    <tr>\n",
              "      <th>8670</th>\n",
              "      <td>1990-01-02</td>\n",
              "      <td>0.0</td>\n",
              "      <td>1.6</td>\n",
              "      <td>13.5</td>\n",
              "      <td>-4.5</td>\n",
              "      <td>1990</td>\n",
              "      <td>1</td>\n",
              "      <td>2</td>\n",
              "    </tr>\n",
              "    <tr>\n",
              "      <th>8671</th>\n",
              "      <td>1990-01-03</td>\n",
              "      <td>0.0</td>\n",
              "      <td>1.2</td>\n",
              "      <td>15.0</td>\n",
              "      <td>-4.0</td>\n",
              "      <td>1990</td>\n",
              "      <td>1</td>\n",
              "      <td>3</td>\n",
              "    </tr>\n",
              "    <tr>\n",
              "      <th>8672</th>\n",
              "      <td>1990-01-04</td>\n",
              "      <td>0.0</td>\n",
              "      <td>NaN</td>\n",
              "      <td>13.0</td>\n",
              "      <td>-2.5</td>\n",
              "      <td>1990</td>\n",
              "      <td>1</td>\n",
              "      <td>4</td>\n",
              "    </tr>\n",
              "    <tr>\n",
              "      <th>8673</th>\n",
              "      <td>1990-01-05</td>\n",
              "      <td>0.0</td>\n",
              "      <td>NaN</td>\n",
              "      <td>12.0</td>\n",
              "      <td>-2.5</td>\n",
              "      <td>1990</td>\n",
              "      <td>1</td>\n",
              "      <td>5</td>\n",
              "    </tr>\n",
              "    <tr>\n",
              "      <th>...</th>\n",
              "      <td>...</td>\n",
              "      <td>...</td>\n",
              "      <td>...</td>\n",
              "      <td>...</td>\n",
              "      <td>...</td>\n",
              "      <td>...</td>\n",
              "      <td>...</td>\n",
              "      <td>...</td>\n",
              "    </tr>\n",
              "    <tr>\n",
              "      <th>16058</th>\n",
              "      <td>2010-06-26</td>\n",
              "      <td>0.0</td>\n",
              "      <td>10.8</td>\n",
              "      <td>33.0</td>\n",
              "      <td>14.5</td>\n",
              "      <td>2010</td>\n",
              "      <td>6</td>\n",
              "      <td>26</td>\n",
              "    </tr>\n",
              "    <tr>\n",
              "      <th>16059</th>\n",
              "      <td>2010-06-27</td>\n",
              "      <td>0.0</td>\n",
              "      <td>10.8</td>\n",
              "      <td>34.5</td>\n",
              "      <td>15.0</td>\n",
              "      <td>2010</td>\n",
              "      <td>6</td>\n",
              "      <td>27</td>\n",
              "    </tr>\n",
              "    <tr>\n",
              "      <th>16060</th>\n",
              "      <td>2010-06-28</td>\n",
              "      <td>0.0</td>\n",
              "      <td>10.3</td>\n",
              "      <td>35.5</td>\n",
              "      <td>13.0</td>\n",
              "      <td>2010</td>\n",
              "      <td>6</td>\n",
              "      <td>28</td>\n",
              "    </tr>\n",
              "    <tr>\n",
              "      <th>16061</th>\n",
              "      <td>2010-06-29</td>\n",
              "      <td>0.0</td>\n",
              "      <td>11.6</td>\n",
              "      <td>38.0</td>\n",
              "      <td>13.5</td>\n",
              "      <td>2010</td>\n",
              "      <td>6</td>\n",
              "      <td>29</td>\n",
              "    </tr>\n",
              "    <tr>\n",
              "      <th>16062</th>\n",
              "      <td>2010-06-30</td>\n",
              "      <td>0.0</td>\n",
              "      <td>12.6</td>\n",
              "      <td>38.0</td>\n",
              "      <td>18.0</td>\n",
              "      <td>2010</td>\n",
              "      <td>6</td>\n",
              "      <td>30</td>\n",
              "    </tr>\n",
              "  </tbody>\n",
              "</table>\n",
              "<p>7394 rows × 8 columns</p>\n",
              "</div>"
            ],
            "text/plain": [
              "           Fecha  Precip  Evap  Tmax  Tmin   Año  Mes  Dia\n",
              "8669  1990-01-01     0.0   NaN  14.0 -10.0  1990    1    1\n",
              "8670  1990-01-02     0.0   1.6  13.5  -4.5  1990    1    2\n",
              "8671  1990-01-03     0.0   1.2  15.0  -4.0  1990    1    3\n",
              "8672  1990-01-04     0.0   NaN  13.0  -2.5  1990    1    4\n",
              "8673  1990-01-05     0.0   NaN  12.0  -2.5  1990    1    5\n",
              "...          ...     ...   ...   ...   ...   ...  ...  ...\n",
              "16058 2010-06-26     0.0  10.8  33.0  14.5  2010    6   26\n",
              "16059 2010-06-27     0.0  10.8  34.5  15.0  2010    6   27\n",
              "16060 2010-06-28     0.0  10.3  35.5  13.0  2010    6   28\n",
              "16061 2010-06-29     0.0  11.6  38.0  13.5  2010    6   29\n",
              "16062 2010-06-30     0.0  12.6  38.0  18.0  2010    6   30\n",
              "\n",
              "[7394 rows x 8 columns]"
            ]
          },
          "metadata": {
            "tags": []
          },
          "execution_count": 174
        }
      ]
    },
    {
      "cell_type": "code",
      "metadata": {
        "colab": {
          "base_uri": "https://localhost:8080/",
          "height": 374
        },
        "id": "e-_rlXChmNCg",
        "outputId": "38b22f4e-da5b-408c-f1fa-e43e064a60d2"
      },
      "source": [
        "# Aquí se intentó utilizar la función decimalyear() pero no se logró la nueva columna\r\n",
        "# Ni con tipo int ni float\r\n",
        "\r\n",
        "df_90_2['AñoDecimal'] = decimalyear(df_90_2['Año'],df_90_2['Mes'],df_90_2['Dia'])\r\n",
        "\r\n",
        "df_90_2"
      ],
      "execution_count": 175,
      "outputs": [
        {
          "output_type": "error",
          "ename": "TypeError",
          "evalue": "ignored",
          "traceback": [
            "\u001b[0;31m---------------------------------------------------------------------------\u001b[0m",
            "\u001b[0;31mTypeError\u001b[0m                                 Traceback (most recent call last)",
            "\u001b[0;32m<ipython-input-175-20f5433c00af>\u001b[0m in \u001b[0;36m<module>\u001b[0;34m()\u001b[0m\n\u001b[1;32m      2\u001b[0m \u001b[0;31m# Ni con tipo int ni float\u001b[0m\u001b[0;34m\u001b[0m\u001b[0;34m\u001b[0m\u001b[0;34m\u001b[0m\u001b[0m\n\u001b[1;32m      3\u001b[0m \u001b[0;34m\u001b[0m\u001b[0m\n\u001b[0;32m----> 4\u001b[0;31m \u001b[0mdf_90_2\u001b[0m\u001b[0;34m[\u001b[0m\u001b[0;34m'AñoDecimal'\u001b[0m\u001b[0;34m]\u001b[0m \u001b[0;34m=\u001b[0m \u001b[0mdecimalyear\u001b[0m\u001b[0;34m(\u001b[0m\u001b[0mdf_90_2\u001b[0m\u001b[0;34m[\u001b[0m\u001b[0;34m'Año'\u001b[0m\u001b[0;34m]\u001b[0m\u001b[0;34m,\u001b[0m\u001b[0mdf_90_2\u001b[0m\u001b[0;34m[\u001b[0m\u001b[0;34m'Mes'\u001b[0m\u001b[0;34m]\u001b[0m\u001b[0;34m,\u001b[0m\u001b[0mdf_90_2\u001b[0m\u001b[0;34m[\u001b[0m\u001b[0;34m'Dia'\u001b[0m\u001b[0;34m]\u001b[0m\u001b[0;34m)\u001b[0m\u001b[0;34m\u001b[0m\u001b[0;34m\u001b[0m\u001b[0m\n\u001b[0m\u001b[1;32m      5\u001b[0m \u001b[0;34m\u001b[0m\u001b[0m\n\u001b[1;32m      6\u001b[0m \u001b[0mdf_90_2\u001b[0m\u001b[0;34m\u001b[0m\u001b[0;34m\u001b[0m\u001b[0m\n",
            "\u001b[0;32m<ipython-input-168-99a27d4fdb74>\u001b[0m in \u001b[0;36mdecimalyear\u001b[0;34m(y, m, d)\u001b[0m\n\u001b[1;32m      2\u001b[0m \u001b[0;32mfrom\u001b[0m \u001b[0mdatetime\u001b[0m \u001b[0;32mimport\u001b[0m \u001b[0mdatetime\u001b[0m\u001b[0;34m\u001b[0m\u001b[0;34m\u001b[0m\u001b[0m\n\u001b[1;32m      3\u001b[0m \u001b[0;32mdef\u001b[0m \u001b[0mdecimalyear\u001b[0m\u001b[0;34m(\u001b[0m\u001b[0my\u001b[0m\u001b[0;34m,\u001b[0m\u001b[0mm\u001b[0m\u001b[0;34m,\u001b[0m\u001b[0md\u001b[0m\u001b[0;34m)\u001b[0m\u001b[0;34m:\u001b[0m\u001b[0;34m\u001b[0m\u001b[0;34m\u001b[0m\u001b[0m\n\u001b[0;32m----> 4\u001b[0;31m   \u001b[0md1\u001b[0m \u001b[0;34m=\u001b[0m \u001b[0mdatetime\u001b[0m\u001b[0;34m(\u001b[0m\u001b[0my\u001b[0m\u001b[0;34m,\u001b[0m \u001b[0mm\u001b[0m\u001b[0;34m,\u001b[0m \u001b[0md\u001b[0m\u001b[0;34m)\u001b[0m\u001b[0;34m\u001b[0m\u001b[0;34m\u001b[0m\u001b[0m\n\u001b[0m\u001b[1;32m      5\u001b[0m   \u001b[0md2\u001b[0m \u001b[0;34m=\u001b[0m \u001b[0;34m(\u001b[0m\u001b[0mfloat\u001b[0m\u001b[0;34m(\u001b[0m\u001b[0md1\u001b[0m\u001b[0;34m.\u001b[0m\u001b[0mstrftime\u001b[0m\u001b[0;34m(\u001b[0m\u001b[0;34m\"%j\"\u001b[0m\u001b[0;34m)\u001b[0m\u001b[0;34m)\u001b[0m\u001b[0;34m-\u001b[0m\u001b[0;36m1\u001b[0m\u001b[0;34m)\u001b[0m \u001b[0;34m/\u001b[0m \u001b[0;36m366\u001b[0m \u001b[0;34m+\u001b[0m \u001b[0mfloat\u001b[0m\u001b[0;34m(\u001b[0m\u001b[0md1\u001b[0m\u001b[0;34m.\u001b[0m\u001b[0mstrftime\u001b[0m\u001b[0;34m(\u001b[0m\u001b[0;34m\"%Y\"\u001b[0m\u001b[0;34m)\u001b[0m\u001b[0;34m)\u001b[0m\u001b[0;34m\u001b[0m\u001b[0;34m\u001b[0m\u001b[0m\n\u001b[1;32m      6\u001b[0m   \u001b[0;32mreturn\u001b[0m \u001b[0md2\u001b[0m\u001b[0;34m\u001b[0m\u001b[0;34m\u001b[0m\u001b[0m\n",
            "\u001b[0;32m/usr/local/lib/python3.7/dist-packages/pandas/core/series.py\u001b[0m in \u001b[0;36mwrapper\u001b[0;34m(self)\u001b[0m\n\u001b[1;32m    127\u001b[0m         \u001b[0;32mif\u001b[0m \u001b[0mlen\u001b[0m\u001b[0;34m(\u001b[0m\u001b[0mself\u001b[0m\u001b[0;34m)\u001b[0m \u001b[0;34m==\u001b[0m \u001b[0;36m1\u001b[0m\u001b[0;34m:\u001b[0m\u001b[0;34m\u001b[0m\u001b[0;34m\u001b[0m\u001b[0m\n\u001b[1;32m    128\u001b[0m             \u001b[0;32mreturn\u001b[0m \u001b[0mconverter\u001b[0m\u001b[0;34m(\u001b[0m\u001b[0mself\u001b[0m\u001b[0;34m.\u001b[0m\u001b[0miloc\u001b[0m\u001b[0;34m[\u001b[0m\u001b[0;36m0\u001b[0m\u001b[0;34m]\u001b[0m\u001b[0;34m)\u001b[0m\u001b[0;34m\u001b[0m\u001b[0;34m\u001b[0m\u001b[0m\n\u001b[0;32m--> 129\u001b[0;31m         \u001b[0;32mraise\u001b[0m \u001b[0mTypeError\u001b[0m\u001b[0;34m(\u001b[0m\u001b[0;34mf\"cannot convert the series to {converter}\"\u001b[0m\u001b[0;34m)\u001b[0m\u001b[0;34m\u001b[0m\u001b[0;34m\u001b[0m\u001b[0m\n\u001b[0m\u001b[1;32m    130\u001b[0m \u001b[0;34m\u001b[0m\u001b[0m\n\u001b[1;32m    131\u001b[0m     \u001b[0mwrapper\u001b[0m\u001b[0;34m.\u001b[0m\u001b[0m__name__\u001b[0m \u001b[0;34m=\u001b[0m \u001b[0;34mf\"__{converter.__name__}__\"\u001b[0m\u001b[0;34m\u001b[0m\u001b[0;34m\u001b[0m\u001b[0m\n",
            "\u001b[0;31mTypeError\u001b[0m: cannot convert the series to <class 'int'>"
          ]
        }
      ]
    },
    {
      "cell_type": "code",
      "metadata": {
        "colab": {
          "base_uri": "https://localhost:8080/",
          "height": 527
        },
        "id": "VB5u84McmdIg",
        "outputId": "15e69ba6-a2e8-4016-a7cb-cd372b37090d"
      },
      "source": [
        "# Entonces cree mi propia función que es aproximada:\r\n",
        "# AñoDecimal = [Año+(30*Mes-1)+Dia]/360\r\n",
        "# Se suponen todos los meses de 30 días y por consiguiente el año de 360 días.\r\n",
        "# Creo que puede servir para el objetivo del ejercicio pero no es muy exacto.\r\n",
        "\r\n",
        "df_90_2['AñoDecimal'] = df_90_2['Año']+(30*(df_90_2['Mes']-1)+df_90_2['Dia'])/365\r\n",
        "\r\n",
        "df_90_2"
      ],
      "execution_count": 178,
      "outputs": [
        {
          "output_type": "stream",
          "text": [
            "/usr/local/lib/python3.7/dist-packages/ipykernel_launcher.py:6: SettingWithCopyWarning: \n",
            "A value is trying to be set on a copy of a slice from a DataFrame.\n",
            "Try using .loc[row_indexer,col_indexer] = value instead\n",
            "\n",
            "See the caveats in the documentation: https://pandas.pydata.org/pandas-docs/stable/user_guide/indexing.html#returning-a-view-versus-a-copy\n",
            "  \n"
          ],
          "name": "stderr"
        },
        {
          "output_type": "execute_result",
          "data": {
            "text/html": [
              "<div>\n",
              "<style scoped>\n",
              "    .dataframe tbody tr th:only-of-type {\n",
              "        vertical-align: middle;\n",
              "    }\n",
              "\n",
              "    .dataframe tbody tr th {\n",
              "        vertical-align: top;\n",
              "    }\n",
              "\n",
              "    .dataframe thead th {\n",
              "        text-align: right;\n",
              "    }\n",
              "</style>\n",
              "<table border=\"1\" class=\"dataframe\">\n",
              "  <thead>\n",
              "    <tr style=\"text-align: right;\">\n",
              "      <th></th>\n",
              "      <th>Fecha</th>\n",
              "      <th>Precip</th>\n",
              "      <th>Evap</th>\n",
              "      <th>Tmax</th>\n",
              "      <th>Tmin</th>\n",
              "      <th>Año</th>\n",
              "      <th>Mes</th>\n",
              "      <th>Dia</th>\n",
              "      <th>AñoDecimal</th>\n",
              "    </tr>\n",
              "  </thead>\n",
              "  <tbody>\n",
              "    <tr>\n",
              "      <th>8669</th>\n",
              "      <td>1990-01-01</td>\n",
              "      <td>0.0</td>\n",
              "      <td>NaN</td>\n",
              "      <td>14.0</td>\n",
              "      <td>-10.0</td>\n",
              "      <td>1990</td>\n",
              "      <td>1</td>\n",
              "      <td>1</td>\n",
              "      <td>1990.002740</td>\n",
              "    </tr>\n",
              "    <tr>\n",
              "      <th>8670</th>\n",
              "      <td>1990-01-02</td>\n",
              "      <td>0.0</td>\n",
              "      <td>1.6</td>\n",
              "      <td>13.5</td>\n",
              "      <td>-4.5</td>\n",
              "      <td>1990</td>\n",
              "      <td>1</td>\n",
              "      <td>2</td>\n",
              "      <td>1990.005479</td>\n",
              "    </tr>\n",
              "    <tr>\n",
              "      <th>8671</th>\n",
              "      <td>1990-01-03</td>\n",
              "      <td>0.0</td>\n",
              "      <td>1.2</td>\n",
              "      <td>15.0</td>\n",
              "      <td>-4.0</td>\n",
              "      <td>1990</td>\n",
              "      <td>1</td>\n",
              "      <td>3</td>\n",
              "      <td>1990.008219</td>\n",
              "    </tr>\n",
              "    <tr>\n",
              "      <th>8672</th>\n",
              "      <td>1990-01-04</td>\n",
              "      <td>0.0</td>\n",
              "      <td>NaN</td>\n",
              "      <td>13.0</td>\n",
              "      <td>-2.5</td>\n",
              "      <td>1990</td>\n",
              "      <td>1</td>\n",
              "      <td>4</td>\n",
              "      <td>1990.010959</td>\n",
              "    </tr>\n",
              "    <tr>\n",
              "      <th>8673</th>\n",
              "      <td>1990-01-05</td>\n",
              "      <td>0.0</td>\n",
              "      <td>NaN</td>\n",
              "      <td>12.0</td>\n",
              "      <td>-2.5</td>\n",
              "      <td>1990</td>\n",
              "      <td>1</td>\n",
              "      <td>5</td>\n",
              "      <td>1990.013699</td>\n",
              "    </tr>\n",
              "    <tr>\n",
              "      <th>...</th>\n",
              "      <td>...</td>\n",
              "      <td>...</td>\n",
              "      <td>...</td>\n",
              "      <td>...</td>\n",
              "      <td>...</td>\n",
              "      <td>...</td>\n",
              "      <td>...</td>\n",
              "      <td>...</td>\n",
              "      <td>...</td>\n",
              "    </tr>\n",
              "    <tr>\n",
              "      <th>16058</th>\n",
              "      <td>2010-06-26</td>\n",
              "      <td>0.0</td>\n",
              "      <td>10.8</td>\n",
              "      <td>33.0</td>\n",
              "      <td>14.5</td>\n",
              "      <td>2010</td>\n",
              "      <td>6</td>\n",
              "      <td>26</td>\n",
              "      <td>2010.482192</td>\n",
              "    </tr>\n",
              "    <tr>\n",
              "      <th>16059</th>\n",
              "      <td>2010-06-27</td>\n",
              "      <td>0.0</td>\n",
              "      <td>10.8</td>\n",
              "      <td>34.5</td>\n",
              "      <td>15.0</td>\n",
              "      <td>2010</td>\n",
              "      <td>6</td>\n",
              "      <td>27</td>\n",
              "      <td>2010.484932</td>\n",
              "    </tr>\n",
              "    <tr>\n",
              "      <th>16060</th>\n",
              "      <td>2010-06-28</td>\n",
              "      <td>0.0</td>\n",
              "      <td>10.3</td>\n",
              "      <td>35.5</td>\n",
              "      <td>13.0</td>\n",
              "      <td>2010</td>\n",
              "      <td>6</td>\n",
              "      <td>28</td>\n",
              "      <td>2010.487671</td>\n",
              "    </tr>\n",
              "    <tr>\n",
              "      <th>16061</th>\n",
              "      <td>2010-06-29</td>\n",
              "      <td>0.0</td>\n",
              "      <td>11.6</td>\n",
              "      <td>38.0</td>\n",
              "      <td>13.5</td>\n",
              "      <td>2010</td>\n",
              "      <td>6</td>\n",
              "      <td>29</td>\n",
              "      <td>2010.490411</td>\n",
              "    </tr>\n",
              "    <tr>\n",
              "      <th>16062</th>\n",
              "      <td>2010-06-30</td>\n",
              "      <td>0.0</td>\n",
              "      <td>12.6</td>\n",
              "      <td>38.0</td>\n",
              "      <td>18.0</td>\n",
              "      <td>2010</td>\n",
              "      <td>6</td>\n",
              "      <td>30</td>\n",
              "      <td>2010.493151</td>\n",
              "    </tr>\n",
              "  </tbody>\n",
              "</table>\n",
              "<p>7394 rows × 9 columns</p>\n",
              "</div>"
            ],
            "text/plain": [
              "           Fecha  Precip  Evap  Tmax  Tmin   Año  Mes  Dia   AñoDecimal\n",
              "8669  1990-01-01     0.0   NaN  14.0 -10.0  1990    1    1  1990.002740\n",
              "8670  1990-01-02     0.0   1.6  13.5  -4.5  1990    1    2  1990.005479\n",
              "8671  1990-01-03     0.0   1.2  15.0  -4.0  1990    1    3  1990.008219\n",
              "8672  1990-01-04     0.0   NaN  13.0  -2.5  1990    1    4  1990.010959\n",
              "8673  1990-01-05     0.0   NaN  12.0  -2.5  1990    1    5  1990.013699\n",
              "...          ...     ...   ...   ...   ...   ...  ...  ...          ...\n",
              "16058 2010-06-26     0.0  10.8  33.0  14.5  2010    6   26  2010.482192\n",
              "16059 2010-06-27     0.0  10.8  34.5  15.0  2010    6   27  2010.484932\n",
              "16060 2010-06-28     0.0  10.3  35.5  13.0  2010    6   28  2010.487671\n",
              "16061 2010-06-29     0.0  11.6  38.0  13.5  2010    6   29  2010.490411\n",
              "16062 2010-06-30     0.0  12.6  38.0  18.0  2010    6   30  2010.493151\n",
              "\n",
              "[7394 rows x 9 columns]"
            ]
          },
          "metadata": {
            "tags": []
          },
          "execution_count": 178
        }
      ]
    },
    {
      "cell_type": "code",
      "metadata": {
        "colab": {
          "base_uri": "https://localhost:8080/",
          "height": 295
        },
        "id": "gBQnZTSJnSaY",
        "outputId": "4e7e7110-a221-43e4-b2f5-ebc4f107aa8a"
      },
      "source": [
        "# Graficamos nuesetros datos\r\n",
        "plt.plot(df_90_2['AñoDecimal'],df_90_2['Tmax'],df_90_2['AñoDecimal'],df_90_2['Tmin'])\r\n",
        "plt.grid()\r\n",
        "plt.title('Tmax y Tmin a través de los años en Yécora')\r\n",
        "plt.xlabel('x')\r\n",
        "plt.ylabel('y')\r\n",
        "plt.show()"
      ],
      "execution_count": 186,
      "outputs": [
        {
          "output_type": "display_data",
          "data": {
            "image/png": "[encoded data removed]",
            "text/plain": [
              "<Figure size 432x288 with 1 Axes>"
            ]
          },
          "metadata": {
            "tags": [],
            "needs_background": "light"
          }
        }
      ]
    },
    {
      "cell_type": "code",
      "metadata": {
        "colab": {
          "base_uri": "https://localhost:8080/"
        },
        "id": "ZTQt3bgro9JD",
        "outputId": "28ac4d90-9ac6-4fb4-a032-ec7a86124c08"
      },
      "source": [
        "# Regresión para Tmax\r\n",
        "N = 7394\r\n",
        "x = np.arange(0,N)\r\n",
        "y = df_90_2['Tmax']\r\n",
        "\r\n",
        "# Creamos la matriz X, con 1's en la primera columna y los puntos x_k en la segunda.\r\n",
        "X = np.column_stack([np.ones(N),x])\r\n",
        "print('Shape:', X.shape)\r\n",
        "# Imprimimos los primeros 5 renglones para verificar\r\n",
        "print(X[:5,:])"
      ],
      "execution_count": 208,
      "outputs": [
        {
          "output_type": "stream",
          "text": [
            "Shape: (7394, 2)\n",
            "[[1. 0.]\n",
            " [1. 1.]\n",
            " [1. 2.]\n",
            " [1. 3.]\n",
            " [1. 4.]]\n"
          ],
          "name": "stdout"
        }
      ]
    },
    {
      "cell_type": "code",
      "metadata": {
        "colab": {
          "base_uri": "https://localhost:8080/"
        },
        "id": "FkY2-cjArcAh",
        "outputId": "9fa7839f-a73d-422c-c48a-8608a052874c"
      },
      "source": [
        "y.ffill(axis = 0, inplace=True) \r\n"
      ],
      "execution_count": 209,
      "outputs": [
        {
          "output_type": "stream",
          "text": [
            "/usr/local/lib/python3.7/dist-packages/pandas/core/series.py:4536: SettingWithCopyWarning: \n",
            "A value is trying to be set on a copy of a slice from a DataFrame\n",
            "\n",
            "See the caveats in the documentation: https://pandas.pydata.org/pandas-docs/stable/user_guide/indexing.html#returning-a-view-versus-a-copy\n",
            "  downcast=downcast,\n"
          ],
          "name": "stderr"
        }
      ]
    },
    {
      "cell_type": "code",
      "metadata": {
        "colab": {
          "base_uri": "https://localhost:8080/"
        },
        "id": "B_IfPdxhqp5O",
        "outputId": "b8a3f46a-1f09-4de3-eb67-d6ba73a21933"
      },
      "source": [
        "# Usamos la función scipy.linalg.solve() para resolver la ecuación X.T@X@a = X.T@y respecto a 'a'\r\n",
        "a = la.solve(X.T @ X, X.T @ y)\r\n",
        "print(a)"
      ],
      "execution_count": 210,
      "outputs": [
        {
          "output_type": "stream",
          "text": [
            "[2.27376442e+01 5.46860882e-04]\n"
          ],
          "name": "stdout"
        }
      ]
    },
    {
      "cell_type": "code",
      "metadata": {
        "colab": {
          "base_uri": "https://localhost:8080/",
          "height": 295
        },
        "id": "bYjw87eKruvV",
        "outputId": "eb15ffc7-5cc4-4fc7-bb6b-d9c31f18b143"
      },
      "source": [
        "# Graficamos el ajuste con esos 2 coeficientes de la regresión y = a_0 + a_1 x \r\n",
        "xs = np.linspace(0,N,10)\r\n",
        "ys = a[0] + a[1]*xs\r\n",
        "plt.plot(xs,ys,'r',linewidth=4)\r\n",
        "plt.scatter(x,y);\r\n",
        "plt.grid()\r\n",
        "plt.title('Ajuste mediante Regresión Lineal de los datos')\r\n",
        "plt.xlabel('x')\r\n",
        "plt.ylabel('y')\r\n",
        "plt.show()"
      ],
      "execution_count": 220,
      "outputs": [
        {
          "output_type": "display_data",
          "data": {
            "image/png": "[encoded data removed]",
            "text/plain": [
              "<Figure size 432x288 with 1 Axes>"
            ]
          },
          "metadata": {
            "tags": [],
            "needs_background": "light"
          }
        }
      ]
    },
    {
      "cell_type": "code",
      "metadata": {
        "id": "Rnrr_MHduvL-"
      },
      "source": [
        ""
      ],
      "execution_count": null,
      "outputs": []
    },
    {
      "cell_type": "code",
      "metadata": {
        "colab": {
          "base_uri": "https://localhost:8080/"
        },
        "id": "GhJ_qc-tu2zU",
        "outputId": "01e25604-8fb2-415b-93c3-13e3cadd3109"
      },
      "source": [
        "# Regresión para Tmax\r\n",
        "N = 7394\r\n",
        "x2 = np.arange(0,N)\r\n",
        "y2 = df_90_2['Tmin']\r\n",
        "\r\n",
        "# Creamos la matriz X, con 1's en la primera columna y los puntos x_k en la segunda.\r\n",
        "X2 = np.column_stack([np.ones(N),x2])\r\n",
        "print('Shape:', X2.shape)\r\n",
        "# Imprimimos los primeros 5 renglones para verificar\r\n",
        "print(X2[:5,:])"
      ],
      "execution_count": 216,
      "outputs": [
        {
          "output_type": "stream",
          "text": [
            "Shape: (7394, 2)\n",
            "[[1. 0.]\n",
            " [1. 1.]\n",
            " [1. 2.]\n",
            " [1. 3.]\n",
            " [1. 4.]]\n"
          ],
          "name": "stdout"
        }
      ]
    },
    {
      "cell_type": "code",
      "metadata": {
        "colab": {
          "base_uri": "https://localhost:8080/"
        },
        "id": "BsmlAzIgu2zV",
        "outputId": "9fa7839f-a73d-422c-c48a-8608a052874c"
      },
      "source": [
        "y2.ffill(axis = 0, inplace=True) \r\n"
      ],
      "execution_count": null,
      "outputs": [
        {
          "output_type": "stream",
          "text": [
            "/usr/local/lib/python3.7/dist-packages/pandas/core/series.py:4536: SettingWithCopyWarning: \n",
            "A value is trying to be set on a copy of a slice from a DataFrame\n",
            "\n",
            "See the caveats in the documentation: https://pandas.pydata.org/pandas-docs/stable/user_guide/indexing.html#returning-a-view-versus-a-copy\n",
            "  downcast=downcast,\n"
          ],
          "name": "stderr"
        }
      ]
    },
    {
      "cell_type": "code",
      "metadata": {
        "colab": {
          "base_uri": "https://localhost:8080/"
        },
        "id": "OVLLGODju2zW",
        "outputId": "384aadd7-2618-46a1-ce0a-1b9cf9206e9f"
      },
      "source": [
        "# Usamos la función scipy.linalg.solve() para resolver la ecuación X.T@X@a = X.T@y respecto a 'a'\r\n",
        "a = la.solve(X2.T @ X2, X2.T @ y2)\r\n",
        "print(a)"
      ],
      "execution_count": 217,
      "outputs": [
        {
          "output_type": "stream",
          "text": [
            "[3.62672851e+00 1.98726222e-04]\n"
          ],
          "name": "stdout"
        }
      ]
    },
    {
      "cell_type": "code",
      "metadata": {
        "colab": {
          "base_uri": "https://localhost:8080/",
          "height": 295
        },
        "id": "Vmpd1ltQu2zW",
        "outputId": "7dc284c2-cdce-42c5-abef-a8650eb08bd4"
      },
      "source": [
        "# Graficamos el ajuste con esos 2 coeficientes de la regresión y = a_0 + a_1 x \r\n",
        "xs2 = np.linspace(0,N,10)\r\n",
        "ys2 = a[0] + a[1]*xs\r\n",
        "plt.plot(xs2,ys2,'r',linewidth=4)\r\n",
        "plt.scatter(x2,y2);\r\n",
        "plt.grid()\r\n",
        "plt.title('Ajuste mediante Regresión Lineal de los datos')\r\n",
        "plt.xlabel('x')\r\n",
        "plt.ylabel('y')\r\n",
        "plt.show()"
      ],
      "execution_count": 219,
      "outputs": [
        {
          "output_type": "display_data",
          "data": {
            "image/png": "[encoded data removed]",
            "text/plain": [
              "<Figure size 432x288 with 1 Axes>"
            ]
          },
          "metadata": {
            "tags": [],
            "needs_background": "light"
          }
        }
      ]
    }
  ]
}